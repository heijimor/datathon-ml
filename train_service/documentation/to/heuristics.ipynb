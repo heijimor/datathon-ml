{
 "cells": [
  {
   "cell_type": "code",
   "execution_count": 1,
   "id": "0c26c0a4",
   "metadata": {
    "execution": {
     "iopub.execute_input": "2025-02-25T00:03:06.640111Z",
     "iopub.status.busy": "2025-02-25T00:03:06.639303Z",
     "iopub.status.idle": "2025-02-25T00:03:06.649943Z",
     "shell.execute_reply": "2025-02-25T00:03:06.647955Z"
    },
    "jupyter": {
     "source_hidden": true
    },
    "papermill": {
     "duration": 0.027288,
     "end_time": "2025-02-25T00:03:06.653436",
     "exception": false,
     "start_time": "2025-02-25T00:03:06.626148",
     "status": "completed"
    },
    "tags": [
     "injected-parameters"
    ]
   },
   "outputs": [],
   "source": [
    "# Parameters\n",
    "param1 = \"value1\"\n"
   ]
  },
  {
   "cell_type": "code",
   "execution_count": 2,
   "id": "838fcbdb",
   "metadata": {
    "execution": {
     "iopub.execute_input": "2025-02-25T00:03:06.672469Z",
     "iopub.status.busy": "2025-02-25T00:03:06.671940Z",
     "iopub.status.idle": "2025-02-25T00:03:07.095067Z",
     "shell.execute_reply": "2025-02-25T00:03:07.094578Z"
    },
    "jupyter": {
     "source_hidden": true
    },
    "papermill": {
     "duration": 0.433625,
     "end_time": "2025-02-25T00:03:07.095985",
     "exception": false,
     "start_time": "2025-02-25T00:03:06.662360",
     "status": "completed"
    },
    "tags": []
   },
   "outputs": [],
   "source": [
    "import pandas as pd\n",
    "import glob"
   ]
  },
  {
   "cell_type": "markdown",
   "id": "45533f8a",
   "metadata": {
    "papermill": {
     "duration": 0.00159,
     "end_time": "2025-02-25T00:03:07.099483",
     "exception": false,
     "start_time": "2025-02-25T00:03:07.097893",
     "status": "completed"
    },
    "tags": []
   },
   "source": [
    "##### Unificando tabelas de treino e checando merge"
   ]
  },
  {
   "cell_type": "code",
   "execution_count": 3,
   "id": "528a718a",
   "metadata": {
    "execution": {
     "iopub.execute_input": "2025-02-25T00:03:07.103407Z",
     "iopub.status.busy": "2025-02-25T00:03:07.103231Z",
     "iopub.status.idle": "2025-02-25T00:03:13.434274Z",
     "shell.execute_reply": "2025-02-25T00:03:13.433781Z"
    },
    "jupyter": {
     "source_hidden": true
    },
    "papermill": {
     "duration": 6.334141,
     "end_time": "2025-02-25T00:03:13.435255",
     "exception": false,
     "start_time": "2025-02-25T00:03:07.101114",
     "status": "completed"
    },
    "tags": []
   },
   "outputs": [],
   "source": [
    "csv_files = glob.glob(\"/usr/local/airflow/data/files/treino/treino_parte*.csv\")\n",
    "df = pd.concat([pd.read_csv(file) for file in csv_files], ignore_index=True)\n",
    "ranking = 5\n"
   ]
  },
  {
   "cell_type": "code",
   "execution_count": 4,
   "id": "bfc8f2a5",
   "metadata": {
    "execution": {
     "iopub.execute_input": "2025-02-25T00:03:13.540135Z",
     "iopub.status.busy": "2025-02-25T00:03:13.539404Z",
     "iopub.status.idle": "2025-02-25T00:03:13.558451Z",
     "shell.execute_reply": "2025-02-25T00:03:13.557928Z"
    },
    "jupyter": {
     "source_hidden": true
    },
    "papermill": {
     "duration": 0.120798,
     "end_time": "2025-02-25T00:03:13.559058",
     "exception": false,
     "start_time": "2025-02-25T00:03:13.438260",
     "status": "completed"
    },
    "tags": []
   },
   "outputs": [
    {
     "data": {
      "text/plain": [
       "577942"
      ]
     },
     "execution_count": 4,
     "metadata": {},
     "output_type": "execute_result"
    }
   ],
   "source": [
    "len(df)"
   ]
  },
  {
   "cell_type": "markdown",
   "id": "66706b48",
   "metadata": {
    "papermill": {
     "duration": 0.013331,
     "end_time": "2025-02-25T00:03:13.574309",
     "exception": false,
     "start_time": "2025-02-25T00:03:13.560978",
     "status": "completed"
    },
    "tags": []
   },
   "source": [
    "##### Verificando valores nulos"
   ]
  },
  {
   "cell_type": "code",
   "execution_count": 5,
   "id": "d3625e34",
   "metadata": {
    "execution": {
     "iopub.execute_input": "2025-02-25T00:03:13.596002Z",
     "iopub.status.busy": "2025-02-25T00:03:13.595314Z",
     "iopub.status.idle": "2025-02-25T00:03:13.800549Z",
     "shell.execute_reply": "2025-02-25T00:03:13.799535Z"
    },
    "jupyter": {
     "source_hidden": true
    },
    "papermill": {
     "duration": 0.218276,
     "end_time": "2025-02-25T00:03:13.801837",
     "exception": false,
     "start_time": "2025-02-25T00:03:13.583561",
     "status": "completed"
    },
    "tags": []
   },
   "outputs": [
    {
     "data": {
      "text/plain": [
       "(userId                     0\n",
       " userType                   0\n",
       " historySize                0\n",
       " history                    0\n",
       " timestampHistory           0\n",
       " numberOfClicksHistory      0\n",
       " timeOnPageHistory          0\n",
       " scrollPercentageHistory    0\n",
       " pageVisitsCountHistory     0\n",
       " timestampHistory_new       0\n",
       " dtype: int64,)"
      ]
     },
     "execution_count": 5,
     "metadata": {},
     "output_type": "execute_result"
    }
   ],
   "source": [
    "df.isnull().sum(),"
   ]
  },
  {
   "cell_type": "markdown",
   "id": "d0e1e02c",
   "metadata": {
    "papermill": {
     "duration": 0.002203,
     "end_time": "2025-02-25T00:03:13.807629",
     "exception": false,
     "start_time": "2025-02-25T00:03:13.805426",
     "status": "completed"
    },
    "tags": []
   },
   "source": [
    "##### Maiores historySize - Quantidade de notícias lidas pelo usuário"
   ]
  },
  {
   "cell_type": "code",
   "execution_count": 6,
   "id": "e3e7b146",
   "metadata": {
    "execution": {
     "iopub.execute_input": "2025-02-25T00:03:13.818508Z",
     "iopub.status.busy": "2025-02-25T00:03:13.818366Z",
     "iopub.status.idle": "2025-02-25T00:03:14.058740Z",
     "shell.execute_reply": "2025-02-25T00:03:14.058270Z"
    },
    "jupyter": {
     "source_hidden": true
    },
    "papermill": {
     "duration": 0.243368,
     "end_time": "2025-02-25T00:03:14.059445",
     "exception": false,
     "start_time": "2025-02-25T00:03:13.816077",
     "status": "completed"
    },
    "tags": []
   },
   "outputs": [
    {
     "data": {
      "text/html": [
       "<div>\n",
       "<style scoped>\n",
       "    .dataframe tbody tr th:only-of-type {\n",
       "        vertical-align: middle;\n",
       "    }\n",
       "\n",
       "    .dataframe tbody tr th {\n",
       "        vertical-align: top;\n",
       "    }\n",
       "\n",
       "    .dataframe thead th {\n",
       "        text-align: right;\n",
       "    }\n",
       "</style>\n",
       "<table border=\"1\" class=\"dataframe\">\n",
       "  <thead>\n",
       "    <tr style=\"text-align: right;\">\n",
       "      <th></th>\n",
       "      <th>userId</th>\n",
       "      <th>userType</th>\n",
       "      <th>historySize</th>\n",
       "    </tr>\n",
       "  </thead>\n",
       "  <tbody>\n",
       "    <tr>\n",
       "      <th>533750</th>\n",
       "      <td>1b9bf55cf5c0d7ba34e8925dbbc98da17c5ab360d907c5...</td>\n",
       "      <td>Non-Logged</td>\n",
       "      <td>7004</td>\n",
       "    </tr>\n",
       "    <tr>\n",
       "      <th>247719</th>\n",
       "      <td>1f7a8e71d6d871e6a77f193c0cece8a6ebcd304dcfddcc...</td>\n",
       "      <td>Logged</td>\n",
       "      <td>5907</td>\n",
       "    </tr>\n",
       "    <tr>\n",
       "      <th>151786</th>\n",
       "      <td>83a2ba48f07e49f33ef4aa3ceb90933f9adff1ddb6ed16...</td>\n",
       "      <td>Non-Logged</td>\n",
       "      <td>4914</td>\n",
       "    </tr>\n",
       "    <tr>\n",
       "      <th>486620</th>\n",
       "      <td>d3b82a1305105bcaaa646d2da1e97b6935deddbcfbd12b...</td>\n",
       "      <td>Logged</td>\n",
       "      <td>3580</td>\n",
       "    </tr>\n",
       "    <tr>\n",
       "      <th>36184</th>\n",
       "      <td>9d176e2202250e7925b17eae0978eee726f8ff9372e45c...</td>\n",
       "      <td>Non-Logged</td>\n",
       "      <td>3318</td>\n",
       "    </tr>\n",
       "  </tbody>\n",
       "</table>\n",
       "</div>"
      ],
      "text/plain": [
       "                                                   userId    userType  \\\n",
       "533750  1b9bf55cf5c0d7ba34e8925dbbc98da17c5ab360d907c5...  Non-Logged   \n",
       "247719  1f7a8e71d6d871e6a77f193c0cece8a6ebcd304dcfddcc...      Logged   \n",
       "151786  83a2ba48f07e49f33ef4aa3ceb90933f9adff1ddb6ed16...  Non-Logged   \n",
       "486620  d3b82a1305105bcaaa646d2da1e97b6935deddbcfbd12b...      Logged   \n",
       "36184   9d176e2202250e7925b17eae0978eee726f8ff9372e45c...  Non-Logged   \n",
       "\n",
       "        historySize  \n",
       "533750         7004  \n",
       "247719         5907  \n",
       "151786         4914  \n",
       "486620         3580  \n",
       "36184          3318  "
      ]
     },
     "execution_count": 6,
     "metadata": {},
     "output_type": "execute_result"
    }
   ],
   "source": [
    "df_sorted = df.sort_values(by=[\"historySize\"], ascending=False)\n",
    "df_sorted[['userId', \"userType\", 'historySize']].head(ranking)"
   ]
  },
  {
   "cell_type": "markdown",
   "id": "7a949cb4",
   "metadata": {
    "papermill": {
     "duration": 0.001963,
     "end_time": "2025-02-25T00:03:14.063559",
     "exception": false,
     "start_time": "2025-02-25T00:03:14.061596",
     "status": "completed"
    },
    "tags": []
   },
   "source": [
    "##### Maiores scrollPercentageHistory - Quanto o usuário visualizou a matéria"
   ]
  },
  {
   "cell_type": "code",
   "execution_count": 7,
   "id": "e5fb5956",
   "metadata": {
    "execution": {
     "iopub.execute_input": "2025-02-25T00:03:14.068204Z",
     "iopub.status.busy": "2025-02-25T00:03:14.067986Z",
     "iopub.status.idle": "2025-02-25T00:03:17.335527Z",
     "shell.execute_reply": "2025-02-25T00:03:17.335105Z"
    },
    "jupyter": {
     "source_hidden": true
    },
    "papermill": {
     "duration": 3.270789,
     "end_time": "2025-02-25T00:03:17.336306",
     "exception": false,
     "start_time": "2025-02-25T00:03:14.065517",
     "status": "completed"
    },
    "tags": []
   },
   "outputs": [
    {
     "data": {
      "text/html": [
       "<div>\n",
       "<style scoped>\n",
       "    .dataframe tbody tr th:only-of-type {\n",
       "        vertical-align: middle;\n",
       "    }\n",
       "\n",
       "    .dataframe tbody tr th {\n",
       "        vertical-align: top;\n",
       "    }\n",
       "\n",
       "    .dataframe thead th {\n",
       "        text-align: right;\n",
       "    }\n",
       "</style>\n",
       "<table border=\"1\" class=\"dataframe\">\n",
       "  <thead>\n",
       "    <tr style=\"text-align: right;\">\n",
       "      <th></th>\n",
       "      <th>userId</th>\n",
       "      <th>userType</th>\n",
       "      <th>total_scroll_percentage_history</th>\n",
       "    </tr>\n",
       "  </thead>\n",
       "  <tbody>\n",
       "    <tr>\n",
       "      <th>68873</th>\n",
       "      <td>cca2e866b5d825a7eeb3a287555534723efc0c0cf81234...</td>\n",
       "      <td>Logged</td>\n",
       "      <td>11751488.84</td>\n",
       "    </tr>\n",
       "    <tr>\n",
       "      <th>38931</th>\n",
       "      <td>4652330eeae47136b839bbc18c87884b0e887087503f27...</td>\n",
       "      <td>Non-Logged</td>\n",
       "      <td>11405887.41</td>\n",
       "    </tr>\n",
       "    <tr>\n",
       "      <th>479107</th>\n",
       "      <td>f31d834f7c2b054f1c6f969c454c648e683703e52feeb5...</td>\n",
       "      <td>Logged</td>\n",
       "      <td>7829810.85</td>\n",
       "    </tr>\n",
       "    <tr>\n",
       "      <th>422557</th>\n",
       "      <td>3c4e2fe5aa28a81ac83742d643dc23e02470b02cee1b73...</td>\n",
       "      <td>Logged</td>\n",
       "      <td>5095827.05</td>\n",
       "    </tr>\n",
       "    <tr>\n",
       "      <th>222578</th>\n",
       "      <td>bdc76c1d65785651012c6ea4d46b7702142152a9c5cd36...</td>\n",
       "      <td>Non-Logged</td>\n",
       "      <td>3812727.20</td>\n",
       "    </tr>\n",
       "  </tbody>\n",
       "</table>\n",
       "</div>"
      ],
      "text/plain": [
       "                                                   userId    userType  \\\n",
       "68873   cca2e866b5d825a7eeb3a287555534723efc0c0cf81234...      Logged   \n",
       "38931   4652330eeae47136b839bbc18c87884b0e887087503f27...  Non-Logged   \n",
       "479107  f31d834f7c2b054f1c6f969c454c648e683703e52feeb5...      Logged   \n",
       "422557  3c4e2fe5aa28a81ac83742d643dc23e02470b02cee1b73...      Logged   \n",
       "222578  bdc76c1d65785651012c6ea4d46b7702142152a9c5cd36...  Non-Logged   \n",
       "\n",
       "        total_scroll_percentage_history  \n",
       "68873                       11751488.84  \n",
       "38931                       11405887.41  \n",
       "479107                       7829810.85  \n",
       "422557                       5095827.05  \n",
       "222578                       3812727.20  "
      ]
     },
     "execution_count": 7,
     "metadata": {},
     "output_type": "execute_result"
    }
   ],
   "source": [
    "df[\"scrollPercentageHistory\"] = df[\"scrollPercentageHistory\"].apply(\n",
    "    lambda x: list(map(float, str(x).split(\", \"))) if pd.notna(x) and isinstance(x, str) else []\n",
    ")\n",
    "df[\"total_scroll_percentage_history\"] = df[\"scrollPercentageHistory\"].apply(sum)\n",
    "df_sorted = df.sort_values(by=[\"total_scroll_percentage_history\"], ascending=False)\n",
    "df_sorted[[\"userId\", \"userType\", \"total_scroll_percentage_history\"]].head(ranking)\n"
   ]
  },
  {
   "cell_type": "markdown",
   "id": "d24111f6",
   "metadata": {
    "papermill": {
     "duration": 0.002041,
     "end_time": "2025-02-25T00:03:17.340463",
     "exception": false,
     "start_time": "2025-02-25T00:03:17.338422",
     "status": "completed"
    },
    "tags": []
   },
   "source": [
    "##### Maiores pageVisitsCountHistory - Quantidade de vezes que o usuário visitou a matéria"
   ]
  },
  {
   "cell_type": "code",
   "execution_count": 8,
   "id": "3112107b",
   "metadata": {
    "execution": {
     "iopub.execute_input": "2025-02-25T00:03:17.345165Z",
     "iopub.status.busy": "2025-02-25T00:03:17.344955Z",
     "iopub.status.idle": "2025-02-25T00:03:19.723411Z",
     "shell.execute_reply": "2025-02-25T00:03:19.723011Z"
    },
    "jupyter": {
     "source_hidden": true
    },
    "papermill": {
     "duration": 2.381705,
     "end_time": "2025-02-25T00:03:19.724196",
     "exception": false,
     "start_time": "2025-02-25T00:03:17.342491",
     "status": "completed"
    },
    "tags": []
   },
   "outputs": [
    {
     "data": {
      "text/html": [
       "<div>\n",
       "<style scoped>\n",
       "    .dataframe tbody tr th:only-of-type {\n",
       "        vertical-align: middle;\n",
       "    }\n",
       "\n",
       "    .dataframe tbody tr th {\n",
       "        vertical-align: top;\n",
       "    }\n",
       "\n",
       "    .dataframe thead th {\n",
       "        text-align: right;\n",
       "    }\n",
       "</style>\n",
       "<table border=\"1\" class=\"dataframe\">\n",
       "  <thead>\n",
       "    <tr style=\"text-align: right;\">\n",
       "      <th></th>\n",
       "      <th>userId</th>\n",
       "      <th>userType</th>\n",
       "      <th>total_visits_count</th>\n",
       "    </tr>\n",
       "  </thead>\n",
       "  <tbody>\n",
       "    <tr>\n",
       "      <th>247719</th>\n",
       "      <td>1f7a8e71d6d871e6a77f193c0cece8a6ebcd304dcfddcc...</td>\n",
       "      <td>Logged</td>\n",
       "      <td>8662</td>\n",
       "    </tr>\n",
       "    <tr>\n",
       "      <th>533750</th>\n",
       "      <td>1b9bf55cf5c0d7ba34e8925dbbc98da17c5ab360d907c5...</td>\n",
       "      <td>Non-Logged</td>\n",
       "      <td>7923</td>\n",
       "    </tr>\n",
       "    <tr>\n",
       "      <th>486620</th>\n",
       "      <td>d3b82a1305105bcaaa646d2da1e97b6935deddbcfbd12b...</td>\n",
       "      <td>Logged</td>\n",
       "      <td>7874</td>\n",
       "    </tr>\n",
       "    <tr>\n",
       "      <th>151786</th>\n",
       "      <td>83a2ba48f07e49f33ef4aa3ceb90933f9adff1ddb6ed16...</td>\n",
       "      <td>Non-Logged</td>\n",
       "      <td>7291</td>\n",
       "    </tr>\n",
       "    <tr>\n",
       "      <th>271499</th>\n",
       "      <td>457cfacfd37c50ed3d1bc21106d21830ed66c144d8608f...</td>\n",
       "      <td>Logged</td>\n",
       "      <td>7261</td>\n",
       "    </tr>\n",
       "  </tbody>\n",
       "</table>\n",
       "</div>"
      ],
      "text/plain": [
       "                                                   userId    userType  \\\n",
       "247719  1f7a8e71d6d871e6a77f193c0cece8a6ebcd304dcfddcc...      Logged   \n",
       "533750  1b9bf55cf5c0d7ba34e8925dbbc98da17c5ab360d907c5...  Non-Logged   \n",
       "486620  d3b82a1305105bcaaa646d2da1e97b6935deddbcfbd12b...      Logged   \n",
       "151786  83a2ba48f07e49f33ef4aa3ceb90933f9adff1ddb6ed16...  Non-Logged   \n",
       "271499  457cfacfd37c50ed3d1bc21106d21830ed66c144d8608f...      Logged   \n",
       "\n",
       "        total_visits_count  \n",
       "247719                8662  \n",
       "533750                7923  \n",
       "486620                7874  \n",
       "151786                7291  \n",
       "271499                7261  "
      ]
     },
     "execution_count": 8,
     "metadata": {},
     "output_type": "execute_result"
    }
   ],
   "source": [
    "df_sorted = df.sort_values(by=[\"pageVisitsCountHistory\"], ascending=False)\n",
    "df_sorted[['pageVisitsCountHistory']].head(ranking)\n",
    "\n",
    "\n",
    "df[\"pageVisitsCountHistory\"] = df[\"pageVisitsCountHistory\"].apply(lambda x: list(map(int, str(x).split(\", \"))))\n",
    "df[\"total_visits_count\"] = df[\"pageVisitsCountHistory\"].apply(sum)\n",
    "df_sorted = df.sort_values(by=[\"total_visits_count\"], ascending=False)\n",
    "df_sorted[[\"userId\", \"userType\", \"total_visits_count\"]].head(ranking)\n"
   ]
  },
  {
   "cell_type": "markdown",
   "id": "ce27d633",
   "metadata": {
    "papermill": {
     "duration": 0.00205,
     "end_time": "2025-02-25T00:03:19.728519",
     "exception": false,
     "start_time": "2025-02-25T00:03:19.726469",
     "status": "completed"
    },
    "tags": []
   },
   "source": [
    "##### Maiores numberOfClicksHistory - Quantidade de clicks na matéria"
   ]
  },
  {
   "cell_type": "code",
   "execution_count": 9,
   "id": "2320d907",
   "metadata": {
    "execution": {
     "iopub.execute_input": "2025-02-25T00:03:19.733371Z",
     "iopub.status.busy": "2025-02-25T00:03:19.733232Z",
     "iopub.status.idle": "2025-02-25T00:03:21.638782Z",
     "shell.execute_reply": "2025-02-25T00:03:21.638383Z"
    },
    "jupyter": {
     "source_hidden": true
    },
    "papermill": {
     "duration": 1.908919,
     "end_time": "2025-02-25T00:03:21.639495",
     "exception": false,
     "start_time": "2025-02-25T00:03:19.730576",
     "status": "completed"
    },
    "tags": []
   },
   "outputs": [
    {
     "data": {
      "text/html": [
       "<div>\n",
       "<style scoped>\n",
       "    .dataframe tbody tr th:only-of-type {\n",
       "        vertical-align: middle;\n",
       "    }\n",
       "\n",
       "    .dataframe tbody tr th {\n",
       "        vertical-align: top;\n",
       "    }\n",
       "\n",
       "    .dataframe thead th {\n",
       "        text-align: right;\n",
       "    }\n",
       "</style>\n",
       "<table border=\"1\" class=\"dataframe\">\n",
       "  <thead>\n",
       "    <tr style=\"text-align: right;\">\n",
       "      <th></th>\n",
       "      <th>userId</th>\n",
       "      <th>userType</th>\n",
       "      <th>total_clicks</th>\n",
       "    </tr>\n",
       "  </thead>\n",
       "  <tbody>\n",
       "    <tr>\n",
       "      <th>36184</th>\n",
       "      <td>9d176e2202250e7925b17eae0978eee726f8ff9372e45c...</td>\n",
       "      <td>Non-Logged</td>\n",
       "      <td>249762</td>\n",
       "    </tr>\n",
       "    <tr>\n",
       "      <th>334521</th>\n",
       "      <td>1518efc56a5fae0b5c39f63642d6328b4b78258593ed7a...</td>\n",
       "      <td>Non-Logged</td>\n",
       "      <td>105811</td>\n",
       "    </tr>\n",
       "    <tr>\n",
       "      <th>181734</th>\n",
       "      <td>f25eea1d43f1940495890092a0dd5d7fab439e2a44b4ee...</td>\n",
       "      <td>Non-Logged</td>\n",
       "      <td>104127</td>\n",
       "    </tr>\n",
       "    <tr>\n",
       "      <th>222479</th>\n",
       "      <td>e1c4dcde21fa30028f8f54d83a5c4f0ae22cdb6c1e5190...</td>\n",
       "      <td>Logged</td>\n",
       "      <td>98938</td>\n",
       "    </tr>\n",
       "    <tr>\n",
       "      <th>13918</th>\n",
       "      <td>259b0acfe1939ae84ccfd2c2534af29481e0a36d326423...</td>\n",
       "      <td>Non-Logged</td>\n",
       "      <td>83237</td>\n",
       "    </tr>\n",
       "  </tbody>\n",
       "</table>\n",
       "</div>"
      ],
      "text/plain": [
       "                                                   userId    userType  \\\n",
       "36184   9d176e2202250e7925b17eae0978eee726f8ff9372e45c...  Non-Logged   \n",
       "334521  1518efc56a5fae0b5c39f63642d6328b4b78258593ed7a...  Non-Logged   \n",
       "181734  f25eea1d43f1940495890092a0dd5d7fab439e2a44b4ee...  Non-Logged   \n",
       "222479  e1c4dcde21fa30028f8f54d83a5c4f0ae22cdb6c1e5190...      Logged   \n",
       "13918   259b0acfe1939ae84ccfd2c2534af29481e0a36d326423...  Non-Logged   \n",
       "\n",
       "        total_clicks  \n",
       "36184         249762  \n",
       "334521        105811  \n",
       "181734        104127  \n",
       "222479         98938  \n",
       "13918          83237  "
      ]
     },
     "execution_count": 9,
     "metadata": {},
     "output_type": "execute_result"
    }
   ],
   "source": [
    "df[\"numberOfClicksHistory\"] = df[\"numberOfClicksHistory\"].apply(lambda x: list(map(int, str(x).split(\", \"))))\n",
    "df[\"total_clicks\"] = df[\"numberOfClicksHistory\"].apply(sum)\n",
    "df_sorted = df.sort_values(by=[\"total_clicks\"], ascending=False)\n",
    "df_sorted[[\"userId\", \"userType\", \"total_clicks\"]].head(ranking)\n"
   ]
  },
  {
   "cell_type": "markdown",
   "id": "c8b93b33",
   "metadata": {
    "papermill": {
     "duration": 0.002501,
     "end_time": "2025-02-25T00:03:21.644360",
     "exception": false,
     "start_time": "2025-02-25T00:03:21.641859",
     "status": "completed"
    },
    "tags": []
   },
   "source": [
    "##### Número de usuários não logados e usuários logados"
   ]
  },
  {
   "cell_type": "code",
   "execution_count": 10,
   "id": "a375612f",
   "metadata": {
    "execution": {
     "iopub.execute_input": "2025-02-25T00:03:21.649409Z",
     "iopub.status.busy": "2025-02-25T00:03:21.649233Z",
     "iopub.status.idle": "2025-02-25T00:03:21.674173Z",
     "shell.execute_reply": "2025-02-25T00:03:21.673675Z"
    },
    "jupyter": {
     "source_hidden": true
    },
    "papermill": {
     "duration": 0.028394,
     "end_time": "2025-02-25T00:03:21.674949",
     "exception": false,
     "start_time": "2025-02-25T00:03:21.646555",
     "status": "completed"
    },
    "tags": []
   },
   "outputs": [
    {
     "name": "stdout",
     "output_type": "stream",
     "text": [
      "Logged: 119.086\n",
      "Non Logged: 458.856\n"
     ]
    }
   ],
   "source": [
    "user_type_counts = df[\"userType\"].value_counts()\n",
    "logged = user_type_counts.get('Logged', 0)\n",
    "non_logged = user_type_counts.get('Non-Logged', 0)\n",
    "\n",
    "formatted_logged = \"{:,.0f}\".format(logged).replace(\",\", \".\")\n",
    "formatted_non_logged = \"{:,.0f}\".format(non_logged).replace(\",\", \".\")\n",
    "\n",
    "print(f\"Logged: {formatted_logged}\")\n",
    "print(f\"Non Logged: {formatted_non_logged}\")"
   ]
  }
 ],
 "metadata": {
  "kernelspec": {
   "display_name": "Python 3",
   "language": "python",
   "name": "python3"
  },
  "language_info": {
   "codemirror_mode": {
    "name": "ipython",
    "version": 3
   },
   "file_extension": ".py",
   "mimetype": "text/x-python",
   "name": "python",
   "nbconvert_exporter": "python",
   "pygments_lexer": "ipython3",
   "version": "3.12.9"
  },
  "papermill": {
   "default_parameters": {},
   "duration": 17.775215,
   "end_time": "2025-02-25T00:03:22.894836",
   "environment_variables": {},
   "exception": null,
   "input_path": "/usr/local/airflow/documentation/heuristics.ipynb",
   "output_path": "/usr/local/airflow/documentation/to/heuristics.ipynb",
   "parameters": {
    "param1": "value1"
   },
   "start_time": "2025-02-25T00:03:05.119621",
   "version": "2.6.0"
  }
 },
 "nbformat": 4,
 "nbformat_minor": 5
}