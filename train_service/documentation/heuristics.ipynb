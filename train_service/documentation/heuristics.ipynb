{
 "cells": [
  {
   "cell_type": "code",
   "execution_count": null,
   "metadata": {},
   "outputs": [],
   "source": [
    "import pandas as pd\n",
    "import glob"
   ]
  },
  {
   "cell_type": "markdown",
   "metadata": {},
   "source": [
    "##### Unificando tabelas de treino e checando merge"
   ]
  },
  {
   "cell_type": "code",
   "execution_count": null,
   "metadata": {},
   "outputs": [],
   "source": [
    "csv_files = glob.glob(\"/usr/local/airflow/data/files/treino/treino_parte*.csv\")\n",
    "df = pd.concat([pd.read_csv(file) for file in csv_files], ignore_index=True)\n",
    "ranking = 5\n"
   ]
  },
  {
   "cell_type": "code",
   "execution_count": null,
   "metadata": {},
   "outputs": [],
   "source": [
    "len(df)"
   ]
  },
  {
   "cell_type": "markdown",
   "metadata": {},
   "source": [
    "##### Verificando valores nulos"
   ]
  },
  {
   "cell_type": "code",
   "execution_count": null,
   "metadata": {},
   "outputs": [],
   "source": [
    "df.isnull().sum(),"
   ]
  },
  {
   "cell_type": "markdown",
   "metadata": {},
   "source": [
    "##### Maiores historySize - Quantidade de notícias lidas pelo usuário"
   ]
  },
  {
   "cell_type": "code",
   "execution_count": null,
   "metadata": {},
   "outputs": [],
   "source": [
    "df_sorted = df.sort_values(by=[\"historySize\"], ascending=False)\n",
    "df_sorted[['userId', \"userType\", 'historySize']].head(ranking)"
   ]
  },
  {
   "cell_type": "markdown",
   "metadata": {},
   "source": [
    "##### Maiores scrollPercentageHistory - Quanto o usuário visualizou a matéria"
   ]
  },
  {
   "cell_type": "code",
   "execution_count": null,
   "metadata": {},
   "outputs": [],
   "source": [
    "df[\"scrollPercentageHistory\"] = df[\"scrollPercentageHistory\"].apply(\n",
    "    lambda x: list(map(float, str(x).split(\", \"))) if pd.notna(x) and isinstance(x, str) else []\n",
    ")\n",
    "df[\"total_scroll_percentage_history\"] = df[\"scrollPercentageHistory\"].apply(sum)\n",
    "df_sorted = df.sort_values(by=[\"total_scroll_percentage_history\"], ascending=False)\n",
    "df_sorted[[\"userId\", \"userType\", \"total_scroll_percentage_history\"]].head(ranking)\n"
   ]
  },
  {
   "cell_type": "markdown",
   "metadata": {},
   "source": [
    "##### Maiores pageVisitsCountHistory - Quantidade de vezes que o usuário visitou a matéria"
   ]
  },
  {
   "cell_type": "code",
   "execution_count": null,
   "metadata": {},
   "outputs": [],
   "source": [
    "df_sorted = df.sort_values(by=[\"pageVisitsCountHistory\"], ascending=False)\n",
    "df_sorted[['pageVisitsCountHistory']].head(ranking)\n",
    "\n",
    "\n",
    "df[\"pageVisitsCountHistory\"] = df[\"pageVisitsCountHistory\"].apply(lambda x: list(map(int, str(x).split(\", \"))))\n",
    "df[\"total_visits_count\"] = df[\"pageVisitsCountHistory\"].apply(sum)\n",
    "df_sorted = df.sort_values(by=[\"total_visits_count\"], ascending=False)\n",
    "df_sorted[[\"userId\", \"userType\", \"total_visits_count\"]].head(ranking)\n"
   ]
  },
  {
   "cell_type": "markdown",
   "metadata": {},
   "source": [
    "##### Maiores numberOfClicksHistory - Quantidade de clicks na matéria"
   ]
  },
  {
   "cell_type": "code",
   "execution_count": null,
   "metadata": {},
   "outputs": [],
   "source": [
    "df[\"numberOfClicksHistory\"] = df[\"numberOfClicksHistory\"].apply(lambda x: list(map(int, str(x).split(\", \"))))\n",
    "df[\"total_clicks\"] = df[\"numberOfClicksHistory\"].apply(sum)\n",
    "df_sorted = df.sort_values(by=[\"total_clicks\"], ascending=False)\n",
    "df_sorted[[\"userId\", \"userType\", \"total_clicks\"]].head(ranking)\n"
   ]
  },
  {
   "cell_type": "markdown",
   "metadata": {},
   "source": [
    "##### Número de usuários não logados e usuários logados"
   ]
  },
  {
   "cell_type": "code",
   "execution_count": null,
   "metadata": {},
   "outputs": [],
   "source": [
    "user_type_counts = df[\"userType\"].value_counts()\n",
    "logged = user_type_counts.get('Logged', 0)\n",
    "non_logged = user_type_counts.get('Non-Logged', 0)\n",
    "\n",
    "formatted_logged = \"{:,.0f}\".format(logged).replace(\",\", \".\")\n",
    "formatted_non_logged = \"{:,.0f}\".format(non_logged).replace(\",\", \".\")\n",
    "\n",
    "print(f\"Logged: {formatted_logged}\")\n",
    "print(f\"Non Logged: {formatted_non_logged}\")"
   ]
  }
 ],
 "metadata": {
  "kernelspec": {
   "display_name": "Python 3",
   "language": "python",
   "name": "python3"
  },
  "language_info": {
   "codemirror_mode": {
    "name": "ipython",
    "version": 3
   },
   "file_extension": ".py",
   "mimetype": "text/x-python",
   "name": "python",
   "nbconvert_exporter": "python",
   "pygments_lexer": "ipython3",
   "version": "3.12.3"
  }
 },
 "nbformat": 4,
 "nbformat_minor": 2
}
