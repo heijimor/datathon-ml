{
 "cells": [
  {
   "cell_type": "code",
   "execution_count": 24,
   "metadata": {},
   "outputs": [],
   "source": [
    "import pandas as pd\n",
    "import numpy as np\n",
    "import pickle\n",
    "from sklearn.feature_extraction.text import TfidfVectorizer\n",
    "from sklearn.metrics.pairwise import cosine_similarity\n",
    "from sklearn.metrics.pairwise import linear_kernel\n",
    "import numpy as np\n",
    "import seaborn as sns\n",
    "import matplotlib.pyplot as plt\n",
    "from sklearn.decomposition import TruncatedSVD\n",
    "import pickle"
   ]
  },
  {
   "cell_type": "code",
   "execution_count": 15,
   "metadata": {},
   "outputs": [
    {
     "data": {
      "text/html": [
       "<div>\n",
       "<style scoped>\n",
       "    .dataframe tbody tr th:only-of-type {\n",
       "        vertical-align: middle;\n",
       "    }\n",
       "\n",
       "    .dataframe tbody tr th {\n",
       "        vertical-align: top;\n",
       "    }\n",
       "\n",
       "    .dataframe thead th {\n",
       "        text-align: right;\n",
       "    }\n",
       "</style>\n",
       "<table border=\"1\" class=\"dataframe\">\n",
       "  <thead>\n",
       "    <tr style=\"text-align: right;\">\n",
       "      <th></th>\n",
       "      <th>page</th>\n",
       "      <th>url</th>\n",
       "      <th>issued</th>\n",
       "      <th>modified</th>\n",
       "      <th>title</th>\n",
       "      <th>body</th>\n",
       "      <th>caption</th>\n",
       "    </tr>\n",
       "  </thead>\n",
       "  <tbody>\n",
       "    <tr>\n",
       "      <th>0</th>\n",
       "      <td>b2d67f99-e758-4719-adde-53926854ae38</td>\n",
       "      <td>http://g1.globo.com/sp/sao-paulo/eleicoes/2022...</td>\n",
       "      <td>2022-05-03 19:38:56+00:00</td>\n",
       "      <td>2022-05-03 20:54:49+00:00</td>\n",
       "      <td>Lula compara Arthur Lira a imperador do Japão</td>\n",
       "      <td>Ex-presidente Lula discursa em evento do Solid...</td>\n",
       "      <td>Petista voltou a criticar presidente da Câmara...</td>\n",
       "    </tr>\n",
       "    <tr>\n",
       "      <th>1</th>\n",
       "      <td>ddd9ba15-6026-4a9a-9204-08946b27be64</td>\n",
       "      <td>http://g1.globo.com/sp/sao-paulo/eleicoes/2022...</td>\n",
       "      <td>2022-05-04 16:54:14+00:00</td>\n",
       "      <td>2022-05-04 16:54:15+00:00</td>\n",
       "      <td>Voto facultativo terá peso inédito na eleição ...</td>\n",
       "      <td>Detalhe da urna eletrônica e a tecla confirma\\...</td>\n",
       "      <td>Quantidade de eleitores de 16 a 17 anos e acim...</td>\n",
       "    </tr>\n",
       "    <tr>\n",
       "      <th>2</th>\n",
       "      <td>a06f8a15-b2ca-4363-b060-b821a158e35b</td>\n",
       "      <td>http://g1.globo.com/sp/sao-paulo/eleicoes/2022...</td>\n",
       "      <td>2022-05-23 19:18:56+00:00</td>\n",
       "      <td>2022-05-23 20:43:51+00:00</td>\n",
       "      <td>PT confirma conversa com economista Pérsio Ari...</td>\n",
       "      <td>A presidente do PT, Gleisi Hoffmann, durante e...</td>\n",
       "      <td>Segundo Gleisi Hoffmann, Aloizio Mercadante te...</td>\n",
       "    </tr>\n",
       "    <tr>\n",
       "      <th>3</th>\n",
       "      <td>55ab912a-2bac-46d9-9fcf-8e9be376f1b3</td>\n",
       "      <td>http://g1.globo.com/sp/sao-paulo/eleicoes/2022...</td>\n",
       "      <td>2022-08-11 13:12:31+00:00</td>\n",
       "      <td>2022-08-12 01:32:24+00:00</td>\n",
       "      <td>Ato pela democracia recorda mortos na  ditadur...</td>\n",
       "      <td>Carta em defesa da democracia foi lida nesta q...</td>\n",
       "      <td>Evento reuniu milhares dentro e fora da Faculd...</td>\n",
       "    </tr>\n",
       "    <tr>\n",
       "      <th>4</th>\n",
       "      <td>6d7d0faf-58ce-43b7-bd22-b62a56e1fc41</td>\n",
       "      <td>http://g1.globo.com/politica/noticia/2022/01/2...</td>\n",
       "      <td>2022-01-28 21:32:08+00:00</td>\n",
       "      <td>2022-01-29 01:11:05+00:00</td>\n",
       "      <td>Moro revela ter recebido R$ 3,6 milhões por 12...</td>\n",
       "      <td>Moro faz live para explicar pagamento por serv...</td>\n",
       "      <td>TCU apura possível 'conflito de interesse' na ...</td>\n",
       "    </tr>\n",
       "  </tbody>\n",
       "</table>\n",
       "</div>"
      ],
      "text/plain": [
       "                                   page  \\\n",
       "0  b2d67f99-e758-4719-adde-53926854ae38   \n",
       "1  ddd9ba15-6026-4a9a-9204-08946b27be64   \n",
       "2  a06f8a15-b2ca-4363-b060-b821a158e35b   \n",
       "3  55ab912a-2bac-46d9-9fcf-8e9be376f1b3   \n",
       "4  6d7d0faf-58ce-43b7-bd22-b62a56e1fc41   \n",
       "\n",
       "                                                 url  \\\n",
       "0  http://g1.globo.com/sp/sao-paulo/eleicoes/2022...   \n",
       "1  http://g1.globo.com/sp/sao-paulo/eleicoes/2022...   \n",
       "2  http://g1.globo.com/sp/sao-paulo/eleicoes/2022...   \n",
       "3  http://g1.globo.com/sp/sao-paulo/eleicoes/2022...   \n",
       "4  http://g1.globo.com/politica/noticia/2022/01/2...   \n",
       "\n",
       "                      issued                   modified  \\\n",
       "0  2022-05-03 19:38:56+00:00  2022-05-03 20:54:49+00:00   \n",
       "1  2022-05-04 16:54:14+00:00  2022-05-04 16:54:15+00:00   \n",
       "2  2022-05-23 19:18:56+00:00  2022-05-23 20:43:51+00:00   \n",
       "3  2022-08-11 13:12:31+00:00  2022-08-12 01:32:24+00:00   \n",
       "4  2022-01-28 21:32:08+00:00  2022-01-29 01:11:05+00:00   \n",
       "\n",
       "                                               title  \\\n",
       "0      Lula compara Arthur Lira a imperador do Japão   \n",
       "1  Voto facultativo terá peso inédito na eleição ...   \n",
       "2  PT confirma conversa com economista Pérsio Ari...   \n",
       "3  Ato pela democracia recorda mortos na  ditadur...   \n",
       "4  Moro revela ter recebido R$ 3,6 milhões por 12...   \n",
       "\n",
       "                                                body  \\\n",
       "0  Ex-presidente Lula discursa em evento do Solid...   \n",
       "1  Detalhe da urna eletrônica e a tecla confirma\\...   \n",
       "2  A presidente do PT, Gleisi Hoffmann, durante e...   \n",
       "3  Carta em defesa da democracia foi lida nesta q...   \n",
       "4  Moro faz live para explicar pagamento por serv...   \n",
       "\n",
       "                                             caption  \n",
       "0  Petista voltou a criticar presidente da Câmara...  \n",
       "1  Quantidade de eleitores de 16 a 17 anos e acim...  \n",
       "2  Segundo Gleisi Hoffmann, Aloizio Mercadante te...  \n",
       "3  Evento reuniu milhares dentro e fora da Faculd...  \n",
       "4  TCU apura possível 'conflito de interesse' na ...  "
      ]
     },
     "execution_count": 15,
     "metadata": {},
     "output_type": "execute_result"
    }
   ],
   "source": [
    "# Lista de arquivos CSV\n",
    "appPath = \"../data/itens/itens\"\n",
    "# , f\"{appPath}/itens-parte2.csv\", f\"{appPath}/itens-parte3.csv\"\n",
    "csv_files = [f\"{appPath}/itens-parte3.csv\"]\n",
    "\n",
    "# Concatenar os CSVs em um único DataFrame\n",
    "df_artigos = pd.concat([pd.read_csv(file) for file in csv_files])\n",
    "\n",
    "# Visualizar as primeiras linhas\n",
    "df_artigos.head()"
   ]
  },
  {
   "cell_type": "code",
   "execution_count": 16,
   "metadata": {},
   "outputs": [],
   "source": [
    "# Criar uma nova coluna combinando título e corpo do artigo\n",
    "df_artigos['text'] = df_artigos['title'].fillna('') + \" \" + df_artigos['body'].fillna('')"
   ]
  },
  {
   "cell_type": "code",
   "execution_count": 17,
   "metadata": {},
   "outputs": [],
   "source": [
    "vectorizer = TfidfVectorizer(max_features=100_000)  # Limit features to reduce memory usage\n",
    "tfidf_matrix = vectorizer.fit_transform(df_artigos['text'])"
   ]
  },
  {
   "cell_type": "code",
   "execution_count": 20,
   "metadata": {},
   "outputs": [],
   "source": [
    "svd = TruncatedSVD(n_components=50) # , random_state=42\n",
    "tfidf_reduced = svd.fit_transform(tfidf_matrix)"
   ]
  },
  {
   "cell_type": "code",
   "execution_count": 21,
   "metadata": {},
   "outputs": [
    {
     "name": "stdout",
     "output_type": "stream",
     "text": [
      "⚡ Computing similarities row by row...\n",
      "Processing row 0 / 55603...\n",
      "Processing row 5000 / 55603...\n",
      "Processing row 10000 / 55603...\n",
      "Processing row 15000 / 55603...\n",
      "Processing row 20000 / 55603...\n",
      "Processing row 25000 / 55603...\n",
      "Processing row 30000 / 55603...\n",
      "Processing row 35000 / 55603...\n",
      "Processing row 40000 / 55603...\n",
      "Processing row 45000 / 55603...\n",
      "Processing row 50000 / 55603...\n",
      "Processing row 55000 / 55603...\n"
     ]
    }
   ],
   "source": [
    "TOP_N = 10\n",
    "similar_articles = {}\n",
    "\n",
    "print(\"⚡ Computing similarities row by row...\")\n",
    "\n",
    "for idx in range(tfidf_reduced.shape[0]):\n",
    "    if idx % 5000 == 0:\n",
    "        print(f\"Processing row {idx} / {tfidf_reduced.shape[0]}...\")\n",
    "\n",
    "    # Compute similarity only for the current row\n",
    "    sim_scores = cosine_similarity(tfidf_reduced[idx:idx+1], tfidf_reduced)[0]  \n",
    "\n",
    "    # Get Top-N most similar articles (excluding itself)\n",
    "    top_indices = np.argsort(sim_scores)[-TOP_N-1:-1][::-1]  \n",
    "    similar_articles[df_artigos.iloc[idx]['page']] = list(df_artigos.iloc[top_indices]['page'])"
   ]
  },
  {
   "cell_type": "code",
   "execution_count": 22,
   "metadata": {},
   "outputs": [
    {
     "name": "stderr",
     "output_type": "stream",
     "text": [
      "/home/heijimor/.local/lib/python3.12/site-packages/IPython/core/pylabtools.py:170: UserWarning: Glyph 128270 (\\N{RIGHT-POINTING MAGNIFYING GLASS}) missing from font(s) DejaVu Sans.\n",
      "  fig.canvas.print_figure(bytes_io, **kw)\n"
     ]
    },
    {
     "data": {
      "image/png": "[encoded data removed]",
      "text/plain": [
       "<Figure size 1000x600 with 2 Axes>"
      ]
     },
     "metadata": {},
     "output_type": "display_data"
    }
   ],
   "source": [
    "plt.figure(figsize=(10,6))\n",
    "sns.heatmap(cosine_similarity(tfidf_reduced[:10], tfidf_reduced[:10]), cmap=\"coolwarm\", annot=False)\n",
    "plt.title(\"🔎 Cosine Similarity Matrix (Sample)\")\n",
    "plt.show()"
   ]
  },
  {
   "cell_type": "code",
   "execution_count": 27,
   "metadata": {},
   "outputs": [
    {
     "name": "stdout",
     "output_type": "stream",
     "text": [
      "Top-N article similarity saved!\n"
     ]
    }
   ],
   "source": [
    "with open(\"top_n_article_similarity.pkl\", \"wb\") as f:\n",
    "    pickle.dump(similar_articles, f)\n",
    "print(\"Top-N article similarity saved!\")"
   ]
  },
  {
   "cell_type": "code",
   "execution_count": 31,
   "metadata": {},
   "outputs": [
    {
     "name": "stdout",
     "output_type": "stream",
     "text": [
      "Top-N articles loaded from .pkl:\n",
      "['b2d67f99-e758-4719-adde-53926854ae38', 'ddd9ba15-6026-4a9a-9204-08946b27be64', 'a06f8a15-b2ca-4363-b060-b821a158e35b', '55ab912a-2bac-46d9-9fcf-8e9be376f1b3', '6d7d0faf-58ce-43b7-bd22-b62a56e1fc41']\n",
      "Artigos recomendados para o artigo df57c369-00ec-43ac-a626-24916550575e:\n",
      "1. ffafb005-2165-453b-8475-0e3cf48edcdd\n",
      "2. 3392d5e5-cea6-4d92-9520-b59d80a05941\n",
      "3. 8ba5f02d-229f-49e7-b005-2cafed80e2ed\n",
      "4. 796cb19b-5dfa-4346-a7f8-945595cc0d59\n",
      "5. 56b5be93-e82d-4f86-8a0c-8070eb73c6a7\n",
      "6. 49bed47c-57c2-42f6-9b0f-01a89524fcb4\n",
      "7. 9cd0d8da-b33d-412d-8f2b-4f1532b4e2b0\n",
      "8. 3d384fdd-76ff-4787-82f5-e3530c0785b2\n",
      "9. e0734c8d-0a7a-43ff-91e0-102cf9eaae3a\n",
      "10. 9519ac21-173b-479d-b7e0-26168e9a1b4b\n"
     ]
    }
   ],
   "source": [
    "# Carregar o arquivo .pkl\n",
    "with open(\"top_n_article_similarity.pkl\", \"rb\") as f:\n",
    "    loaded_similar_articles = pickle.load(f)\n",
    "\n",
    "# Verificar se os dados foram carregados corretamente\n",
    "print(\"Top-N articles loaded from .pkl:\")\n",
    "# Exibir as primeiras 5 chaves como exemplo\n",
    "print(list(loaded_similar_articles.keys())[:5]) \n",
    "\n",
    "article_id = 'df57c369-00ec-43ac-a626-24916550575e'  # O ID do artigo de interesse\n",
    "\n",
    "# Obter os artigos mais similares para esse artigo\n",
    "recommended_articles = loaded_similar_articles.get(article_id, [])\n",
    "\n",
    "# Mostrar os artigos recomendados\n",
    "if recommended_articles:\n",
    "    print(f\"Artigos recomendados para o artigo {article_id}:\")\n",
    "    for idx, rec_article in enumerate(recommended_articles, 1):\n",
    "        print(f\"{idx}. {rec_article}\")\n",
    "else:\n",
    "    print(f\"Nenhum artigo semelhante encontrado para o artigo {article_id}.\")"
   ]
  }
 ],
 "metadata": {
  "kernelspec": {
   "display_name": "Python 3 (ipykernel)",
   "language": "python",
   "name": "python3"
  },
  "language_info": {
   "codemirror_mode": {
    "name": "ipython",
    "version": 3
   },
   "file_extension": ".py",
   "mimetype": "text/x-python",
   "name": "python",
   "nbconvert_exporter": "python",
   "pygments_lexer": "ipython3",
   "version": "3.12.3"
  }
 },
 "nbformat": 4,
 "nbformat_minor": 4
}
