{
 "cells": [
  {
   "cell_type": "code",
   "execution_count": 1,
   "metadata": {},
   "outputs": [],
   "source": [
    "import pandas as pd\n",
    "import os"
   ]
  },
  {
   "cell_type": "markdown",
   "metadata": {},
   "source": [
    "##### Declarando paths"
   ]
  },
  {
   "cell_type": "code",
   "execution_count": 2,
   "metadata": {},
   "outputs": [],
   "source": [
    "root_path = os.getenv('HOST_PATH')\n",
    "models_path = f\"{root_path}/artifacts/models\"\n",
    "validacao_file = f\"{root_path}/data/validacao.csv\"\n",
    "pre_processed_evaluate_parquet = f\"{root_path}/artifacts/parquets/validacao.parquet\""
   ]
  },
  {
   "cell_type": "markdown",
   "metadata": {},
   "source": [
    "##### Carregando dados de validação"
   ]
  },
  {
   "cell_type": "code",
   "execution_count": 3,
   "metadata": {},
   "outputs": [],
   "source": [
    "df_validacao = pd.read_csv(validacao_file)"
   ]
  },
  {
   "cell_type": "markdown",
   "metadata": {},
   "source": [
    "##### Tratando valores"
   ]
  },
  {
   "cell_type": "markdown",
   "metadata": {},
   "source": [
    "Removendo espaços em branco no campo userId"
   ]
  },
  {
   "cell_type": "code",
   "execution_count": 4,
   "metadata": {},
   "outputs": [],
   "source": [
    "df_validacao[\"userId\"] = df_validacao[\"userId\"].str.strip()"
   ]
  },
  {
   "cell_type": "markdown",
   "metadata": {},
   "source": [
    "Limpando caracteres especiais de history ou valores erroneos"
   ]
  },
  {
   "cell_type": "code",
   "execution_count": 5,
   "metadata": {},
   "outputs": [],
   "source": [
    "df_validacao['history'] = df_validacao['history'].apply(\n",
    "    lambda hist: hist.replace('\\n', ' ')\n",
    "                     .replace(\"'\", ' ')\n",
    "                     .replace(\"[\", ' ')\n",
    "                     .replace(\"]\", ' ')\n",
    "                     .strip() if isinstance(hist, str) else hist\n",
    ")"
   ]
  },
  {
   "cell_type": "markdown",
   "metadata": {},
   "source": [
    "##### Transformando valores em lista"
   ]
  },
  {
   "cell_type": "code",
   "execution_count": 6,
   "metadata": {},
   "outputs": [],
   "source": [
    "df_validacao[\"history\"] = df_validacao[\"history\"].apply(lambda x: x.split() if isinstance(x, str) else [])\n",
    "\n",
    "for col in [\"timestampHistory\"]:\n",
    "  df_validacao[col] = df_validacao[col].apply(lambda x: x.split(\", \") if isinstance(x, str) else [])\n",
    "  \n"
   ]
  },
  {
   "cell_type": "markdown",
   "metadata": {},
   "source": [
    "##### Gerando Parquet"
   ]
  },
  {
   "cell_type": "code",
   "execution_count": 7,
   "metadata": {},
   "outputs": [],
   "source": [
    "df_validacao.to_parquet(pre_processed_evaluate_parquet, index=False)"
   ]
  }
 ],
 "metadata": {
  "kernelspec": {
   "display_name": ".venv",
   "language": "python",
   "name": "python3"
  },
  "language_info": {
   "codemirror_mode": {
    "name": "ipython",
    "version": 3
   },
   "file_extension": ".py",
   "mimetype": "text/x-python",
   "name": "python",
   "nbconvert_exporter": "python",
   "pygments_lexer": "ipython3",
   "version": "3.12.3"
  }
 },
 "nbformat": 4,
 "nbformat_minor": 2
}
