{
 "cells": [
  {
   "cell_type": "markdown",
   "metadata": {},
   "source": [
    "##### Carregando libs"
   ]
  },
  {
   "cell_type": "code",
   "execution_count": 1,
   "metadata": {},
   "outputs": [],
   "source": [
    "import datetime\n",
    "import pandas as pd\n",
    "import numpy as np\n",
    "from sklearn.model_selection import train_test_split\n",
    "import os\n",
    "from datetime import datetime, timezone"
   ]
  },
  {
   "cell_type": "markdown",
   "metadata": {},
   "source": [
    "##### Declarando paths"
   ]
  },
  {
   "cell_type": "code",
   "execution_count": 2,
   "metadata": {},
   "outputs": [],
   "source": [
    "root_path = os.getenv('HOST_PATH')\n",
    "parquets_path = f\"{root_path}/artifacts/parquets\"\n",
    "articles_target_file = \"articles_merged_data.parquet\""
   ]
  },
  {
   "cell_type": "markdown",
   "metadata": {},
   "source": [
    "##### Carregando parquets"
   ]
  },
  {
   "cell_type": "code",
   "execution_count": 3,
   "metadata": {},
   "outputs": [],
   "source": [
    "df_articles = pd.read_parquet(f\"{parquets_path}/{articles_target_file}\")"
   ]
  },
  {
   "cell_type": "code",
   "execution_count": 4,
   "metadata": {},
   "outputs": [],
   "source": [
    "df_articles.fillna(\"\", inplace=True)"
   ]
  },
  {
   "cell_type": "markdown",
   "metadata": {},
   "source": [
    "##### Processando para recencia"
   ]
  },
  {
   "cell_type": "code",
   "execution_count": 5,
   "metadata": {},
   "outputs": [],
   "source": [
    "def recency_score(timestamp, alpha=0.001):  \n",
    "    if pd.isnull(timestamp):\n",
    "        return np.nan\n",
    "    now = datetime.now(timezone.utc)\n",
    "    days_diff = (now - timestamp).days\n",
    "    return np.exp(-alpha * days_diff)  # Evita erro em valores NaN"
   ]
  },
  {
   "cell_type": "code",
   "execution_count": 6,
   "metadata": {},
   "outputs": [],
   "source": [
    "df_articles[\"issued\"] = pd.to_datetime(df_articles[\"issued\"], utc=True)\n",
    "df_articles[\"recency_score\"] = df_articles[\"issued\"].apply(recency_score)\n",
    "df_articles[\"recency_score\"] = df_articles[\"recency_score\"] / df_articles[\"recency_score\"].max()\n"
   ]
  },
  {
   "cell_type": "markdown",
   "metadata": {},
   "source": [
    "##### Aplicando decaimento temporal"
   ]
  },
  {
   "cell_type": "code",
   "execution_count": 7,
   "metadata": {},
   "outputs": [],
   "source": [
    "def time_decay(timestamp, half_life=7):\n",
    "    \"\"\"Aplica decaimento exponencial considerando um half-life em dias.\"\"\"\n",
    "    now = datetime.now(timezone.utc)\n",
    "    days_diff = (now - timestamp).days\n",
    "    return 0.5 ** (days_diff / half_life)\n",
    "\n",
    "df_articles[\"time_decay\"] = df_articles[\"issued\"].apply(lambda x: time_decay(x, half_life=7))"
   ]
  },
  {
   "cell_type": "code",
   "execution_count": 8,
   "metadata": {},
   "outputs": [],
   "source": [
    "df_articles[\"final_score\"] = 0.6 * df_articles[\"recency_score\"] + 0.4 * df_articles[\"time_decay\"]\n"
   ]
  },
  {
   "cell_type": "code",
   "execution_count": 9,
   "metadata": {},
   "outputs": [],
   "source": [
    "df_articles[\"issued\"] = pd.to_datetime(df_articles[\"issued\"]).astype(int) // 10**9\n",
    "df_articles[\"modified\"] = pd.to_datetime(df_articles[\"modified\"]).astype(int) // 10**9"
   ]
  },
  {
   "cell_type": "markdown",
   "metadata": {},
   "source": [
    "##### Gerando amostra"
   ]
  },
  {
   "cell_type": "code",
   "execution_count": 10,
   "metadata": {},
   "outputs": [],
   "source": [
    "df_articles_sampled = df_articles.sample(n=50000, random_state=42)"
   ]
  },
  {
   "cell_type": "markdown",
   "metadata": {},
   "source": [
    "##### Dividindo entre treino e teste"
   ]
  },
  {
   "cell_type": "code",
   "execution_count": 11,
   "metadata": {},
   "outputs": [],
   "source": [
    "df_articles_train, df_articles_test = train_test_split(df_articles_sampled, test_size=0.2, random_state=42)"
   ]
  },
  {
   "cell_type": "code",
   "execution_count": 12,
   "metadata": {},
   "outputs": [
    {
     "data": {
      "text/html": [
       "<div>\n",
       "<style scoped>\n",
       "    .dataframe tbody tr th:only-of-type {\n",
       "        vertical-align: middle;\n",
       "    }\n",
       "\n",
       "    .dataframe tbody tr th {\n",
       "        vertical-align: top;\n",
       "    }\n",
       "\n",
       "    .dataframe thead th {\n",
       "        text-align: right;\n",
       "    }\n",
       "</style>\n",
       "<table border=\"1\" class=\"dataframe\">\n",
       "  <thead>\n",
       "    <tr style=\"text-align: right;\">\n",
       "      <th></th>\n",
       "      <th>page</th>\n",
       "      <th>url</th>\n",
       "      <th>issued</th>\n",
       "      <th>modified</th>\n",
       "      <th>title</th>\n",
       "      <th>body</th>\n",
       "      <th>caption</th>\n",
       "      <th>recency_score</th>\n",
       "      <th>time_decay</th>\n",
       "      <th>final_score</th>\n",
       "    </tr>\n",
       "  </thead>\n",
       "  <tbody>\n",
       "    <tr>\n",
       "      <th>118617</th>\n",
       "      <td>d4f8487d-6f75-413d-9657-34aa3e1cd593</td>\n",
       "      <td>http://g1.globo.com/fantastico/noticia/2021/07...</td>\n",
       "      <td>1626053996</td>\n",
       "      <td>1626053996</td>\n",
       "      <td>Documentário inédito revela caos no Haiti, paí...</td>\n",
       "      <td>Documentário inédito revela caos no Haiti, paí...</td>\n",
       "      <td>Cinco dias depois do assassinato do presidente...</td>\n",
       "      <td>0.670991</td>\n",
       "      <td>7.035664e-58</td>\n",
       "      <td>0.402594</td>\n",
       "    </tr>\n",
       "    <tr>\n",
       "      <th>250848</th>\n",
       "      <td>eedb0817-cbe3-4959-aa84-017989fbd42a</td>\n",
       "      <td>http://g1.globo.com/mundo/noticia/2022/06/03/g...</td>\n",
       "      <td>1654248702</td>\n",
       "      <td>1654252525</td>\n",
       "      <td>Guerra na Ucrânia não terá vencedor, afirma ON...</td>\n",
       "      <td>Soldados ucranianos conversam com morador que ...</td>\n",
       "      <td>Ministro da Defesa ucraniano diz que Rússia já...</td>\n",
       "      <td>0.929601</td>\n",
       "      <td>7.357022e-44</td>\n",
       "      <td>0.557760</td>\n",
       "    </tr>\n",
       "    <tr>\n",
       "      <th>55112</th>\n",
       "      <td>661064de-acc8-48bd-93ee-b83500e718c5</td>\n",
       "      <td>http://g1.globo.com/trabalho-e-carreira/concur...</td>\n",
       "      <td>1657530049</td>\n",
       "      <td>1657530049</td>\n",
       "      <td>Brasil tem mais de 110 concursos públicos com ...</td>\n",
       "      <td>Mais de 150 concursos públicos com inscrições ...</td>\n",
       "      <td>Há oportunidades para todos os níveis de escol...</td>\n",
       "      <td>0.965605</td>\n",
       "      <td>3.168582e-42</td>\n",
       "      <td>0.579363</td>\n",
       "    </tr>\n",
       "  </tbody>\n",
       "</table>\n",
       "</div>"
      ],
      "text/plain": [
       "                                        page  \\\n",
       "118617  d4f8487d-6f75-413d-9657-34aa3e1cd593   \n",
       "250848  eedb0817-cbe3-4959-aa84-017989fbd42a   \n",
       "55112   661064de-acc8-48bd-93ee-b83500e718c5   \n",
       "\n",
       "                                                      url      issued  \\\n",
       "118617  http://g1.globo.com/fantastico/noticia/2021/07...  1626053996   \n",
       "250848  http://g1.globo.com/mundo/noticia/2022/06/03/g...  1654248702   \n",
       "55112   http://g1.globo.com/trabalho-e-carreira/concur...  1657530049   \n",
       "\n",
       "          modified                                              title  \\\n",
       "118617  1626053996  Documentário inédito revela caos no Haiti, paí...   \n",
       "250848  1654252525  Guerra na Ucrânia não terá vencedor, afirma ON...   \n",
       "55112   1657530049  Brasil tem mais de 110 concursos públicos com ...   \n",
       "\n",
       "                                                     body  \\\n",
       "118617  Documentário inédito revela caos no Haiti, paí...   \n",
       "250848  Soldados ucranianos conversam com morador que ...   \n",
       "55112   Mais de 150 concursos públicos com inscrições ...   \n",
       "\n",
       "                                                  caption  recency_score  \\\n",
       "118617  Cinco dias depois do assassinato do presidente...       0.670991   \n",
       "250848  Ministro da Defesa ucraniano diz que Rússia já...       0.929601   \n",
       "55112   Há oportunidades para todos os níveis de escol...       0.965605   \n",
       "\n",
       "          time_decay  final_score  \n",
       "118617  7.035664e-58     0.402594  \n",
       "250848  7.357022e-44     0.557760  \n",
       "55112   3.168582e-42     0.579363  "
      ]
     },
     "execution_count": 12,
     "metadata": {},
     "output_type": "execute_result"
    }
   ],
   "source": [
    "df_articles_train.head(3)"
   ]
  },
  {
   "cell_type": "markdown",
   "metadata": {},
   "source": [
    "##### Gerando parquets de treino e teste"
   ]
  },
  {
   "cell_type": "code",
   "execution_count": 13,
   "metadata": {},
   "outputs": [],
   "source": [
    "\n",
    "df_articles_train.to_parquet(f\"{parquets_path}/artigos_treino_preprocessados.parquet\", index=False)\n",
    "df_articles_test.to_parquet(f\"{parquets_path}/artigos_test_preprocessados.parquet\", index=False)"
   ]
  }
 ],
 "metadata": {
  "kernelspec": {
   "display_name": ".venv",
   "language": "python",
   "name": "python3"
  },
  "language_info": {
   "codemirror_mode": {
    "name": "ipython",
    "version": 3
   },
   "file_extension": ".py",
   "mimetype": "text/x-python",
   "name": "python",
   "nbconvert_exporter": "python",
   "pygments_lexer": "ipython3",
   "version": "3.12.3"
  }
 },
 "nbformat": 4,
 "nbformat_minor": 2
}
