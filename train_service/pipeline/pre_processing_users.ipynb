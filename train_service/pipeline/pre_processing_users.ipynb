{
 "cells": [
  {
   "cell_type": "markdown",
   "metadata": {},
   "source": [
    "##### Carregando bibliotecas"
   ]
  },
  {
   "cell_type": "code",
   "execution_count": 1,
   "metadata": {},
   "outputs": [],
   "source": [
    "import pandas as pd\n",
    "import numpy as np\n",
    "from sklearn.preprocessing import MinMaxScaler, LabelEncoder\n",
    "import logging\n",
    "from sklearn.model_selection import train_test_split\n",
    "import os\n",
    "import re"
   ]
  },
  {
   "cell_type": "markdown",
   "metadata": {},
   "source": [
    "##### Declarando paths"
   ]
  },
  {
   "cell_type": "code",
   "execution_count": 2,
   "metadata": {},
   "outputs": [],
   "source": [
    "root_path = os.getenv('HOST_PATH')\n",
    "parquets_path = f\"{root_path}/artifacts/parquets\"\n",
    "user_target_file = \"users_merged_data.parquet\""
   ]
  },
  {
   "cell_type": "markdown",
   "metadata": {},
   "source": [
    "##### Carregando Parquet de usuários"
   ]
  },
  {
   "cell_type": "code",
   "execution_count": 3,
   "metadata": {},
   "outputs": [],
   "source": [
    "df_users = pd.read_parquet(f\"{parquets_path}/{user_target_file}\")"
   ]
  },
  {
   "cell_type": "markdown",
   "metadata": {},
   "source": [
    "##### Tratando valores do dataframe"
   ]
  },
  {
   "cell_type": "markdown",
   "metadata": {},
   "source": [
    "Preenchendo na de history com [] e transformando em lista"
   ]
  },
  {
   "cell_type": "code",
   "execution_count": 4,
   "metadata": {},
   "outputs": [],
   "source": [
    "def is_valid_uuid(value):\n",
    "    return bool(re.match(r'^[a-f0-9\\-]{36}$', value))\n",
    "\n",
    "df_users.fillna({\"history\": \"[]\"}, inplace=True)\n",
    "df_users[\"history\"] = df_users[\"history\"].apply(lambda x: [\n",
    "    i.strip() for i in (x.split(\",\") if isinstance(x, str) else []) if is_valid_uuid(i.strip())\n",
    "])\n"
   ]
  },
  {
   "cell_type": "markdown",
   "metadata": {},
   "source": [
    "Convertendo timestampHistory para datetime"
   ]
  },
  {
   "cell_type": "code",
   "execution_count": 5,
   "metadata": {},
   "outputs": [],
   "source": [
    "df_users[\"timestampHistory\"] = df_users[\"timestampHistory\"].apply(lambda x: list(map(int, x.split(\",\"))) if isinstance(x, str) else [])"
   ]
  },
  {
   "cell_type": "markdown",
   "metadata": {},
   "source": [
    "Convertendo média dos dados comportamentais do usuário"
   ]
  },
  {
   "cell_type": "code",
   "execution_count": 6,
   "metadata": {},
   "outputs": [],
   "source": [
    "def convert_to_mean(value):\n",
    "    if isinstance(value, str):\n",
    "        values = [float(x.strip()) for x in value.split(\",\") if x.strip().replace('.', '', 1).isdigit()]\n",
    "        return np.mean(values) if values else 0\n",
    "    return value\n",
    "\n",
    "cols_to_convert = [\"numberOfClicksHistory\", \"timeOnPageHistory\", \"scrollPercentageHistory\", \"pageVisitsCountHistory\"]\n",
    "for col in cols_to_convert:\n",
    "    df_users[col] = df_users[col].apply(convert_to_mean)"
   ]
  },
  {
   "cell_type": "code",
   "execution_count": 7,
   "metadata": {},
   "outputs": [],
   "source": [
    "scaler = MinMaxScaler()\n",
    "df_users[[\n",
    "    \"historySize\",\n",
    "    \"numberOfClicksHistory\",\n",
    "    \"timeOnPageHistory\",\n",
    "    \"scrollPercentageHistory\",\n",
    "    \"pageVisitsCountHistory\"\n",
    "]] = \\\n",
    "    scaler.fit_transform(\n",
    "        df_users[\n",
    "            [\n",
    "                \"historySize\",\n",
    "                \"numberOfClicksHistory\",\n",
    "                \"timeOnPageHistory\",\n",
    "                \"scrollPercentageHistory\",\n",
    "                \"pageVisitsCountHistory\"\n",
    "            ]\n",
    "        ]\n",
    "    )"
   ]
  },
  {
   "cell_type": "code",
   "execution_count": 8,
   "metadata": {},
   "outputs": [],
   "source": [
    "encoder = LabelEncoder()\n",
    "df_users[\"userType\"] = encoder.fit_transform(df_users[\"userType\"])"
   ]
  },
  {
   "cell_type": "code",
   "execution_count": 9,
   "metadata": {},
   "outputs": [
    {
     "data": {
      "text/html": [
       "<div>\n",
       "<style scoped>\n",
       "    .dataframe tbody tr th:only-of-type {\n",
       "        vertical-align: middle;\n",
       "    }\n",
       "\n",
       "    .dataframe tbody tr th {\n",
       "        vertical-align: top;\n",
       "    }\n",
       "\n",
       "    .dataframe thead th {\n",
       "        text-align: right;\n",
       "    }\n",
       "</style>\n",
       "<table border=\"1\" class=\"dataframe\">\n",
       "  <thead>\n",
       "    <tr style=\"text-align: right;\">\n",
       "      <th></th>\n",
       "      <th>userId</th>\n",
       "      <th>userType</th>\n",
       "      <th>historySize</th>\n",
       "      <th>history</th>\n",
       "      <th>timestampHistory</th>\n",
       "      <th>numberOfClicksHistory</th>\n",
       "      <th>timeOnPageHistory</th>\n",
       "      <th>scrollPercentageHistory</th>\n",
       "      <th>pageVisitsCountHistory</th>\n",
       "      <th>timestampHistory_new</th>\n",
       "    </tr>\n",
       "  </thead>\n",
       "  <tbody>\n",
       "    <tr>\n",
       "      <th>0</th>\n",
       "      <td>fbb963d61eb8149e7f43b1bd905457ba5e106a830ddc27...</td>\n",
       "      <td>1</td>\n",
       "      <td>0.000143</td>\n",
       "      <td>[80aa7bb2-adce-4a55-9711-912c407927a1, d9e5f15...</td>\n",
       "      <td>[1657908085200, 1659634203762]</td>\n",
       "      <td>0.000000</td>\n",
       "      <td>0.004015</td>\n",
       "      <td>0.000337</td>\n",
       "      <td>0.0</td>\n",
       "      <td>1657908085200, 1659634203762</td>\n",
       "    </tr>\n",
       "    <tr>\n",
       "      <th>1</th>\n",
       "      <td>17f1083e6079b0f28f7820a6803583d1c1b405c0718b11...</td>\n",
       "      <td>1</td>\n",
       "      <td>0.000143</td>\n",
       "      <td>[19ba89fc-1e06-4c5d-9c57-4a3088dc0511, e273dba...</td>\n",
       "      <td>[1657111508570, 1657481309920]</td>\n",
       "      <td>0.003427</td>\n",
       "      <td>0.003744</td>\n",
       "      <td>0.000189</td>\n",
       "      <td>0.0</td>\n",
       "      <td>1657111508570, 1657481309920</td>\n",
       "    </tr>\n",
       "    <tr>\n",
       "      <th>2</th>\n",
       "      <td>528a8d7a2af73101da8d6709c1ec875b449a5a58749a99...</td>\n",
       "      <td>1</td>\n",
       "      <td>0.000143</td>\n",
       "      <td>[59a61a8a-cc52-453f-b1cd-2bd019e9d574, a056280...</td>\n",
       "      <td>[1657823890328, 1660141444328]</td>\n",
       "      <td>0.002742</td>\n",
       "      <td>0.003611</td>\n",
       "      <td>0.000240</td>\n",
       "      <td>0.0</td>\n",
       "      <td>1657823890328, 1660141444328</td>\n",
       "    </tr>\n",
       "  </tbody>\n",
       "</table>\n",
       "</div>"
      ],
      "text/plain": [
       "                                              userId  userType  historySize  \\\n",
       "0  fbb963d61eb8149e7f43b1bd905457ba5e106a830ddc27...         1     0.000143   \n",
       "1  17f1083e6079b0f28f7820a6803583d1c1b405c0718b11...         1     0.000143   \n",
       "2  528a8d7a2af73101da8d6709c1ec875b449a5a58749a99...         1     0.000143   \n",
       "\n",
       "                                             history  \\\n",
       "0  [80aa7bb2-adce-4a55-9711-912c407927a1, d9e5f15...   \n",
       "1  [19ba89fc-1e06-4c5d-9c57-4a3088dc0511, e273dba...   \n",
       "2  [59a61a8a-cc52-453f-b1cd-2bd019e9d574, a056280...   \n",
       "\n",
       "                 timestampHistory  numberOfClicksHistory  timeOnPageHistory  \\\n",
       "0  [1657908085200, 1659634203762]               0.000000           0.004015   \n",
       "1  [1657111508570, 1657481309920]               0.003427           0.003744   \n",
       "2  [1657823890328, 1660141444328]               0.002742           0.003611   \n",
       "\n",
       "   scrollPercentageHistory  pageVisitsCountHistory  \\\n",
       "0                 0.000337                     0.0   \n",
       "1                 0.000189                     0.0   \n",
       "2                 0.000240                     0.0   \n",
       "\n",
       "           timestampHistory_new  \n",
       "0  1657908085200, 1659634203762  \n",
       "1  1657111508570, 1657481309920  \n",
       "2  1657823890328, 1660141444328  "
      ]
     },
     "execution_count": 9,
     "metadata": {},
     "output_type": "execute_result"
    }
   ],
   "source": [
    "df_users.head(3)"
   ]
  },
  {
   "cell_type": "markdown",
   "metadata": {},
   "source": [
    "##### Gerando amostra"
   ]
  },
  {
   "cell_type": "code",
   "execution_count": 10,
   "metadata": {},
   "outputs": [],
   "source": [
    "# df_users = df_users[df_users['history'].apply(lambda history: sum(article in df_articles['page'].values for article in history) >= len(history) / 2)]\n",
    "df_users_sampled = df_users.sample(n=10000, random_state=42)"
   ]
  },
  {
   "cell_type": "markdown",
   "metadata": {},
   "source": [
    "##### Dividindo entre treino e teste"
   ]
  },
  {
   "cell_type": "code",
   "execution_count": 11,
   "metadata": {},
   "outputs": [],
   "source": [
    "df_users_train, df_users_test = train_test_split(df_users_sampled, test_size=0.2, random_state=42)"
   ]
  },
  {
   "cell_type": "markdown",
   "metadata": {},
   "source": [
    "##### Gerando parquets de treino e teste"
   ]
  },
  {
   "cell_type": "code",
   "execution_count": 12,
   "metadata": {},
   "outputs": [],
   "source": [
    "df_users_train.to_parquet(f\"{parquets_path}/usuarios_treino_preprocessados.parquet\", index=False)\n",
    "df_users_test.to_parquet(f\"{parquets_path}/usuarios_test_preprocessados.parquet\", index=False)"
   ]
  }
 ],
 "metadata": {
  "kernelspec": {
   "display_name": ".venv",
   "language": "python",
   "name": "python3"
  },
  "language_info": {
   "codemirror_mode": {
    "name": "ipython",
    "version": 3
   },
   "file_extension": ".py",
   "mimetype": "text/x-python",
   "name": "python",
   "nbconvert_exporter": "python",
   "pygments_lexer": "ipython3",
   "version": "3.12.3"
  }
 },
 "nbformat": 4,
 "nbformat_minor": 2
}
