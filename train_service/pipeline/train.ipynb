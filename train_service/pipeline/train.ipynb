{
 "cells": [
  {
   "cell_type": "code",
   "execution_count": 61,
   "metadata": {},
   "outputs": [],
   "source": [
    "import pandas as pd\n",
    "import numpy as np\n",
    "import joblib\n",
    "import pickle\n",
    "from sklearn.preprocessing import MinMaxScaler, LabelEncoder\n",
    "from sklearn.metrics.pairwise import cosine_similarity\n",
    "from sklearn.cluster import KMeans"
   ]
  },
  {
   "cell_type": "markdown",
   "metadata": {},
   "source": [
    "##### Caminho dos arquivos CSV"
   ]
  },
  {
   "cell_type": "code",
   "execution_count": 62,
   "metadata": {},
   "outputs": [],
   "source": [
    "user_csv_path = \"../data/files/treino\"\n",
    "user_target_csv_file = \"treino_parte1.csv\"\n",
    "\n",
    "articles_csv_path = \"../data/itens/itens\"\n",
    "articles_target_csv_file = \"itens-parte1.csv\"\n"
   ]
  },
  {
   "cell_type": "markdown",
   "metadata": {},
   "source": [
    "##### Carregando os dados dos usuários e artigos"
   ]
  },
  {
   "cell_type": "code",
   "execution_count": null,
   "metadata": {},
   "outputs": [],
   "source": [
    "df_users = pd.read_csv(f\"{user_csv_path}/{user_target_csv_file}\")\n",
    "df_articles = pd.read_csv(f\"{articles_csv_path}/{articles_target_csv_file}\")"
   ]
  },
  {
   "cell_type": "markdown",
   "metadata": {},
   "source": [
    "##### Preenchendo valores ausentes de 'history' com lista vazia"
   ]
  },
  {
   "cell_type": "code",
   "execution_count": 63,
   "metadata": {},
   "outputs": [],
   "source": [
    "df_users.fillna({\"history\": \"[]\"}, inplace=True)  # Se history estiver vazio, substitui por lista vazia\n",
    "df_articles.fillna(\"\", inplace=True)"
   ]
  },
  {
   "cell_type": "code",
   "execution_count": 64,
   "metadata": {},
   "outputs": [],
   "source": [
    "df_articles[\"issued\"] = pd.to_datetime(df_articles[\"issued\"]).astype(int) // 10**9\n",
    "df_articles[\"modified\"] = pd.to_datetime(df_articles[\"modified\"]).astype(int) // 10**9\n"
   ]
  },
  {
   "cell_type": "code",
   "execution_count": 65,
   "metadata": {},
   "outputs": [],
   "source": [
    "def convert_to_mean(value):\n",
    "    if isinstance(value, str):\n",
    "        values = [float(x.strip()) for x in value.split(\",\") if x.strip().replace('.', '', 1).isdigit()]\n",
    "        return np.mean(values) if values else 0\n",
    "    return value\n",
    "\n",
    "cols_to_convert = [\"numberOfClicksHistory\", \"timeOnPageHistory\", \"scrollPercentageHistory\", \"pageVisitsCountHistory\"]\n",
    "for col in cols_to_convert:\n",
    "    df_users[col] = df_users[col].apply(convert_to_mean)"
   ]
  },
  {
   "cell_type": "code",
   "execution_count": 66,
   "metadata": {},
   "outputs": [],
   "source": [
    "scaler = MinMaxScaler()\n",
    "df_users[[\n",
    "    \"historySize\",\n",
    "    \"numberOfClicksHistory\",\n",
    "    \"timeOnPageHistory\",\n",
    "    \"scrollPercentageHistory\",\n",
    "    \"pageVisitsCountHistory\"\n",
    "]] = \\\n",
    "    scaler.fit_transform(\n",
    "        df_users[\n",
    "            [\n",
    "                \"historySize\",\n",
    "                \"numberOfClicksHistory\",\n",
    "                \"timeOnPageHistory\",\n",
    "                \"scrollPercentageHistory\",\n",
    "                \"pageVisitsCountHistory\"\n",
    "            ]\n",
    "        ]\n",
    "    )\n"
   ]
  },
  {
   "cell_type": "code",
   "execution_count": 67,
   "metadata": {},
   "outputs": [],
   "source": [
    "df_users[\"history\"] = df_users[\"history\"].apply(lambda x: x.split(\",\") if isinstance(x, str) else [])\n"
   ]
  },
  {
   "cell_type": "code",
   "execution_count": 68,
   "metadata": {},
   "outputs": [],
   "source": [
    "encoder = LabelEncoder()\n",
    "df_users[\"userType\"] = encoder.fit_transform(df_users[\"userType\"])"
   ]
  },
  {
   "cell_type": "code",
   "execution_count": 69,
   "metadata": {},
   "outputs": [],
   "source": [
    "df_users[\"userId\"] = df_users[\"userId\"].astype(\"category\").cat.codes\n",
    "df_articles[\"page\"] = df_articles[\"page\"].astype(\"category\").cat.codes"
   ]
  },
  {
   "cell_type": "code",
   "execution_count": 70,
   "metadata": {},
   "outputs": [],
   "source": [
    "df_users_sampled = df_users.sample(n=1000)  # Amostra de 1000 usuários\n",
    "df_articles_sampled = df_articles.sample(n=100)  # Amostra de 1000 artigos"
   ]
  },
  {
   "cell_type": "code",
   "execution_count": 71,
   "metadata": {},
   "outputs": [],
   "source": [
    "interaction_data_sampled = []\n",
    "for _, row in df_users_sampled.iterrows():\n",
    "    for article in row['history']:\n",
    "        interaction_data_sampled.append((row['userId'], article))\n",
    "\n",
    "df_interactions = pd.DataFrame(interaction_data_sampled, columns=[\"userId\", \"page\"])\n"
   ]
  },
  {
   "cell_type": "code",
   "execution_count": 72,
   "metadata": {},
   "outputs": [
    {
     "name": "stdout",
     "output_type": "stream",
     "text": [
      "✅ Pré-processamento concluído e salvo em Parquet!\n"
     ]
    }
   ],
   "source": [
    "df_users_sampled.to_parquet(\"../artifacts/parquets/usuarios_preprocessados.parquet\", index=False)\n",
    "df_articles_sampled.to_parquet(\"../artifacts/parquets/artigos_preprocessados.parquet\", index=False)\n",
    "df_interactions.to_parquet(\"../artifacts/parquets/interactions.parquet\", index=False)\n",
    "\n",
    "print(\"✅ Pré-processamento concluído e salvo em Parquet!\")"
   ]
  },
  {
   "cell_type": "markdown",
   "metadata": {},
   "source": [
    "##### Collaborative Filtering"
   ]
  },
  {
   "cell_type": "code",
   "execution_count": 73,
   "metadata": {},
   "outputs": [],
   "source": [
    "interaction_matrix = df_interactions.pivot_table(index='userId', columns='page', aggfunc='size', fill_value=0)\n",
    "\n"
   ]
  },
  {
   "cell_type": "code",
   "execution_count": 74,
   "metadata": {},
   "outputs": [],
   "source": [
    "cos_sim = cosine_similarity(interaction_matrix)\n",
    "cos_sim_df = pd.DataFrame(cos_sim, index=interaction_matrix.index, columns=interaction_matrix.index)"
   ]
  },
  {
   "cell_type": "code",
   "execution_count": 75,
   "metadata": {},
   "outputs": [
    {
     "name": "stdout",
     "output_type": "stream",
     "text": [
      "Matriz de similaridade entre usuários:\n",
      "userId     13     74     103       113       192    573    680    742    \\\n",
      "userId                                                                    \n",
      "13      1.000000    0.0    0.0  0.031757  0.026326    0.0    0.0    0.0   \n",
      "74      0.000000    1.0    0.0  0.000000  0.000000    0.0    0.0    0.0   \n",
      "103     0.000000    0.0    1.0  0.000000  0.000000    0.0    0.0    0.0   \n",
      "113     0.031757    0.0    0.0  1.000000  0.081096    0.0    0.0    0.0   \n",
      "192     0.026326    0.0    0.0  0.081096  1.000000    0.0    0.0    0.0   \n",
      "\n",
      "userId  772       778    ...  98645     98698     98708  98731  99162  99171  \\\n",
      "userId                   ...                                                   \n",
      "13        0.0  0.024626  ...    0.0  0.000000  0.041451    0.0    0.0    0.0   \n",
      "74        0.0  0.000000  ...    0.0  0.000000  0.000000    0.0    0.0    0.0   \n",
      "103       0.0  0.000000  ...    0.0  0.000000  0.000000    0.0    0.0    0.0   \n",
      "113       0.0  0.000000  ...    0.0  0.000000  0.042563    0.0    0.0    0.0   \n",
      "192       0.0  0.031442  ...    0.0  0.037424  0.026463    0.0    0.0    0.0   \n",
      "\n",
      "userId  99336  99751     99852  99889  \n",
      "userId                                 \n",
      "13        0.0    0.0  0.038376    0.0  \n",
      "74        0.0    0.0  0.000000    0.0  \n",
      "103       0.0    0.0  0.000000    0.0  \n",
      "113       0.0    0.0  0.019703    0.0  \n",
      "192       0.0    0.0  0.012250    0.0  \n",
      "\n",
      "[5 rows x 1000 columns]\n"
     ]
    }
   ],
   "source": [
    "print(\"Matriz de similaridade entre usuários:\")\n",
    "print(cos_sim_df.head())"
   ]
  },
  {
   "cell_type": "markdown",
   "metadata": {},
   "source": [
    "##### K Means"
   ]
  },
  {
   "cell_type": "code",
   "execution_count": 76,
   "metadata": {},
   "outputs": [
    {
     "name": "stdout",
     "output_type": "stream",
     "text": [
      "Clusters dos usuários:\n",
      "       userId  cluster\n",
      "57957   54594        1\n",
      "67143   56041        0\n",
      "52847   99852        0\n",
      "92536   46674        0\n",
      "7268    96376        0\n"
     ]
    }
   ],
   "source": [
    "kmeans = KMeans(n_clusters=3, random_state=42)\n",
    "df_users_sampled['cluster'] = kmeans.fit_predict(df_users_sampled[['numberOfClicksHistory', 'timeOnPageHistory']])\n",
    "\n",
    "# Exibindo clusters dos usuários\n",
    "print(\"Clusters dos usuários:\")\n",
    "print(df_users_sampled[['userId', 'cluster']].head())"
   ]
  },
  {
   "cell_type": "markdown",
   "metadata": {},
   "source": [
    "##### Carregando os dados de validação"
   ]
  },
  {
   "cell_type": "code",
   "execution_count": 1,
   "metadata": {},
   "outputs": [
    {
     "ename": "NameError",
     "evalue": "name 'pd' is not defined",
     "output_type": "error",
     "traceback": [
      "\u001b[0;31m---------------------------------------------------------------------------\u001b[0m",
      "\u001b[0;31mNameError\u001b[0m                                 Traceback (most recent call last)",
      "Cell \u001b[0;32mIn[1], line 1\u001b[0m\n\u001b[0;32m----> 1\u001b[0m df_validacao \u001b[38;5;241m=\u001b[39m \u001b[43mpd\u001b[49m\u001b[38;5;241m.\u001b[39mread_csv(\u001b[38;5;124m\"\u001b[39m\u001b[38;5;124m../data/validacao.csv\u001b[39m\u001b[38;5;124m\"\u001b[39m)\n",
      "\u001b[0;31mNameError\u001b[0m: name 'pd' is not defined"
     ]
    }
   ],
   "source": [
    "df_validacao = pd.read_csv(\"../data/validacao.csv\")"
   ]
  },
  {
   "cell_type": "markdown",
   "metadata": {},
   "source": [
    "##### Função para calcular a precisão das recomendações"
   ]
  },
  {
   "cell_type": "code",
   "execution_count": null,
   "metadata": {},
   "outputs": [],
   "source": [
    "def evaluate_recommendations(user_id, similar_users, recommended_articles, history):\n",
    "    relevant_articles = [article.strip() for article in history]\n",
    "    correct_recommendations = len(set(recommended_articles).intersection(set(relevant_articles)))\n",
    "    total_recommendations = len(recommended_articles)\n",
    "    return correct_recommendations, total_recommendations"
   ]
  },
  {
   "cell_type": "markdown",
   "metadata": {},
   "source": [
    "##### Recomendações para usuários de validação"
   ]
  },
  {
   "cell_type": "code",
   "execution_count": null,
   "metadata": {},
   "outputs": [],
   "source": [
    "correct_recommendations = 0\n",
    "total_recommendations = 0\n",
    "\n",
    "for _, row in df_validacao.iterrows():\n",
    "    user_id = row['userId']\n",
    "    \n",
    "    # Usuários similares\n",
    "    user_similarity = cos_sim_df[user_id]\n",
    "    similar_users = user_similarity.sort_values(ascending=False).index[1:4]\n",
    "    \n",
    "    # Artigos recomendados\n",
    "    recommended_articles = []\n",
    "    for similar_user in similar_users:\n",
    "        similar_user_articles = df_interactions[df_interactions['userId'] == similar_user]['page']\n",
    "        recommended_articles.extend(similar_user_articles)\n",
    "    \n",
    "    # Removendo duplicatas\n",
    "    recommended_articles = list(set(recommended_articles))\n",
    "    \n",
    "    # Avaliar precisão das recomendações\n",
    "    correct, total = evaluate_recommendations(user_id, similar_users, recommended_articles, row['history'])\n",
    "    correct_recommendations += correct\n",
    "    total_recommendations += total"
   ]
  },
  {
   "cell_type": "markdown",
   "metadata": {},
   "source": [
    "##### Calculando a precisão das recomendações"
   ]
  },
  {
   "cell_type": "code",
   "execution_count": null,
   "metadata": {},
   "outputs": [],
   "source": [
    "precision = correct_recommendations / total_recommendations if total_recommendations > 0 else 0\n",
    "print(f\"✅ Precisão das recomendações: {precision:.2f}\")"
   ]
  },
  {
   "cell_type": "code",
   "execution_count": 77,
   "metadata": {},
   "outputs": [
    {
     "name": "stdout",
     "output_type": "stream",
     "text": [
      "Usuários mais similares ao usuário 54594:\n",
      "Index([63599, 13, 63937], dtype='int64', name='userId')\n"
     ]
    }
   ],
   "source": [
    "# Recomendações para um usuário logado\n",
    "user_id = df_users_sampled['userId'].iloc[0]  # Exemplo de usuário logado (pode ser qualquer userId)\n",
    "user_similarity = cos_sim_df[user_id]\n",
    "similar_users = user_similarity.sort_values(ascending=False).index[1:4]\n",
    "print(f\"Usuários mais similares ao usuário {user_id}:\")\n",
    "print(similar_users)"
   ]
  },
  {
   "cell_type": "markdown",
   "metadata": {},
   "source": [
    "##### Sugestões de artigos baseadas em similaridade (para o usuário logado)\n"
   ]
  },
  {
   "cell_type": "code",
   "execution_count": 78,
   "metadata": {},
   "outputs": [],
   "source": [
    "recommended_articles = []\n",
    "for similar_user in similar_users:\n",
    "    similar_user_articles = df_interactions[df_interactions['userId'] == similar_user]['page']\n",
    "    recommended_articles.extend(similar_user_articles)"
   ]
  },
  {
   "cell_type": "code",
   "execution_count": 79,
   "metadata": {},
   "outputs": [
    {
     "name": "stdout",
     "output_type": "stream",
     "text": [
      "Artigos recomendados:\n",
      "[' 27625dab-0353-4ea8-b88c-b945c9e782dc', ' 564f0976-781b-44e7-96c8-7377097d0101', ' f4ac3eb5-e145-4685-b9e9-b61f3551aa58', '83ebda93-e1cf-422d-ae6b-18298c55ed8e', ' 8d477e04-3bab-4ad9-8fe3-799059238a9c', ' a6e7224d-da3e-468f-bc51-26331659e06a', ' 0f9229b8-9135-4352-914e-24d0d93f42b1', ' 2330ef03-c745-4707-845a-4b1bf57d9120', ' 61e07f64-cddf-46f2-b50c-ea0a39c22050', ' eba80def-f516-4e77-b812-0173f7a2eb77', ' 2008f497-c05f-49e0-88dd-86aa1e395f15', ' 96d328b9-5da7-4389-a9ac-765e98971ab7', ' 458bf0ec-efb4-4bfd-9446-c80295e6aa87', ' a9edcef3-47c9-4be0-803d-6350d045a78b', ' 4df3873b-0e51-46ea-8dd7-e820fb7faf14', 'b9a15097-20af-4816-a7db-c6f248a76212', ' dc009ac8-363b-40ad-ba25-c11e4318ea8e', ' 4c586bb4-f71d-4b39-9df8-e38ac3f632a0', ' f13bf60f-17b5-4443-9513-c52e7a933bac', ' d973bcc5-eb9d-4c11-8017-c88828858da4', ' cd57090e-4d8f-40bd-acc7-f53844dd2414', ' 469ba500-91f0-4797-abc6-1d407af8939f', ' 882e7c95-935a-4eab-9ece-f85f5f7d0f4e', ' 69e871f3-1c88-4482-86ef-ca19191f2acd', ' 13f2cc37-f575-44d5-b33f-045d0b0a912b', ' f6b5d170-48b9-4f8e-88d4-c84b6668f3bd', ' 0d5865c5-8185-4143-a707-4c3c6238cec7', ' 26eff48f-8747-4ac2-8c76-3b2ae622db1c', ' 1f32787b-de2b-49be-8c20-ddaeae34cc22', ' d303158c-8b2c-45de-ad18-2fdf67d06397', ' 15281e10-e6bc-48bc-9b1b-94402f83699b', ' 296e5ec3-fb81-4a50-80dc-b6fdb8086ce1', ' 1ccca3bf-a8ec-4304-a6ad-f58b578ee50a', ' 5ebb080a-e96f-4ece-87af-e276fd9d42eb', ' 81f9d68b-2783-4f7e-8bdc-7fb8ca49a2cb', ' 7b38299d-07c4-4b5b-af10-0023d65dbf5d', ' e6846c18-8ebd-48eb-a076-322974711472', ' d6c6e4c7-489b-414f-a22e-41b63b4b8fdd', ' 89fa73f0-4341-4de4-bb2a-e429ef96bd43', ' 36778383-3757-4f10-aae8-3e412de1888c', ' ff3e8c61-d72a-42bf-a84a-ecf5409468dd', ' c0fe5ffb-5951-405f-a524-2feaa4a5ad34', ' 9eb468ec-bad6-4f55-b45d-e00bb3cd1950', ' c88cebc3-e150-4efc-993b-76cda07dc6ef', ' 6cfefe32-99ae-43d6-aa24-5973842cd65e', ' c85cb6f6-60e1-4a94-8f8f-6b436bb1d77c', ' bfec08b4-841c-4e6d-9b75-b4e81e3ff649', ' d5a7e11a-8665-4dfd-bf5b-cc1d5564d964', ' 79fa537e-6643-4a83-8896-2e1ea3d18215', ' 6f344c45-e731-41b4-8c65-9967ebc03096', ' 68c614b6-3f8d-4de3-80bf-5880b7969dfd', ' 08a14cc3-ca3a-4f4a-ac12-6c21dc50c432', ' 93fddc18-8969-420c-8401-e008d31489ec', ' 69b5600c-b73c-458c-bda4-e65b5933b6d1', ' 3c941fc4-43eb-482e-9160-e186bd71f66f', ' e770e08d-7d5d-4ecf-8077-5a090f085232', ' e8642618-47e1-4a15-a0e4-6b5eafec322f', ' c61ef14d-e80b-44c5-a4db-3bc7ae70e9f9', ' a25e68dd-1343-4dc5-be73-2ae40aaca5ee', ' 5acaac71-a0c9-4d6f-897d-308409a37f01', ' fd593fb8-0558-4a67-aa02-3cbf95a9469f', ' a70185af-4f8f-4305-81cf-dafa83dcb8b8', ' 7a01fdb1-c5c0-4833-a252-8593f91eed3d', ' 67dba0cd-26d8-436b-af84-88032afec923', ' 6b5f284d-0a3d-499c-b132-4cf501f60bdd', ' 2624ff77-4122-434d-a0f4-4685994cd325', ' ccff715f-875a-4ef6-a18a-ad13d5f50f9c', ' 56b39a7d-a621-4516-9eaa-adbeedd30042', ' 2e3300c6-3a18-4908-b9a9-a955cfcdcfcc', ' f4d46a04-e9dc-4cb1-a383-af5c2a6413d6', ' f38d9b98-70c5-44c2-9a6d-fcee0df331ab', ' 5b68d910-8e4a-4fa5-8fae-65c841282e94', ' 127dc467-cdde-4738-aa8c-e18ab0e3e81c', ' 106e6c31-5aa8-4d21-8d76-2fd90d35dba1', ' f14ffcb3-49c4-4718-962b-862a655494b0', ' 7efdbce1-96ba-42cd-8cd6-988f4427f2ed', ' 7b6d3c68-cc6e-477b-86d0-622fbe7ffdfc', ' 68bc8994-ebef-4e48-8478-e7fe1619ae58', ' e8ee236a-ab4c-466a-97dc-0811aea169c2', ' eeb9ad8c-7f32-4764-b9b6-e1360468e40c', ' cb324527-6a66-491d-b53c-6a6d7ece566f', ' e93f13f3-466e-4a34-8cb3-09460b909d29', ' 855d20b7-53f2-4678-a10f-55402d085018', 'c159a090-b955-4ec8-906d-9d4939664051', ' 047cf8f8-9ced-49ad-b159-4879ae1573c9', ' a36c0493-9523-4b7b-a765-e5c537c90855', ' 1a9dce44-e66c-4342-9b28-1ed09cd6a8dc', ' 139c9e4d-b7eb-43d0-b2fc-1cb230f0adc8', ' 541e8d97-b8e4-4ddc-91c1-ae593e835891', ' 1019cd00-2ab0-4a3c-8693-e88b4ad99d2f', ' 5af379e6-1bd1-4cf8-a23c-03266fb77b2c', ' 3ffb80eb-0ae9-457e-883c-d52f57c124c0', ' 7caf0079-a39e-4f7d-9d5b-7f8d8a625f2f', ' 1c4bec68-91dd-4479-9604-055b82700747', ' 674672ff-3bf9-42cf-ab90-659a146a8776', ' 1a732119-0975-4bc2-8077-cb2ae8d249af', ' 3b8cd1b0-4cbf-44a5-9261-7b1dba64fcc2', ' 3dd4237c-a8f7-4b12-8898-616f02647ab2', ' 5cfcb9df-dda8-49ac-8b90-07ac00aa2d0f']\n"
     ]
    }
   ],
   "source": [
    "# Exibindo os artigos recomendados\n",
    "recommended_articles = list(set(recommended_articles))  # Removendo duplicatas\n",
    "print(\"Artigos recomendados:\")\n",
    "print(recommended_articles)"
   ]
  },
  {
   "cell_type": "code",
   "execution_count": 80,
   "metadata": {},
   "outputs": [
    {
     "name": "stdout",
     "output_type": "stream",
     "text": [
      "Artigos mais populares:\n",
      "                                       page  popularity\n",
      "5365   f6b5d170-48b9-4f8e-88d4-c84b6668f3bd          40\n",
      "676    1f32787b-de2b-49be-8c20-ddaeae34cc22          36\n",
      "5224   f0a78e58-ec7e-494c-9462-fbd6446a9a89          34\n"
     ]
    }
   ],
   "source": [
    "# Recomendações para usuários não logados: artigos populares\n",
    "popular_articles = df_interactions.groupby('page').size().reset_index(name='popularity')\n",
    "popular_articles = popular_articles.sort_values('popularity', ascending=False)\n",
    "print(\"Artigos mais populares:\")\n",
    "print(popular_articles.head(3))"
   ]
  },
  {
   "cell_type": "code",
   "execution_count": 81,
   "metadata": {},
   "outputs": [],
   "source": [
    "artifacts_models_path = \"../artifacts/models\"\n",
    "\n",
    "joblib.dump(kmeans, f\"{artifacts_models_path}/kmeans_model.pkl\")\n",
    "\n",
    "# Save cosine similarity matrix\n",
    "with open(f\"{artifacts_models_path}/cos_sim_matrix.pkl\", \"wb\") as f:\n",
    "    pickle.dump(cos_sim_df, f)\n",
    "\n",
    "# Save user and article DataFrames for later use\n",
    "df_users_sampled.to_pickle(f\"{artifacts_models_path}/usuarios_preprocessados.pkl\")\n",
    "df_articles_sampled.to_pickle(f\"{artifacts_models_path}/artigos_preprocessados.pkl\")"
   ]
  }
 ],
 "metadata": {
  "kernelspec": {
   "display_name": ".venv",
   "language": "python",
   "name": "python3"
  },
  "language_info": {
   "codemirror_mode": {
    "name": "ipython",
    "version": 3
   },
   "file_extension": ".py",
   "mimetype": "text/x-python",
   "name": "python",
   "nbconvert_exporter": "python",
   "pygments_lexer": "ipython3",
   "version": "3.12.3"
  }
 },
 "nbformat": 4,
 "nbformat_minor": 2
}
