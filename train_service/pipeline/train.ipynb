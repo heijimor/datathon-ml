{
 "cells": [
  {
   "cell_type": "code",
   "execution_count": 159,
   "metadata": {},
   "outputs": [],
   "source": [
    "import pandas as pd\n",
    "import numpy as np\n",
    "import joblib\n",
    "import pickle\n",
    "from sklearn.preprocessing import MinMaxScaler, LabelEncoder\n",
    "from sklearn.metrics.pairwise import cosine_similarity\n",
    "from sklearn.cluster import KMeans"
   ]
  },
  {
   "cell_type": "code",
   "execution_count": 160,
   "metadata": {},
   "outputs": [],
   "source": [
    "user_csv_path = \"../data/files/treino\"\n",
    "user_target_csv_file = \"treino_parte1.csv\"\n",
    "\n",
    "articles_csv_path = \"../data/itens/itens\"\n",
    "articles_target_csv_file = \"itens-parte1.csv\"\n",
    "\n",
    "df_users = pd.read_csv(f\"{user_csv_path}/{user_target_csv_file}\")\n",
    "df_articles = pd.read_csv(f\"{articles_csv_path}/{articles_target_csv_file}\")"
   ]
  },
  {
   "cell_type": "code",
   "execution_count": 161,
   "metadata": {},
   "outputs": [],
   "source": [
    "df_users.fillna({\"history\": \"[]\"}, inplace=True)  # Se history estiver vazio, substitui por lista vazia\n",
    "df_articles.fillna(\"\", inplace=True)"
   ]
  },
  {
   "cell_type": "code",
   "execution_count": 162,
   "metadata": {},
   "outputs": [],
   "source": [
    "df_articles[\"issued\"] = pd.to_datetime(df_articles[\"issued\"]).astype(int) // 10**9\n",
    "df_articles[\"modified\"] = pd.to_datetime(df_articles[\"modified\"]).astype(int) // 10**9\n"
   ]
  },
  {
   "cell_type": "code",
   "execution_count": 163,
   "metadata": {},
   "outputs": [],
   "source": [
    "def convert_to_mean(value):\n",
    "    if isinstance(value, str):\n",
    "        values = [float(x.strip()) for x in value.split(\",\") if x.strip().replace('.', '', 1).isdigit()]\n",
    "        return np.mean(values) if values else 0\n",
    "    return value\n",
    "\n",
    "cols_to_convert = [\"numberOfClicksHistory\", \"timeOnPageHistory\", \"scrollPercentageHistory\", \"pageVisitsCountHistory\"]\n",
    "for col in cols_to_convert:\n",
    "    df_users[col] = df_users[col].apply(convert_to_mean)"
   ]
  },
  {
   "cell_type": "code",
   "execution_count": 164,
   "metadata": {},
   "outputs": [],
   "source": [
    "scaler = MinMaxScaler()\n",
    "df_users[[\n",
    "    \"historySize\",\n",
    "    \"numberOfClicksHistory\",\n",
    "    \"timeOnPageHistory\",\n",
    "    \"scrollPercentageHistory\",\n",
    "    \"pageVisitsCountHistory\"\n",
    "]] = \\\n",
    "    scaler.fit_transform(\n",
    "        df_users[\n",
    "            [\n",
    "                \"historySize\",\n",
    "                \"numberOfClicksHistory\",\n",
    "                \"timeOnPageHistory\",\n",
    "                \"scrollPercentageHistory\",\n",
    "                \"pageVisitsCountHistory\"\n",
    "            ]\n",
    "        ]\n",
    "    )\n"
   ]
  },
  {
   "cell_type": "code",
   "execution_count": 165,
   "metadata": {},
   "outputs": [],
   "source": [
    "df_users[\"history\"] = df_users[\"history\"].apply(lambda x: x.split(\",\") if isinstance(x, str) else [])\n"
   ]
  },
  {
   "cell_type": "code",
   "execution_count": 166,
   "metadata": {},
   "outputs": [],
   "source": [
    "encoder = LabelEncoder()\n",
    "df_users[\"userType\"] = encoder.fit_transform(df_users[\"userType\"])"
   ]
  },
  {
   "cell_type": "code",
   "execution_count": 167,
   "metadata": {},
   "outputs": [],
   "source": [
    "df_users[\"userId\"] = df_users[\"userId\"].astype(\"category\").cat.codes\n",
    "df_articles[\"page\"] = df_articles[\"page\"].astype(\"category\").cat.codes"
   ]
  },
  {
   "cell_type": "code",
   "execution_count": 168,
   "metadata": {},
   "outputs": [],
   "source": [
    "df_users_sampled = df_users.sample(n=1000)  # Amostra de 1000 usuários\n",
    "df_articles_sampled = df_articles.sample(n=1000)  # Amostra de 1000 artigos"
   ]
  },
  {
   "cell_type": "code",
   "execution_count": 169,
   "metadata": {},
   "outputs": [],
   "source": [
    "interaction_data_sampled = []\n",
    "for _, row in df_users_sampled.iterrows():\n",
    "    for article in row['history']:\n",
    "        interaction_data_sampled.append((row['userId'], article))\n",
    "\n",
    "df_interactions = pd.DataFrame(interaction_data_sampled, columns=[\"userId\", \"page\"])\n"
   ]
  },
  {
   "cell_type": "code",
   "execution_count": 170,
   "metadata": {},
   "outputs": [
    {
     "name": "stdout",
     "output_type": "stream",
     "text": [
      "✅ Pré-processamento concluído e salvo em Parquet!\n"
     ]
    }
   ],
   "source": [
    "df_users_sampled.to_parquet(\"../artifacts/parquets/usuarios_preprocessados.parquet\", index=False)\n",
    "df_articles_sampled.to_parquet(\"../artifacts/parquets/artigos_preprocessados.parquet\", index=False)\n",
    "df_interactions.to_parquet(\"../artifacts/parquets/interactions.parquet\", index=False)\n",
    "\n",
    "print(\"✅ Pré-processamento concluído e salvo em Parquet!\")"
   ]
  },
  {
   "cell_type": "markdown",
   "metadata": {},
   "source": [
    "##### Collaborative Filtering"
   ]
  },
  {
   "cell_type": "code",
   "execution_count": 171,
   "metadata": {},
   "outputs": [],
   "source": [
    "interaction_matrix = df_interactions.pivot_table(index='userId', columns='page', aggfunc='size', fill_value=0)\n",
    "\n"
   ]
  },
  {
   "cell_type": "code",
   "execution_count": 172,
   "metadata": {},
   "outputs": [],
   "source": [
    "cos_sim = cosine_similarity(interaction_matrix)\n",
    "cos_sim_df = pd.DataFrame(cos_sim, index=interaction_matrix.index, columns=interaction_matrix.index)"
   ]
  },
  {
   "cell_type": "code",
   "execution_count": 173,
   "metadata": {},
   "outputs": [
    {
     "name": "stdout",
     "output_type": "stream",
     "text": [
      "Matriz de similaridade entre usuários:\n",
      "userId  103    424    563    686    789    813    1067   1078   1111   1375   \\\n",
      "userId                                                                         \n",
      "103       1.0    0.0    0.0    0.0    0.0    0.0    0.0    0.0    0.0    0.0   \n",
      "424       0.0    1.0    0.0    0.0    0.0    0.0    0.0    0.0    0.0    0.0   \n",
      "563       0.0    0.0    1.0    0.0    0.0    0.0    0.0    0.0    0.0    0.0   \n",
      "686       0.0    0.0    0.0    1.0    0.0    0.0    0.0    0.0    0.0    0.0   \n",
      "789       0.0    0.0    0.0    0.0    1.0    0.0    0.0    0.0    0.0    0.0   \n",
      "\n",
      "userId  ...  98507  98574  98760  98857  98967  99224  99650  99732  99803  \\\n",
      "userId  ...                                                                  \n",
      "103     ...    0.0    0.0    0.0    0.0    0.0    0.0    0.0    0.0    0.0   \n",
      "424     ...    0.0    0.0    0.0    0.0    0.0    0.0    0.0    0.0    0.0   \n",
      "563     ...    0.0    0.0    0.0    0.0    0.0    0.0    0.0    0.0    0.0   \n",
      "686     ...    0.0    0.0    0.0    0.0    0.0    0.0    0.0    0.0    0.0   \n",
      "789     ...    0.0    0.0    0.0    0.0    0.0    0.0    0.0    0.0    0.0   \n",
      "\n",
      "userId  99898  \n",
      "userId         \n",
      "103       0.0  \n",
      "424       0.0  \n",
      "563       0.0  \n",
      "686       0.0  \n",
      "789       0.0  \n",
      "\n",
      "[5 rows x 1000 columns]\n"
     ]
    }
   ],
   "source": [
    "print(\"Matriz de similaridade entre usuários:\")\n",
    "print(cos_sim_df.head())"
   ]
  },
  {
   "cell_type": "markdown",
   "metadata": {},
   "source": [
    "##### K Means"
   ]
  },
  {
   "cell_type": "code",
   "execution_count": 182,
   "metadata": {},
   "outputs": [
    {
     "name": "stdout",
     "output_type": "stream",
     "text": [
      "Clusters dos usuários:\n",
      "   userId  cluster\n",
      "0   97469        0\n",
      "1   17012        0\n",
      "2    4213        0\n",
      "3   75845        0\n",
      "4   90379        1\n"
     ]
    }
   ],
   "source": [
    "kmeans = KMeans(n_clusters=3, random_state=42)\n",
    "df_users['cluster'] = kmeans.fit_predict(df_users[['numberOfClicksHistory', 'timeOnPageHistory']])\n",
    "\n",
    "# Exibindo clusters dos usuários\n",
    "print(\"Clusters dos usuários:\")\n",
    "print(df_users[['userId', 'cluster']].head())"
   ]
  },
  {
   "cell_type": "code",
   "execution_count": 180,
   "metadata": {},
   "outputs": [
    {
     "name": "stdout",
     "output_type": "stream",
     "text": [
      "Usuários mais similares ao usuário 69817:\n",
      "Index([45314, 67821, 68834], dtype='int64', name='userId')\n"
     ]
    }
   ],
   "source": [
    "# Recomendações para um usuário logado\n",
    "user_id = df_users_sampled['userId'].iloc[0]  # Exemplo de usuário logado (pode ser qualquer userId)\n",
    "user_similarity = cos_sim_df[user_id]\n",
    "similar_users = user_similarity.sort_values(ascending=False).index[1:4]\n",
    "print(f\"Usuários mais similares ao usuário {user_id}:\")\n",
    "print(similar_users)"
   ]
  },
  {
   "cell_type": "markdown",
   "metadata": {},
   "source": [
    "##### Sugestões de artigos baseadas em similaridade (para o usuário logado)\n"
   ]
  },
  {
   "cell_type": "code",
   "execution_count": 176,
   "metadata": {},
   "outputs": [],
   "source": [
    "recommended_articles = []\n",
    "for similar_user in similar_users:\n",
    "    similar_user_articles = df_interactions[df_interactions['userId'] == similar_user]['page']\n",
    "    recommended_articles.extend(similar_user_articles)"
   ]
  },
  {
   "cell_type": "code",
   "execution_count": 177,
   "metadata": {},
   "outputs": [
    {
     "name": "stdout",
     "output_type": "stream",
     "text": [
      "Artigos recomendados:\n",
      "[' 8864af44-c4a2-4862-82de-be58579ac4f3', ' d8de2192-12b4-4fb5-97d8-8a6360a10e78', ' 1c27cf97-b20c-4e40-b1f1-288b721517b3', ' 45fcb63b-d80b-42af-8aa1-988149bcd1da', ' 54cb252a-78b5-463d-b31f-f54f63d85a29', ' 7594da99-d606-4338-a373-710a7dec776a', '5ecc4b24-ff5d-4f8c-8449-53de3b34d213', ' e3cdb277-ad80-4025-b5de-cd98cc67d23d', ' e93f13f3-466e-4a34-8cb3-09460b909d29', ' 8e0884e2-50ba-44c0-87b9-d64d913288af', ' 8be03387-6c44-43cc-93ad-65824af9c22a', ' af617145-c750-4973-81eb-a1ff00e6ed1c', ' 46fd2c8e-9759-4c39-91e4-94255a55c994', ' 87144e30-a396-47ed-8168-8c7992503192', ' 61e07f64-cddf-46f2-b50c-ea0a39c22050', ' 3936f6c7-3f6c-4205-8cda-3178160b6cd4', ' bf44b8ea-c737-4eec-a51b-01006202f303', ' 44afad69-6dff-4068-9e10-3092b659e6d4', ' 12c44ec3-3624-4c0d-990d-27c38e7a5848', ' 788b88f5-d957-4152-8a8e-4c8656405b24', ' 6c92672d-9c82-4fb1-b07f-c701a90e2fd2', ' ca35decb-6955-44b5-b2fa-eb4529c3cb5c', ' 5e426801-9a31-40b5-a492-26db7545dccb', ' cbc832d6-af68-41bf-91d4-8740d71c5952', ' a4b78e6a-ce83-40dc-9fb6-6dd313a6bd71', ' 949a81ac-5df1-4e7b-9f4e-e364b5603e68', ' bdbf6235-f421-4700-a5a9-bba9a8b51b5b', ' dc5abd37-fda0-4ad8-9620-8db2b13090d5', ' a1eeb178-ed8a-4d6b-b2aa-1921fb0db978', ' f0a78e58-ec7e-494c-9462-fbd6446a9a89', ' 81554b6d-3d0d-45ea-a5f5-15c09331690d', ' a36c98b5-f159-48f8-9f5a-1fc6ea9956c8', ' ff3e8c61-d72a-42bf-a84a-ecf5409468dd', ' ad2cfd11-eecb-445e-ba97-575bae8acf6d', ' 35e05c24-1d29-498e-81f3-ecc93841c3d7', ' ad42c4b0-dfb5-49fb-87bf-7b5d055b6e8e', ' 46726d44-b83a-4f34-bb8b-738f4205af48', ' 730b9cfd-6c7e-41bf-b8ec-d34ced692ca8', ' 5af99ef3-adff-464d-9976-5c5d6391b014', ' d6d7696e-9bd3-4cb4-9cbd-9e58b9656bd4', ' 05426b90-aa7f-48ce-b2a3-ccad12eab0f0', ' 5a867ffb-7227-416d-a286-f73c9ee6a4af', ' 66abbc4b-a541-4802-8ef5-b169786e44ba', ' 7b056bf6-c232-46bd-8903-59145ff7ce46', 'fe856057-f97d-419f-ab1c-97c5c3e0719c', ' ece7f38e-1744-4885-83d9-2ffb89e40b11', ' cfd2a7e6-c4a9-40b8-af6a-5cc8f6555724', ' 1722384c-f8ad-40e3-8f3f-a73d3634e47c', ' 008d7a48-0864-4202-9a4e-b5d4f3c08e8b', ' 4d16a079-ca73-4bb6-b6ce-872bdddf1aa4', ' e5cdd1b0-f635-4b0f-b508-bad89e69200c', ' 4e9c2825-ff13-41ca-8e91-edd848060d19', ' 367b7f24-f9fc-4e51-9796-87852fffe0b6', ' 66a9efac-fd43-4fd1-9824-c404b08efa5d', ' 458bf0ec-efb4-4bfd-9446-c80295e6aa87', ' 47f35bcf-6d49-4075-a053-a654175ca17f', ' 3ce73782-d80e-4031-be53-5761b158cae7', ' 90742b11-51f4-46f2-bf58-24ffeb9f605c', ' 78154e46-5198-47ef-859d-42d75fc357ca', ' be509fd3-131d-49ac-a38a-4f06601748ef', ' 860117b1-91fb-4eae-bc73-df0609e80359', ' 914fe264-109c-4d4d-8f18-052785666a24', ' 8956c97a-6d85-4d4b-a6f7-6d42c6be97cc', ' 064b539b-a4cd-4781-b97f-9e9859ce15f7', ' 38f206b8-17eb-4f60-8a20-27e808061ef5', ' d61c5cc7-2a4f-42c5-ab06-bef4a6314808', ' 6760953a-6c40-461c-87ef-45639ea4909a', ' 9d3a872f-51cc-46ca-8e01-e57a0a918801', ' 96d328b9-5da7-4389-a9ac-765e98971ab7', ' 50f85bf5-c153-4611-bf35-2f781ae4e234', ' d57f0e9a-445b-465d-b757-be4f32e75fb9', ' 0650a691-26f6-4a08-85c8-4716ae0d5388', ' 82206221-05a0-4f89-aa10-e8c8dc0cc418', ' 4e2281de-bab1-4f06-b3e9-8263d0ab2b0b', ' 5f2f1833-d203-486a-ac56-665fc3767018', ' 17d0a275-8223-472c-8c9c-cafdbd6b5739', ' f00301ea-a6ff-437d-b83d-f18cc5d1a314', ' a4a90685-5ce6-4c6f-9fd3-0316c052bb0a', ' b6ff34a6-65f6-43d4-a434-c72e009e32dd', ' c20d9fa5-09a7-4050-b45a-5f50ee5daa16', ' 548c2b5f-3895-41f2-a4df-7cd37b3bae72', ' f1726a43-1336-4533-af78-a70e89ea9597', ' 4b715f78-cfb2-4cef-bce4-7f50c8c9ecd4', ' e4b31b93-9ee8-4754-a18a-88192298a160', ' 750ec729-cd61-4227-85fe-a1e0ebbf7d50', ' 44fdcedf-e9ae-4748-8ab3-0cdb466672a6', ' 7a01fdb1-c5c0-4833-a252-8593f91eed3d', ' 7ccdee1e-c91a-4c93-8bca-d671cab1ee1c', ' a9d7094a-dabe-42bc-abbe-d703783abd13', ' ffeea3a6-d969-4a9a-baf0-101da68da3f9', ' 6c04dc83-e523-4a23-9329-5499a899392c', ' c35f9d36-653c-4cb2-bc0f-9911da1c9c1a', ' defe8f9d-26e0-4942-8f0f-a622c9b7514f', ' 4c63d7cd-4902-4ffb-9b94-578b1b2151f0', ' 4e163060-2488-4627-a8ba-bbfc54a4d57d', ' 557c0d37-0427-407d-a235-c78028d91220', ' 756f1fd7-703f-4ba3-ac49-a7c9bff1b1ec', ' ad983a90-1972-4374-8562-a28a4cd5792a', ' d262c24d-1d6a-4c9a-97db-a721bd27f9db', ' a6e7224d-da3e-468f-bc51-26331659e06a', ' 83568c85-7264-4e45-8a2e-eeb246118465', ' 5dc238f3-93be-4fbe-ab76-ec09c9cdcbd3', ' 05606e8a-4053-4683-ab95-3903bb2d4efd', ' b9c4389e-4a21-49b1-9988-018b4a47544f', ' 4af297bb-2e25-4dd1-b605-24163aca90a9', ' d8b6f5a1-2f96-4d02-a78f-dbe1c87946f8', ' 3137f551-87d2-48b6-82bf-48b2bf11e643', ' 6a83890a-d9e9-4f6b-a6c6-90d031785bbf', ' e77e093c-d944-4d4c-9143-e67c75c616c5', ' a9466ce5-0cc8-4cad-96f3-fa3de8becf7e', ' 029c4dd9-4231-469e-8eca-3de5f05ea046', ' 7c2c0c12-6dee-4f32-ac9b-15bc975ebbbc', '89aae87e-4c3c-4cab-ae0b-90454cd91e6f', ' 7c9b8846-a95c-40ff-b7e7-732169cc1f0d', ' f6b5d170-48b9-4f8e-88d4-c84b6668f3bd', ' e4a32f87-4d4a-42dd-b1d0-b4d0564b03bf', ' 256ec832-96f3-4066-a866-e78772d1b8a8', ' 1d22f204-4cea-4b1d-95da-f6fbe57cd622', ' a03784f7-9505-47c3-bfee-6becc405ef0a', ' 6a64daa7-32ec-4d35-a7ec-f3df800f6d5e', ' fd3cef8e-7a96-4c4e-a76f-983b7de8931f', ' 2008f497-c05f-49e0-88dd-86aa1e395f15', ' 529a23e0-baa8-4824-9554-416ceba464ae', ' b442d94e-f0c5-4fc1-9406-a4b64b595d71', ' 855d20b7-53f2-4678-a10f-55402d085018', ' d2593c3d-2347-40d9-948c-b6065e8459a9', ' 6d2b48fe-1ada-48c9-a508-73e19e83069d', ' d6b4d7b3-1721-4721-aa00-29fc7b97a567', ' 9d780356-4f15-4feb-bad4-311edddf1826', ' 26516399-e091-4bc4-89e4-d9d45cc3f9e4', ' 83cf1546-5235-491f-ae0c-90949a2ab3c2', ' df61271b-0d5a-4f87-8ab2-1cd702e45951', ' 2711c0b4-32bf-4136-aee9-dff9077fa148', ' b2a21491-7576-4be0-a520-97ce9470efeb', ' b37a596f-264a-4ae3-a31c-c2c81b9475d6', ' 829265f6-c85e-4474-aaf2-49f7df8c4fdc', ' 1a3641be-fa6a-4d72-a5eb-9069686a88ee', ' e06765a8-fc9e-4150-97cd-00fac0c4f192', ' 0305a46a-fe62-4666-9742-f5fe5db890ab', ' 5dff8fb2-73e6-4c22-a34f-c367aa2677df', ' 6ec665b4-dbef-4574-b941-043953679a1b', ' 564f0976-781b-44e7-96c8-7377097d0101', ' 63c15988-9cf3-40c4-8e38-ceb414e56e7c', ' b4e732ba-beed-413b-9c5a-7c409992dcfe', ' b3984824-9eea-4ad9-ae37-b07782ecc313', ' e650aae9-2b05-4564-9ce7-108a31c4de20', ' 57615619-0c1d-41fb-8640-ccec5b3add58', ' 4f126ed4-66ca-4379-8779-6afa1b4d1662', ' 91dd61bf-7c49-4276-bba6-1db2804921a9', ' b7f30490-0b67-4ccc-b032-1eeeb179b464', ' ecc37a22-b730-4e3a-bc87-c3ba3403acbc', ' e384ec29-136e-4241-9321-49b367b8cbd5', ' e6574d0d-a7c2-4830-a544-7497929d044b', ' 0ab3092f-590b-4caa-a4ad-17bfeef0fd0d', ' 8d477e04-3bab-4ad9-8fe3-799059238a9c', ' 0b5caeed-ff6f-4b9d-8375-9ad25827a4ae', ' 362d282e-5d9d-4691-86a6-21bcac0703d7', ' 0dd9af9f-bcb0-43d8-9d88-b5d4cbc1514f', ' 470bac7a-d454-43c7-b36d-7b075b7f353b', ' c041f6d7-df78-40ee-8832-6772a0db14bb', ' 08fa440a-0d26-4405-b143-6960eefdd4c2', ' 9c989bd5-2987-451b-a4af-1143e774f2a0', ' 1f32787b-de2b-49be-8c20-ddaeae34cc22', ' b6bdf42c-e375-4e32-b02d-00da4e09c7f1', ' 5acaac71-a0c9-4d6f-897d-308409a37f01', ' 58c69cde-570a-4558-bca6-987480110522', ' 7fe849c0-4a55-429d-b480-11ee216909dd', ' 40e54946-dc4d-416b-ada5-ad05e9eb3219', ' c8ec4884-1c89-46c3-a2c9-9ef270db1450', ' a2200d09-93d3-406a-93f0-b29d93b9cb0d', ' 0ca6238e-51b3-4d82-b50a-c6756934370b', ' 9e49825f-6567-4ede-90d5-46a1af9a127f', ' f8f52df6-0dbc-44e1-8ea5-78a61c209ed3', ' 3e54b313-2fde-4180-9948-74e889dd9430', ' a6ab18ec-e32f-474b-964b-987309c61581', ' 64dd5b2a-0963-401c-bf69-ade920ce7e28']\n"
     ]
    }
   ],
   "source": [
    "# Exibindo os artigos recomendados\n",
    "recommended_articles = list(set(recommended_articles))  # Removendo duplicatas\n",
    "print(\"Artigos recomendados:\")\n",
    "print(recommended_articles)"
   ]
  },
  {
   "cell_type": "code",
   "execution_count": 178,
   "metadata": {},
   "outputs": [
    {
     "name": "stdout",
     "output_type": "stream",
     "text": [
      "Artigos mais populares:\n",
      "                                       page  popularity\n",
      "4392   d2593c3d-2347-40d9-948c-b6065e8459a9          49\n",
      "641    1f32787b-de2b-49be-8c20-ddaeae34cc22          41\n",
      "429    15281e10-e6bc-48bc-9b1b-94402f83699b          34\n"
     ]
    }
   ],
   "source": [
    "# Recomendações para usuários não logados: artigos populares\n",
    "popular_articles = df_interactions.groupby('page').size().reset_index(name='popularity')\n",
    "popular_articles = popular_articles.sort_values('popularity', ascending=False)\n",
    "print(\"Artigos mais populares:\")\n",
    "print(popular_articles.head(3))"
   ]
  },
  {
   "cell_type": "code",
   "execution_count": 179,
   "metadata": {},
   "outputs": [],
   "source": [
    "artifacts_models_path = \"../artifacts/models\"\n",
    "\n",
    "\n",
    "joblib.dump(kmeans, f\"{artifacts_models_path}/kmeans_model.pkl\")\n",
    "\n",
    "# Save cosine similarity matrix\n",
    "with open(f\"{artifacts_models_path}/cos_sim_matrix.pkl\", \"wb\") as f:\n",
    "    pickle.dump(cos_sim_df, f)\n",
    "\n",
    "# Save user and article DataFrames for later use\n",
    "df_users_sampled.to_pickle(f\"{artifacts_models_path}/usuarios_preprocessados.pkl\")\n",
    "df_articles_sampled.to_pickle(f\"{artifacts_models_path}/artigos_preprocessados.pkl\")"
   ]
  },
  {
   "cell_type": "code",
   "execution_count": null,
   "metadata": {},
   "outputs": [],
   "source": [
    "df_users.to_parquet(\"users1.parquet\")\n"
   ]
  }
 ],
 "metadata": {
  "kernelspec": {
   "display_name": ".venv",
   "language": "python",
   "name": "python3"
  },
  "language_info": {
   "codemirror_mode": {
    "name": "ipython",
    "version": 3
   },
   "file_extension": ".py",
   "mimetype": "text/x-python",
   "name": "python",
   "nbconvert_exporter": "python",
   "pygments_lexer": "ipython3",
   "version": "3.12.3"
  }
 },
 "nbformat": 4,
 "nbformat_minor": 2
}
