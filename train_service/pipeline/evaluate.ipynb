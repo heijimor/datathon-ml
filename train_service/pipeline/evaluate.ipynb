{
 "cells": [
  {
   "cell_type": "markdown",
   "metadata": {},
   "source": [
    "##### Importando libs"
   ]
  },
  {
   "cell_type": "code",
   "execution_count": 1,
   "metadata": {},
   "outputs": [],
   "source": [
    "# import numpy as np\n",
    "# import pandas as pd\n",
    "# import logging\n",
    "# import pickle\n",
    "# import os"
   ]
  },
  {
   "cell_type": "markdown",
   "metadata": {},
   "source": [
    "##### Declarando paths"
   ]
  },
  {
   "cell_type": "code",
   "execution_count": 2,
   "metadata": {},
   "outputs": [],
   "source": [
    "# root_path = os.getenv('HOST_PATH')\n",
    "# parquets_path = f\"{root_path}/artifacts/parquets\"\n",
    "# validacao_target_file = \"validacao.parquet\"\n",
    "# users_target_file = \"usuarios_test_preprocessados.parquet\"\n",
    "# articles_target_file = \"artigos_test_preprocessados.parquet\""
   ]
  },
  {
   "cell_type": "markdown",
   "metadata": {},
   "source": [
    "##### Carregando Parquets"
   ]
  },
  {
   "cell_type": "code",
   "execution_count": 3,
   "metadata": {},
   "outputs": [],
   "source": [
    "# df_validacao = pd.read_parquet(f\"{parquets_path}/{validacao_target_file}\")\n",
    "# df_users = pd.read_parquet(f\"{parquets_path}/{users_target_file}\")\n",
    "# df_articles = pd.read_parquet(f\"{parquets_path}/{articles_target_file}\")"
   ]
  },
  {
   "cell_type": "markdown",
   "metadata": {},
   "source": [
    "##### Carregando modelo"
   ]
  },
  {
   "cell_type": "code",
   "execution_count": 4,
   "metadata": {},
   "outputs": [],
   "source": [
    "# with open(f\"{root_path}/artifacts/models/content_model.pkl\", \"rb\") as file:\n",
    "#   content_model = pickle.load(file)\n",
    "  \n",
    "# with open(f\"{root_path}/artifacts/models/collaborative_model.pkl\", \"rb\") as file:\n",
    "#   collaborative_model = pickle.load(file)\n",
    "  "
   ]
  },
  {
   "cell_type": "code",
   "execution_count": 5,
   "metadata": {},
   "outputs": [],
   "source": [
    "import pandas as pd\n",
    "import numpy as np\n",
    "import pickle\n",
    "from sklearn.metrics import mean_squared_error\n",
    "from sklearn.metrics.pairwise import cosine_similarity\n",
    "from scipy.sparse import csr_matrix\n",
    "import ast\n",
    "import os\n",
    "\n",
    "# Definir caminhos\n",
    "root_path = os.getenv(\"HOST_PATH\")\n",
    "parquets_path = f\"{root_path}/artifacts/parquets\"\n",
    "models_path = f\"{root_path}/artifacts/models\"\n",
    "validation_file = \"validacao.parquet\"\n",
    "\n",
    "# Carregar modelos treinados\n",
    "with open(f\"{models_path}/content_model.pkl\", \"rb\") as f:\n",
    "    content_model = pickle.load(f)\n",
    "\n",
    "with open(f\"{models_path}/collaborative_model.pkl\", \"rb\") as f:\n",
    "    collaborative_model = pickle.load(f)\n",
    "\n",
    "# Carregar interações treinadas para referência\n",
    "train_ratings = pd.read_parquet(f\"{parquets_path}/interactions.parquet\")\n",
    "\n",
    "# Carregar dados de validação\n",
    "df_validation = pd.read_parquet(f\"{parquets_path}/{validation_file}\")"
   ]
  },
  {
   "cell_type": "code",
   "execution_count": 6,
   "metadata": {},
   "outputs": [
    {
     "name": "stdout",
     "output_type": "stream",
     "text": [
      "<class 'numpy.ndarray'>\n"
     ]
    }
   ],
   "source": [
    "print(type(df_validation[\"history\"].iloc[0])) "
   ]
  },
  {
   "cell_type": "code",
   "execution_count": 7,
   "metadata": {},
   "outputs": [
    {
     "ename": "KeyboardInterrupt",
     "evalue": "",
     "output_type": "error",
     "traceback": [
      "\u001b[0;31m---------------------------------------------------------------------------\u001b[0m",
      "\u001b[0;31mKeyboardInterrupt\u001b[0m                         Traceback (most recent call last)",
      "Cell \u001b[0;32mIn[7], line 33\u001b[0m\n\u001b[1;32m     30\u001b[0m \u001b[38;5;66;03m# Criar DataFrame para armazenar previsões e valores reais\u001b[39;00m\n\u001b[1;32m     31\u001b[0m results \u001b[38;5;241m=\u001b[39m []\n\u001b[0;32m---> 33\u001b[0m \u001b[38;5;28;43;01mfor\u001b[39;49;00m\u001b[43m \u001b[49m\u001b[43m_\u001b[49m\u001b[43m,\u001b[49m\u001b[43m \u001b[49m\u001b[43muser\u001b[49m\u001b[43m \u001b[49m\u001b[38;5;129;43;01min\u001b[39;49;00m\u001b[43m \u001b[49m\u001b[43mdf_validation\u001b[49m\u001b[38;5;241;43m.\u001b[39;49m\u001b[43miterrows\u001b[49m\u001b[43m(\u001b[49m\u001b[43m)\u001b[49m\u001b[43m:\u001b[49m\n\u001b[1;32m     34\u001b[0m \u001b[43m    \u001b[49m\u001b[43muser_id\u001b[49m\u001b[43m \u001b[49m\u001b[38;5;241;43m=\u001b[39;49m\u001b[43m \u001b[49m\u001b[43muser\u001b[49m\u001b[43m[\u001b[49m\u001b[38;5;124;43m\"\u001b[39;49m\u001b[38;5;124;43muserId\u001b[39;49m\u001b[38;5;124;43m\"\u001b[39;49m\u001b[43m]\u001b[49m\n\u001b[1;32m     35\u001b[0m \u001b[43m    \u001b[49m\u001b[43mhistory\u001b[49m\u001b[43m \u001b[49m\u001b[38;5;241;43m=\u001b[39;49m\u001b[43m \u001b[49m\u001b[43muser\u001b[49m\u001b[43m[\u001b[49m\u001b[38;5;124;43m\"\u001b[39;49m\u001b[38;5;124;43mhistory\u001b[39;49m\u001b[38;5;124;43m\"\u001b[39;49m\u001b[43m]\u001b[49m\n",
      "File \u001b[0;32m~/Desktop/fiap/datathon/.venv/lib/python3.12/site-packages/pandas/core/frame.py:1450\u001b[0m, in \u001b[0;36mDataFrame.iterrows\u001b[0;34m(self)\u001b[0m\n\u001b[1;32m   1448\u001b[0m using_cow \u001b[38;5;241m=\u001b[39m using_copy_on_write()\n\u001b[1;32m   1449\u001b[0m \u001b[38;5;28;01mfor\u001b[39;00m k, v \u001b[38;5;129;01min\u001b[39;00m \u001b[38;5;28mzip\u001b[39m(\u001b[38;5;28mself\u001b[39m\u001b[38;5;241m.\u001b[39mindex, \u001b[38;5;28mself\u001b[39m\u001b[38;5;241m.\u001b[39mvalues):\n\u001b[0;32m-> 1450\u001b[0m     s \u001b[38;5;241m=\u001b[39m \u001b[43mklass\u001b[49m\u001b[43m(\u001b[49m\u001b[43mv\u001b[49m\u001b[43m,\u001b[49m\u001b[43m \u001b[49m\u001b[43mindex\u001b[49m\u001b[38;5;241;43m=\u001b[39;49m\u001b[43mcolumns\u001b[49m\u001b[43m,\u001b[49m\u001b[43m \u001b[49m\u001b[43mname\u001b[49m\u001b[38;5;241;43m=\u001b[39;49m\u001b[43mk\u001b[49m\u001b[43m)\u001b[49m\u001b[38;5;241m.\u001b[39m__finalize__(\u001b[38;5;28mself\u001b[39m)\n\u001b[1;32m   1451\u001b[0m     \u001b[38;5;28;01mif\u001b[39;00m using_cow \u001b[38;5;129;01mand\u001b[39;00m \u001b[38;5;28mself\u001b[39m\u001b[38;5;241m.\u001b[39m_mgr\u001b[38;5;241m.\u001b[39mis_single_block:\n\u001b[1;32m   1452\u001b[0m         s\u001b[38;5;241m.\u001b[39m_mgr\u001b[38;5;241m.\u001b[39madd_references(\u001b[38;5;28mself\u001b[39m\u001b[38;5;241m.\u001b[39m_mgr)  \u001b[38;5;66;03m# type: ignore[arg-type]\u001b[39;00m\n",
      "File \u001b[0;32m~/Desktop/fiap/datathon/.venv/lib/python3.12/site-packages/pandas/core/series.py:512\u001b[0m, in \u001b[0;36mSeries.__init__\u001b[0;34m(self, data, index, dtype, name, copy, fastpath)\u001b[0m\n\u001b[1;32m    510\u001b[0m         data \u001b[38;5;241m=\u001b[39m data\u001b[38;5;241m.\u001b[39mcopy()\n\u001b[1;32m    511\u001b[0m \u001b[38;5;28;01melse\u001b[39;00m:\n\u001b[0;32m--> 512\u001b[0m     data \u001b[38;5;241m=\u001b[39m \u001b[43msanitize_array\u001b[49m\u001b[43m(\u001b[49m\u001b[43mdata\u001b[49m\u001b[43m,\u001b[49m\u001b[43m \u001b[49m\u001b[43mindex\u001b[49m\u001b[43m,\u001b[49m\u001b[43m \u001b[49m\u001b[43mdtype\u001b[49m\u001b[43m,\u001b[49m\u001b[43m \u001b[49m\u001b[43mcopy\u001b[49m\u001b[43m)\u001b[49m\n\u001b[1;32m    514\u001b[0m     manager \u001b[38;5;241m=\u001b[39m get_option(\u001b[38;5;124m\"\u001b[39m\u001b[38;5;124mmode.data_manager\u001b[39m\u001b[38;5;124m\"\u001b[39m)\n\u001b[1;32m    515\u001b[0m     \u001b[38;5;28;01mif\u001b[39;00m manager \u001b[38;5;241m==\u001b[39m \u001b[38;5;124m\"\u001b[39m\u001b[38;5;124mblock\u001b[39m\u001b[38;5;124m\"\u001b[39m:\n",
      "File \u001b[0;32m~/Desktop/fiap/datathon/.venv/lib/python3.12/site-packages/pandas/core/construction.py:519\u001b[0m, in \u001b[0;36msanitize_array\u001b[0;34m(data, index, dtype, copy, allow_2d)\u001b[0m\n\u001b[1;32m    515\u001b[0m         data \u001b[38;5;241m=\u001b[39m data\u001b[38;5;241m.\u001b[39mcopy()\n\u001b[1;32m    516\u001b[0m     \u001b[38;5;28;01mreturn\u001b[39;00m data\n\u001b[0;32m--> 519\u001b[0m \u001b[38;5;28;01mdef\u001b[39;00m\u001b[38;5;250m \u001b[39m\u001b[38;5;21msanitize_array\u001b[39m(\n\u001b[1;32m    520\u001b[0m     data,\n\u001b[1;32m    521\u001b[0m     index: Index \u001b[38;5;241m|\u001b[39m \u001b[38;5;28;01mNone\u001b[39;00m,\n\u001b[1;32m    522\u001b[0m     dtype: DtypeObj \u001b[38;5;241m|\u001b[39m \u001b[38;5;28;01mNone\u001b[39;00m \u001b[38;5;241m=\u001b[39m \u001b[38;5;28;01mNone\u001b[39;00m,\n\u001b[1;32m    523\u001b[0m     copy: \u001b[38;5;28mbool\u001b[39m \u001b[38;5;241m=\u001b[39m \u001b[38;5;28;01mFalse\u001b[39;00m,\n\u001b[1;32m    524\u001b[0m     \u001b[38;5;241m*\u001b[39m,\n\u001b[1;32m    525\u001b[0m     allow_2d: \u001b[38;5;28mbool\u001b[39m \u001b[38;5;241m=\u001b[39m \u001b[38;5;28;01mFalse\u001b[39;00m,\n\u001b[1;32m    526\u001b[0m ) \u001b[38;5;241m-\u001b[39m\u001b[38;5;241m>\u001b[39m ArrayLike:\n\u001b[1;32m    527\u001b[0m \u001b[38;5;250m    \u001b[39m\u001b[38;5;124;03m\"\"\"\u001b[39;00m\n\u001b[1;32m    528\u001b[0m \u001b[38;5;124;03m    Sanitize input data to an ndarray or ExtensionArray, copy if specified,\u001b[39;00m\n\u001b[1;32m    529\u001b[0m \u001b[38;5;124;03m    coerce to the dtype if specified.\u001b[39;00m\n\u001b[0;32m   (...)\u001b[0m\n\u001b[1;32m    542\u001b[0m \u001b[38;5;124;03m    np.ndarray or ExtensionArray\u001b[39;00m\n\u001b[1;32m    543\u001b[0m \u001b[38;5;124;03m    \"\"\"\u001b[39;00m\n\u001b[1;32m    544\u001b[0m     original_dtype \u001b[38;5;241m=\u001b[39m dtype\n",
      "\u001b[0;31mKeyboardInterrupt\u001b[0m: "
     ]
    }
   ],
   "source": [
    "\n",
    "df_validation[\"history\"] = df_validation[\"history\"].apply(lambda x: x.tolist() if isinstance(x, np.ndarray) else x)\n",
    "\n",
    "# Criar matriz usuário-item baseada no conjunto de treino\n",
    "user_item_matrix = train_ratings.pivot(index=\"userId\", columns=\"itemId\", values=\"rating\").fillna(0)\n",
    "sparse_matrix = csr_matrix(user_item_matrix)\n",
    "\n",
    "# Criar um mapeamento de itemId -> índice na matriz\n",
    "item_index_map = {item: idx for idx, item in enumerate(user_item_matrix.columns)}\n",
    "\n",
    "# Função para prever ratings usando modelo colaborativo\n",
    "def predict_collaborative(user_id, item_id):\n",
    "    if user_id not in user_item_matrix.index or item_id not in user_item_matrix.columns:\n",
    "        return 0  # Retornar zero para novos usuários/itens\n",
    "\n",
    "    user_vector = user_item_matrix.loc[user_id].values.reshape(1, -1)\n",
    "    prediction = collaborative_model.transform(user_vector).dot(collaborative_model.components_[:, user_item_matrix.columns.get_loc(item_id)])\n",
    "    return prediction[0]\n",
    "\n",
    "# Função para prever rankings baseados no modelo de conteúdo\n",
    "def predict_content_based(item_id):\n",
    "    if item_id not in item_index_map:\n",
    "        return np.zeros(len(user_item_matrix.columns))  # Retorna vetor de zeros se o item não for encontrado\n",
    "    \n",
    "    item_idx = item_index_map[item_id]\n",
    "    if item_idx >= content_model.shape[0]:  # Verifica se o índice está dentro dos limites da matriz\n",
    "        return np.zeros(len(user_item_matrix.columns))\n",
    "\n",
    "    return content_model[item_idx]  # Retorna as similaridades com outros itens\n",
    "\n",
    "# Criar DataFrame para armazenar previsões e valores reais\n",
    "results = []\n",
    "\n",
    "for _, user in df_validation.iterrows():\n",
    "    user_id = user[\"userId\"]\n",
    "    history = user[\"history\"]\n",
    "\n",
    "    for item_id in history:\n",
    "        actual_rating = train_ratings[(train_ratings[\"userId\"] == user_id) & (train_ratings[\"itemId\"] == item_id)][\"rating\"].values\n",
    "        actual_rating = actual_rating[0] if len(actual_rating) > 0 else 0\n",
    "\n",
    "        predicted_collaborative = predict_collaborative(user_id, item_id)\n",
    "        predicted_content = np.mean(predict_content_based(item_id))\n",
    "\n",
    "        results.append({\n",
    "            \"userId\": user_id,\n",
    "            \"itemId\": item_id,\n",
    "            \"actual\": actual_rating,\n",
    "            \"predicted_collaborative\": predicted_collaborative,\n",
    "            \"predicted_content\": predicted_content\n",
    "        })\n",
    "\n",
    "df_results = pd.DataFrame(results)\n",
    "\n",
    "# Calcular métricas de erro para cada modelo\n",
    "rmse_collaborative = np.sqrt(mean_squared_error(df_results[\"actual\"], df_results[\"predicted_collaborative\"]))\n",
    "rmse_content = np.sqrt(mean_squared_error(df_results[\"actual\"], df_results[\"predicted_content\"]))\n",
    "\n",
    "print(f\"RMSE (Modelo Colaborativo): {rmse_collaborative:.4f}\")\n",
    "print(f\"RMSE (Modelo Baseado em Conteúdo): {rmse_content:.4f}\")\n"
   ]
  },
  {
   "cell_type": "code",
   "execution_count": null,
   "metadata": {},
   "outputs": [
    {
     "name": "stdout",
     "output_type": "stream",
     "text": [
      "Usuários na validação: 112184\n",
      "Usuários no treino: 7000\n",
      "Itens na validação: 36341\n",
      "Itens no treino: 24118\n"
     ]
    }
   ],
   "source": [
    "print(f\"Usuários na validação: {df_validation['userId'].nunique()}\")\n",
    "print(f\"Usuários no treino: {train_ratings['userId'].nunique()}\")\n",
    "print(f\"Itens na validação: {df_validation['history'].explode().nunique()}\")\n",
    "print(f\"Itens no treino: {train_ratings['itemId'].nunique()}\")\n"
   ]
  },
  {
   "cell_type": "code",
   "execution_count": null,
   "metadata": {},
   "outputs": [
    {
     "name": "stdout",
     "output_type": "stream",
     "text": [
      "Previsão para usuário a50f16d51820754a3db8281180950c3619c2b5a154926cb383de0fd023404756 e item 25d54fe7-248b-4e1d-89a1-20b36aba6159: 1.967555243859656e-05\n"
     ]
    }
   ],
   "source": [
    "user_id = train_ratings[\"userId\"].iloc[0]\n",
    "item_id = train_ratings[\"itemId\"].iloc[0]\n",
    "print(f\"Previsão para usuário {user_id} e item {item_id}: {predict_collaborative(user_id, item_id)}\")\n"
   ]
  }
 ],
 "metadata": {
  "kernelspec": {
   "display_name": ".venv",
   "language": "python",
   "name": "python3"
  },
  "language_info": {
   "codemirror_mode": {
    "name": "ipython",
    "version": 3
   },
   "file_extension": ".py",
   "mimetype": "text/x-python",
   "name": "python",
   "nbconvert_exporter": "python",
   "pygments_lexer": "ipython3",
   "version": "3.12.3"
  }
 },
 "nbformat": 4,
 "nbformat_minor": 2
}
