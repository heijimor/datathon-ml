{
 "cells": [
  {
   "cell_type": "markdown",
   "metadata": {},
   "source": [
    "##### Importando libs"
   ]
  },
  {
   "cell_type": "code",
   "execution_count": 1,
   "metadata": {},
   "outputs": [],
   "source": [
    "# import numpy as np\n",
    "# import pandas as pd\n",
    "# import logging\n",
    "# import pickle\n",
    "# import os"
   ]
  },
  {
   "cell_type": "markdown",
   "metadata": {},
   "source": [
    "##### Declarando paths"
   ]
  },
  {
   "cell_type": "code",
   "execution_count": 2,
   "metadata": {},
   "outputs": [],
   "source": [
    "# root_path = os.getenv('HOST_PATH')\n",
    "# parquets_path = f\"{root_path}/artifacts/parquets\"\n",
    "# validacao_target_file = \"validacao.parquet\"\n",
    "# users_target_file = \"usuarios_test_preprocessados.parquet\"\n",
    "# articles_target_file = \"artigos_test_preprocessados.parquet\""
   ]
  },
  {
   "cell_type": "markdown",
   "metadata": {},
   "source": [
    "##### Carregando Parquets"
   ]
  },
  {
   "cell_type": "code",
   "execution_count": 3,
   "metadata": {},
   "outputs": [],
   "source": [
    "# df_validacao = pd.read_parquet(f\"{parquets_path}/{validacao_target_file}\")\n",
    "# df_users = pd.read_parquet(f\"{parquets_path}/{users_target_file}\")\n",
    "# df_articles = pd.read_parquet(f\"{parquets_path}/{articles_target_file}\")"
   ]
  },
  {
   "cell_type": "markdown",
   "metadata": {},
   "source": [
    "##### Carregando modelo"
   ]
  },
  {
   "cell_type": "code",
   "execution_count": 4,
   "metadata": {},
   "outputs": [],
   "source": [
    "# with open(f\"{root_path}/artifacts/models/content_model.pkl\", \"rb\") as file:\n",
    "#   content_model = pickle.load(file)\n",
    "  \n",
    "# with open(f\"{root_path}/artifacts/models/collaborative_model.pkl\", \"rb\") as file:\n",
    "#   collaborative_model = pickle.load(file)\n",
    "  "
   ]
  },
  {
   "cell_type": "code",
   "execution_count": 5,
   "metadata": {},
   "outputs": [],
   "source": [
    "import pandas as pd\n",
    "import numpy as np\n",
    "import pickle\n",
    "from sklearn.metrics import mean_squared_error\n",
    "from sklearn.metrics.pairwise import cosine_similarity\n",
    "from scipy.sparse import csr_matrix\n",
    "import ast\n",
    "import os\n",
    "\n",
    "# Definir caminhos\n",
    "root_path = os.getenv(\"HOST_PATH\")\n",
    "parquets_path = f\"{root_path}/artifacts/parquets\"\n",
    "models_path = f\"{root_path}/artifacts/models\"\n",
    "validation_file = \"validacao.parquet\"\n",
    "\n",
    "# Carregar modelos treinados\n",
    "with open(f\"{models_path}/content_model.pkl\", \"rb\") as f:\n",
    "    content_model = pickle.load(f)\n",
    "\n",
    "with open(f\"{models_path}/collaborative_model.pkl\", \"rb\") as f:\n",
    "    collaborative_model = pickle.load(f)\n",
    "\n",
    "# Carregar interações treinadas para referência\n",
    "train_ratings = pd.read_parquet(f\"{parquets_path}/interactions.parquet\")\n",
    "\n",
    "# Carregar dados de validação\n",
    "df_validation = pd.read_parquet(f\"{parquets_path}/{validation_file}\")"
   ]
  },
  {
   "cell_type": "code",
   "execution_count": 6,
   "metadata": {},
   "outputs": [
    {
     "name": "stdout",
     "output_type": "stream",
     "text": [
      "<class 'numpy.ndarray'>\n"
     ]
    }
   ],
   "source": [
    "print(type(df_validation[\"history\"].iloc[0])) "
   ]
  },
  {
   "cell_type": "code",
   "execution_count": 7,
   "metadata": {},
   "outputs": [
    {
     "name": "stdout",
     "output_type": "stream",
     "text": [
      "RMSE (Modelo Colaborativo): 0.0001\n",
      "RMSE (Modelo Baseado em Conteúdo): 0.0089\n"
     ]
    }
   ],
   "source": [
    "\n",
    "df_validation[\"history\"] = df_validation[\"history\"].apply(lambda x: x.tolist() if isinstance(x, np.ndarray) else x)\n",
    "\n",
    "# Criar matriz usuário-item baseada no conjunto de treino\n",
    "user_item_matrix = train_ratings.pivot(index=\"userId\", columns=\"itemId\", values=\"rating\").fillna(0)\n",
    "sparse_matrix = csr_matrix(user_item_matrix)\n",
    "\n",
    "# Criar um mapeamento de itemId -> índice na matriz\n",
    "item_index_map = {item: idx for idx, item in enumerate(user_item_matrix.columns)}\n",
    "\n",
    "# Função para prever ratings usando modelo colaborativo\n",
    "def predict_collaborative(user_id, item_id):\n",
    "    if user_id not in user_item_matrix.index or item_id not in user_item_matrix.columns:\n",
    "        return 0  # Retornar zero para novos usuários/itens\n",
    "\n",
    "    user_vector = user_item_matrix.loc[user_id].values.reshape(1, -1)\n",
    "    prediction = collaborative_model.transform(user_vector).dot(collaborative_model.components_[:, user_item_matrix.columns.get_loc(item_id)])\n",
    "    return prediction[0]\n",
    "\n",
    "# Função para prever rankings baseados no modelo de conteúdo\n",
    "def predict_content_based(item_id):\n",
    "    if item_id not in item_index_map:\n",
    "        return np.zeros(len(user_item_matrix.columns))  # Retorna vetor de zeros se o item não for encontrado\n",
    "    \n",
    "    item_idx = item_index_map[item_id]\n",
    "    if item_idx >= content_model.shape[0]:  # Verifica se o índice está dentro dos limites da matriz\n",
    "        return np.zeros(len(user_item_matrix.columns))\n",
    "\n",
    "    return content_model[item_idx]  # Retorna as similaridades com outros itens\n",
    "\n",
    "# Criar DataFrame para armazenar previsões e valores reais\n",
    "results = []\n",
    "\n",
    "for _, user in df_validation.iterrows():\n",
    "    user_id = user[\"userId\"]\n",
    "    history = user[\"history\"]\n",
    "\n",
    "    for item_id in history:\n",
    "        actual_rating = train_ratings[(train_ratings[\"userId\"] == user_id) & (train_ratings[\"itemId\"] == item_id)][\"rating\"].values\n",
    "        actual_rating = actual_rating[0] if len(actual_rating) > 0 else 0\n",
    "\n",
    "        predicted_collaborative = predict_collaborative(user_id, item_id)\n",
    "        predicted_content = np.mean(predict_content_based(item_id))\n",
    "\n",
    "        results.append({\n",
    "            \"userId\": user_id,\n",
    "            \"itemId\": item_id,\n",
    "            \"actual\": actual_rating,\n",
    "            \"predicted_collaborative\": predicted_collaborative,\n",
    "            \"predicted_content\": predicted_content\n",
    "        })\n",
    "\n",
    "df_results = pd.DataFrame(results)\n",
    "\n",
    "# Calcular métricas de erro para cada modelo\n",
    "rmse_collaborative = np.sqrt(mean_squared_error(df_results[\"actual\"], df_results[\"predicted_collaborative\"]))\n",
    "rmse_content = np.sqrt(mean_squared_error(df_results[\"actual\"], df_results[\"predicted_content\"]))\n",
    "\n",
    "print(f\"RMSE (Modelo Colaborativo): {rmse_collaborative:.4f}\")\n",
    "print(f\"RMSE (Modelo Baseado em Conteúdo): {rmse_content:.4f}\")\n"
   ]
  },
  {
   "cell_type": "code",
   "execution_count": 8,
   "metadata": {},
   "outputs": [
    {
     "name": "stdout",
     "output_type": "stream",
     "text": [
      "Usuários na validação: 112184\n",
      "Usuários no treino: 7000\n",
      "Itens na validação: 36341\n",
      "Itens no treino: 24118\n"
     ]
    }
   ],
   "source": [
    "print(f\"Usuários na validação: {df_validation['userId'].nunique()}\")\n",
    "print(f\"Usuários no treino: {train_ratings['userId'].nunique()}\")\n",
    "print(f\"Itens na validação: {df_validation['history'].explode().nunique()}\")\n",
    "print(f\"Itens no treino: {train_ratings['itemId'].nunique()}\")\n"
   ]
  },
  {
   "cell_type": "code",
   "execution_count": 9,
   "metadata": {},
   "outputs": [
    {
     "name": "stdout",
     "output_type": "stream",
     "text": [
      "Previsão para usuário a50f16d51820754a3db8281180950c3619c2b5a154926cb383de0fd023404756 e item 25d54fe7-248b-4e1d-89a1-20b36aba6159: 1.967555243859656e-05\n"
     ]
    }
   ],
   "source": [
    "user_id = train_ratings[\"userId\"].iloc[0]\n",
    "item_id = train_ratings[\"itemId\"].iloc[0]\n",
    "print(f\"Previsão para usuário {user_id} e item {item_id}: {predict_collaborative(user_id, item_id)}\")\n"
   ]
  }
 ],
 "metadata": {
  "kernelspec": {
   "display_name": ".venv",
   "language": "python",
   "name": "python3"
  },
  "language_info": {
   "codemirror_mode": {
    "name": "ipython",
    "version": 3
   },
   "file_extension": ".py",
   "mimetype": "text/x-python",
   "name": "python",
   "nbconvert_exporter": "python",
   "pygments_lexer": "ipython3",
   "version": "3.12.3"
  }
 },
 "nbformat": 4,
 "nbformat_minor": 2
}
