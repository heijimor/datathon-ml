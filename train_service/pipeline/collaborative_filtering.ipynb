{
 "cells": [
  {
   "cell_type": "code",
   "execution_count": 138,
   "metadata": {},
   "outputs": [],
   "source": [
    "import pandas as pd\n",
    "import numpy as np\n",
    "import joblib\n",
    "import pickle\n",
    "from sklearn.preprocessing import MinMaxScaler, LabelEncoder\n",
    "from sklearn.metrics.pairwise import cosine_similarity\n",
    "from sklearn.cluster import KMeans"
   ]
  },
  {
   "cell_type": "code",
   "execution_count": 139,
   "metadata": {},
   "outputs": [],
   "source": [
    "df_users = pd.read_csv(\"../data/files/treino/treino_parte1.csv\")\n",
    "df_articles = pd.read_csv(\"../data/itens/itens/itens-parte1.csv\")"
   ]
  },
  {
   "cell_type": "code",
   "execution_count": 140,
   "metadata": {},
   "outputs": [],
   "source": [
    "df_users.fillna({\"history\": \"[]\"}, inplace=True)  # Se history estiver vazio, substitui por lista vazia\n",
    "df_articles.fillna(\"\", inplace=True)"
   ]
  },
  {
   "cell_type": "code",
   "execution_count": 141,
   "metadata": {},
   "outputs": [],
   "source": [
    "df_articles[\"issued\"] = pd.to_datetime(df_articles[\"issued\"]).astype(int) // 10**9\n",
    "df_articles[\"modified\"] = pd.to_datetime(df_articles[\"modified\"]).astype(int) // 10**9\n"
   ]
  },
  {
   "cell_type": "code",
   "execution_count": 142,
   "metadata": {},
   "outputs": [],
   "source": [
    "def convert_to_mean(value):\n",
    "    if isinstance(value, str):\n",
    "        values = [float(x.strip()) for x in value.split(\",\") if x.strip().replace('.', '', 1).isdigit()]\n",
    "        return np.mean(values) if values else 0\n",
    "    return value\n",
    "\n",
    "cols_to_convert = [\"numberOfClicksHistory\", \"timeOnPageHistory\", \"scrollPercentageHistory\", \"pageVisitsCountHistory\"]\n",
    "for col in cols_to_convert:\n",
    "    df_users[col] = df_users[col].apply(convert_to_mean)"
   ]
  },
  {
   "cell_type": "code",
   "execution_count": 143,
   "metadata": {},
   "outputs": [],
   "source": [
    "scaler = MinMaxScaler()\n",
    "df_users[[\"historySize\", \"numberOfClicksHistory\", \"timeOnPageHistory\", \"scrollPercentageHistory\", \"pageVisitsCountHistory\"]] = \\\n",
    "    scaler.fit_transform(df_users[[\"historySize\", \"numberOfClicksHistory\", \"timeOnPageHistory\", \"scrollPercentageHistory\", \"pageVisitsCountHistory\"]])\n"
   ]
  },
  {
   "cell_type": "code",
   "execution_count": 144,
   "metadata": {},
   "outputs": [],
   "source": [
    "df_users[\"history\"] = df_users[\"history\"].apply(lambda x: x.split(\",\") if isinstance(x, str) else [])\n"
   ]
  },
  {
   "cell_type": "code",
   "execution_count": 145,
   "metadata": {},
   "outputs": [],
   "source": [
    "encoder = LabelEncoder()\n",
    "df_users[\"userType\"] = encoder.fit_transform(df_users[\"userType\"])"
   ]
  },
  {
   "cell_type": "code",
   "execution_count": 146,
   "metadata": {},
   "outputs": [],
   "source": [
    "df_users[\"userId\"] = df_users[\"userId\"].astype(\"category\").cat.codes\n",
    "df_articles[\"page\"] = df_articles[\"page\"].astype(\"category\").cat.codes"
   ]
  },
  {
   "cell_type": "code",
   "execution_count": 147,
   "metadata": {},
   "outputs": [],
   "source": [
    "df_users_sampled = df_users.sample(n=1000)  # Amostra de 1000 usuários\n",
    "df_articles_sampled = df_articles.sample(n=1000)  # Amostra de 100 artigos"
   ]
  },
  {
   "cell_type": "code",
   "execution_count": 148,
   "metadata": {},
   "outputs": [],
   "source": [
    "interaction_data_sampled = []\n",
    "for _, row in df_users_sampled.iterrows():\n",
    "    for article in row['history']:\n",
    "        interaction_data_sampled.append((row['userId'], article))\n",
    "\n",
    "df_interactions = pd.DataFrame(interaction_data_sampled, columns=[\"userId\", \"page\"])\n"
   ]
  },
  {
   "cell_type": "code",
   "execution_count": 149,
   "metadata": {},
   "outputs": [
    {
     "name": "stdout",
     "output_type": "stream",
     "text": [
      "✅ Pré-processamento concluído e salvo em Parquet!\n"
     ]
    }
   ],
   "source": [
    "df_users_sampled.to_parquet(\"../data/output/usuarios_preprocessados.parquet\", index=False)\n",
    "df_articles_sampled.to_parquet(\"../data/output/artigos_preprocessados.parquet\", index=False)\n",
    "df_interactions.to_parquet(\"../data/output/interactions.parquet\", index=False)\n",
    "\n",
    "print(\"✅ Pré-processamento concluído e salvo em Parquet!\")"
   ]
  },
  {
   "cell_type": "markdown",
   "metadata": {},
   "source": [
    "##### Collaborative Filtering"
   ]
  },
  {
   "cell_type": "code",
   "execution_count": 150,
   "metadata": {},
   "outputs": [],
   "source": [
    "interaction_matrix = df_interactions.pivot_table(index='userId', columns='page', aggfunc='size', fill_value=0)\n",
    "\n"
   ]
  },
  {
   "cell_type": "code",
   "execution_count": 151,
   "metadata": {},
   "outputs": [],
   "source": [
    "cos_sim = cosine_similarity(interaction_matrix)\n",
    "cos_sim_df = pd.DataFrame(cos_sim, index=interaction_matrix.index, columns=interaction_matrix.index)"
   ]
  },
  {
   "cell_type": "code",
   "execution_count": 152,
   "metadata": {},
   "outputs": [
    {
     "name": "stdout",
     "output_type": "stream",
     "text": [
      "Matriz de similaridade entre usuários:\n",
      "userId  75     110    137    278    336    392    609    721    791    \\\n",
      "userId                                                                  \n",
      "75        1.0    0.0    0.0    0.0    0.0    0.0    0.0    0.0    0.0   \n",
      "110       0.0    1.0    0.0    0.0    0.0    0.0    0.0    0.0    0.0   \n",
      "137       0.0    0.0    1.0    0.0    0.0    0.0    0.0    0.0    0.0   \n",
      "278       0.0    0.0    0.0    1.0    0.0    0.0    0.0    0.0    0.0   \n",
      "336       0.0    0.0    0.0    0.0    1.0    0.0    0.0    0.0    0.0   \n",
      "\n",
      "userId     840    ...  99258  99270  99279  99491  99520  99642  99685  99745  \\\n",
      "userId            ...                                                           \n",
      "75      0.000000  ...    0.0    0.0    0.0    0.0    0.0    0.0    0.0    0.0   \n",
      "110     0.000000  ...    0.0    0.0    0.0    0.0    0.0    0.0    0.0    0.0   \n",
      "137     0.000000  ...    0.0    0.0    0.0    0.0    0.0    0.0    0.0    0.0   \n",
      "278     0.000000  ...    0.0    0.0    0.0    0.0    0.0    0.0    0.0    0.0   \n",
      "336     0.034503  ...    0.0    0.0    0.0    0.0    0.0    0.0    0.0    0.0   \n",
      "\n",
      "userId  99834  99836  \n",
      "userId                \n",
      "75        0.0    0.0  \n",
      "110       0.0    0.0  \n",
      "137       0.0    0.0  \n",
      "278       0.0    0.0  \n",
      "336       0.0    0.0  \n",
      "\n",
      "[5 rows x 1000 columns]\n"
     ]
    }
   ],
   "source": [
    "print(\"Matriz de similaridade entre usuários:\")\n",
    "print(cos_sim_df.head())"
   ]
  },
  {
   "cell_type": "markdown",
   "metadata": {},
   "source": [
    "##### K Means"
   ]
  },
  {
   "cell_type": "code",
   "execution_count": 153,
   "metadata": {},
   "outputs": [
    {
     "name": "stdout",
     "output_type": "stream",
     "text": [
      "Clusters dos usuários:\n",
      "   userId  cluster\n",
      "0   97469        0\n",
      "1   17012        0\n",
      "2    4213        0\n",
      "3   75845        0\n",
      "4   90379        1\n"
     ]
    }
   ],
   "source": [
    "kmeans = KMeans(n_clusters=3, random_state=42)\n",
    "df_users['cluster'] = kmeans.fit_predict(df_users[['numberOfClicksHistory', 'timeOnPageHistory']])\n",
    "\n",
    "# Exibindo clusters dos usuários\n",
    "print(\"Clusters dos usuários:\")\n",
    "print(df_users[['userId', 'cluster']].head())"
   ]
  },
  {
   "cell_type": "code",
   "execution_count": 154,
   "metadata": {},
   "outputs": [
    {
     "name": "stdout",
     "output_type": "stream",
     "text": [
      "Usuários mais similares ao usuário 85185:\n",
      "Index([76907, 79765, 13294], dtype='int64', name='userId')\n"
     ]
    }
   ],
   "source": [
    "# Recomendações para um usuário logado\n",
    "user_id = df_users_sampled['userId'].iloc[0]  # Exemplo de usuário logado (pode ser qualquer userId)\n",
    "user_similarity = cos_sim_df[user_id]\n",
    "similar_users = user_similarity.sort_values(ascending=False).index[1:4]\n",
    "print(f\"Usuários mais similares ao usuário {user_id}:\")\n",
    "print(similar_users)"
   ]
  },
  {
   "cell_type": "markdown",
   "metadata": {},
   "source": [
    "##### Sugestões de artigos baseadas em similaridade (para o usuário logado)\n"
   ]
  },
  {
   "cell_type": "code",
   "execution_count": 155,
   "metadata": {},
   "outputs": [],
   "source": [
    "recommended_articles = []\n",
    "for similar_user in similar_users:\n",
    "    similar_user_articles = df_interactions[df_interactions['userId'] == similar_user]['page']\n",
    "    recommended_articles.extend(similar_user_articles)"
   ]
  },
  {
   "cell_type": "code",
   "execution_count": 156,
   "metadata": {},
   "outputs": [
    {
     "name": "stdout",
     "output_type": "stream",
     "text": [
      "Artigos recomendados:\n",
      "[' e1a89c3a-1649-486f-a964-ecfb33821e77', ' ef3da0ac-fcc0-4595-ae62-8620ed348425', ' dcbcfc8d-6010-41df-a39d-008b0c7bc85d', ' 4c63d7cd-4902-4ffb-9b94-578b1b2151f0', ' f00b5f62-6785-4132-a066-c27de1b31159', ' 74989b80-d633-4d28-9292-0be71c309ec7', ' 3b33c0e8-8b98-49f8-953b-20b8111a1c3d', ' 2230ede8-9909-467f-8cb7-0ae75cc1b35c', ' 34ff0824-cbc3-4277-a5a9-406fbc6768dc', ' 8845c618-159f-4f85-8b58-4f92a5d9853c', ' ab32543f-6f40-42e5-a357-537af0fa2947', ' 5d8388f3-736d-451b-a794-d826453e12e1', ' 4ccb6ed7-d196-4284-94d6-fb3dc8a53d61', ' 861f3ebb-292c-4a4e-90f5-5e0958ea0ff6', ' ca361779-0059-451e-9369-c2dfaa3cc971', ' 224ac679-9143-4e31-8465-4ee3c6e559af', 'a7ab0f81-5509-4898-8090-f838953a4bdd', ' bc17d65d-aea1-4c9c-82d5-7528730e1d0c', ' 27453ffd-5354-440a-a6b1-0b56eb6b6821', ' 8e8d5bc1-e4b3-4e99-912a-3b68dfc8964f', ' 0ad0c4b9-81cf-4d9d-9d35-1c867af65f8c', ' 38578b5c-4509-49df-ad79-c62cc914e4a5', ' 3f201d73-9c2d-4cd1-9e48-ee0438cf179c', ' 56c980ff-4346-4723-9cfc-7438d1b000db', ' 949a81ac-5df1-4e7b-9f4e-e364b5603e68', '76bb571a-20db-45e4-a3d4-1b41e3bcb1d1', ' 70595e29-bf66-4ecf-85a2-46290b93cd18', ' 47226305-8003-4447-9b22-e0355925fc79', '6b2ca9a1-c939-44b9-9552-1b6630dd5343', ' 504ab8cd-f9f3-421e-b2b5-215a2d4b65bd', ' 007c68a6-6757-4bf9-865c-d1b895e54fc4', ' 7fb2b56e-64f5-4853-bd73-2210b0687c10', ' 66abbc4b-a541-4802-8ef5-b169786e44ba']\n"
     ]
    }
   ],
   "source": [
    "# Exibindo os artigos recomendados\n",
    "recommended_articles = list(set(recommended_articles))  # Removendo duplicatas\n",
    "print(\"Artigos recomendados:\")\n",
    "print(recommended_articles)"
   ]
  },
  {
   "cell_type": "code",
   "execution_count": 157,
   "metadata": {},
   "outputs": [
    {
     "name": "stdout",
     "output_type": "stream",
     "text": [
      "Artigos mais populares:\n",
      "                                       page  popularity\n",
      "4965   d2593c3d-2347-40d9-948c-b6065e8459a9          38\n",
      "5719   f0a78e58-ec7e-494c-9462-fbd6446a9a89          37\n",
      "755    1f32787b-de2b-49be-8c20-ddaeae34cc22          34\n"
     ]
    }
   ],
   "source": [
    "# Recomendações para usuários não logados: artigos populares\n",
    "popular_articles = df_interactions.groupby('page').size().reset_index(name='popularity')\n",
    "popular_articles = popular_articles.sort_values('popularity', ascending=False)\n",
    "print(\"Artigos mais populares:\")\n",
    "print(popular_articles.head(3))"
   ]
  },
  {
   "cell_type": "code",
   "execution_count": 158,
   "metadata": {},
   "outputs": [
    {
     "ename": "NameError",
     "evalue": "name 'pickle' is not defined",
     "output_type": "error",
     "traceback": [
      "\u001b[0;31m---------------------------------------------------------------------------\u001b[0m",
      "\u001b[0;31mNameError\u001b[0m                                 Traceback (most recent call last)",
      "Cell \u001b[0;32mIn[158], line 6\u001b[0m\n\u001b[1;32m      4\u001b[0m \u001b[38;5;66;03m# Save cosine similarity matrix\u001b[39;00m\n\u001b[1;32m      5\u001b[0m \u001b[38;5;28;01mwith\u001b[39;00m \u001b[38;5;28mopen\u001b[39m(\u001b[38;5;124m\"\u001b[39m\u001b[38;5;124m../data/output/cos_sim_matrix.pkl\u001b[39m\u001b[38;5;124m\"\u001b[39m, \u001b[38;5;124m\"\u001b[39m\u001b[38;5;124mwb\u001b[39m\u001b[38;5;124m\"\u001b[39m) \u001b[38;5;28;01mas\u001b[39;00m f:\n\u001b[0;32m----> 6\u001b[0m     \u001b[43mpickle\u001b[49m\u001b[38;5;241m.\u001b[39mdump(cos_sim_df, f)\n\u001b[1;32m      8\u001b[0m \u001b[38;5;66;03m# Save user and article DataFrames for later use\u001b[39;00m\n\u001b[1;32m      9\u001b[0m df_users_sampled\u001b[38;5;241m.\u001b[39mto_pickle(\u001b[38;5;124m\"\u001b[39m\u001b[38;5;124m../data/output/usuarios_preprocessados.pkl\u001b[39m\u001b[38;5;124m\"\u001b[39m)\n",
      "\u001b[0;31mNameError\u001b[0m: name 'pickle' is not defined"
     ]
    }
   ],
   "source": [
    "# Save KMeans model\n",
    "joblib.dump(kmeans, \"../data/output/kmeans_model.pkl\")\n",
    "\n",
    "# Save cosine similarity matrix\n",
    "with open(\"../data/output/cos_sim_matrix.pkl\", \"wb\") as f:\n",
    "    pickle.dump(cos_sim_df, f)\n",
    "\n",
    "# Save user and article DataFrames for later use\n",
    "df_users_sampled.to_pickle(\"../data/output/usuarios_preprocessados.pkl\")\n",
    "df_articles_sampled.to_pickle(\"../data/output/artigos_preprocessados.pkl\")"
   ]
  }
 ],
 "metadata": {
  "kernelspec": {
   "display_name": ".venv",
   "language": "python",
   "name": "python3"
  },
  "language_info": {
   "codemirror_mode": {
    "name": "ipython",
    "version": 3
   },
   "file_extension": ".py",
   "mimetype": "text/x-python",
   "name": "python",
   "nbconvert_exporter": "python",
   "pygments_lexer": "ipython3",
   "version": "3.12.3"
  }
 },
 "nbformat": 4,
 "nbformat_minor": 2
}
