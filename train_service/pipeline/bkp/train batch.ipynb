{
 "cells": [
  {
   "cell_type": "code",
   "execution_count": 32,
   "metadata": {},
   "outputs": [],
   "source": [
    "import pandas as pd\n",
    "import numpy as np\n",
    "import joblib\n",
    "import pickle\n",
    "from sklearn.preprocessing import MinMaxScaler, LabelEncoder\n",
    "from sklearn.metrics.pairwise import cosine_similarity\n",
    "from sklearn.cluster import KMeans\n",
    "from sklearn.model_selection import train_test_split\n",
    "import ast\n",
    "import re\n",
    "\n"
   ]
  },
  {
   "cell_type": "markdown",
   "metadata": {},
   "source": [
    "##### Caminho dos arquivos sources"
   ]
  },
  {
   "cell_type": "code",
   "execution_count": 33,
   "metadata": {},
   "outputs": [],
   "source": [
    "user_csv_path = \"/usr/local/airflow/artifacts/parquets\"\n",
    "user_target_csv_file = \"users_merged_data.parquet\"\n",
    "\n",
    "articles_csv_path = \"/usr/local/airflow/artifacts/parquets\"\n",
    "articles_target_csv_file = \"articles_merged_data.parquet\"\n",
    "\n",
    "artifacts_models_path = \"/usr/local/airflow/artifacts/models\"\n"
   ]
  },
  {
   "cell_type": "markdown",
   "metadata": {},
   "source": [
    "##### Carregando os dados dos usuários, artigos e validacao"
   ]
  },
  {
   "cell_type": "code",
   "execution_count": 34,
   "metadata": {},
   "outputs": [],
   "source": [
    "df_users = pd.read_parquet(f\"{user_csv_path}/{user_target_csv_file}\")\n",
    "df_articles = pd.read_parquet(f\"{articles_csv_path}/{articles_target_csv_file}\")\n",
    "df_validacao = pd.read_csv(\"../data/validacao.csv\")\n",
    "\n"
   ]
  },
  {
   "cell_type": "code",
   "execution_count": 35,
   "metadata": {},
   "outputs": [
    {
     "data": {
      "text/plain": [
       "(112184, 4)"
      ]
     },
     "execution_count": 35,
     "metadata": {},
     "output_type": "execute_result"
    }
   ],
   "source": [
    "df_validacao.shape"
   ]
  },
  {
   "cell_type": "markdown",
   "metadata": {},
   "source": [
    "##### Preenchendo valores ausentes de 'history' com lista vazia"
   ]
  },
  {
   "cell_type": "code",
   "execution_count": 36,
   "metadata": {},
   "outputs": [],
   "source": [
    "df_users.fillna({\"history\": \"[]\"}, inplace=True)\n",
    "df_articles.fillna(\"\", inplace=True)\n"
   ]
  },
  {
   "cell_type": "code",
   "execution_count": 37,
   "metadata": {},
   "outputs": [],
   "source": [
    "df_articles[\"issued\"] = pd.to_datetime(df_articles[\"issued\"]).astype(int) // 10**9\n",
    "df_articles[\"modified\"] = pd.to_datetime(df_articles[\"modified\"]).astype(int) // 10**9\n"
   ]
  },
  {
   "cell_type": "code",
   "execution_count": 38,
   "metadata": {},
   "outputs": [],
   "source": [
    "def convert_to_mean(value):\n",
    "    if isinstance(value, str):\n",
    "        values = [float(x.strip()) for x in value.split(\",\") if x.strip().replace('.', '', 1).isdigit()]\n",
    "        return np.mean(values) if values else 0\n",
    "    return value\n",
    "\n",
    "cols_to_convert = [\"numberOfClicksHistory\", \"timeOnPageHistory\", \"scrollPercentageHistory\", \"pageVisitsCountHistory\"]\n",
    "for col in cols_to_convert:\n",
    "    df_users[col] = df_users[col].apply(convert_to_mean)\n",
    "    \n",
    "# df_users.head(3)"
   ]
  },
  {
   "cell_type": "code",
   "execution_count": 39,
   "metadata": {},
   "outputs": [],
   "source": [
    "scaler = MinMaxScaler()\n",
    "df_users[[\n",
    "    \"historySize\",\n",
    "    \"numberOfClicksHistory\",\n",
    "    \"timeOnPageHistory\",\n",
    "    \"scrollPercentageHistory\",\n",
    "    \"pageVisitsCountHistory\"\n",
    "]] = \\\n",
    "    scaler.fit_transform(\n",
    "        df_users[\n",
    "            [\n",
    "                \"historySize\",\n",
    "                \"numberOfClicksHistory\",\n",
    "                \"timeOnPageHistory\",\n",
    "                \"scrollPercentageHistory\",\n",
    "                \"pageVisitsCountHistory\"\n",
    "            ]\n",
    "        ]\n",
    "    )\n",
    "# df_users.head(3)"
   ]
  },
  {
   "cell_type": "code",
   "execution_count": 40,
   "metadata": {},
   "outputs": [],
   "source": [
    "df_users[\"history\"] = df_users[\"history\"].apply(lambda x: x.split(\",\") if isinstance(x, str) else [])"
   ]
  },
  {
   "cell_type": "code",
   "execution_count": 41,
   "metadata": {},
   "outputs": [],
   "source": [
    "encoder = LabelEncoder()\n",
    "df_users[\"userType\"] = encoder.fit_transform(df_users[\"userType\"])\n"
   ]
  },
  {
   "cell_type": "code",
   "execution_count": 42,
   "metadata": {},
   "outputs": [],
   "source": [
    "df_users_sampled = df_users.sample(n=5000, random_state=42)\n",
    "df_articles_sampled = df_articles.sample(n=1000, random_state=42)"
   ]
  },
  {
   "cell_type": "code",
   "execution_count": 43,
   "metadata": {},
   "outputs": [],
   "source": [
    "interaction_data_sampled = []\n",
    "for _, row in df_users_sampled.iterrows():\n",
    "    for article in row['history']:\n",
    "        interaction_data_sampled.append((row['userId'], article))\n",
    "\n",
    "df_interactions = pd.DataFrame(interaction_data_sampled, columns=[\"userId\", \"page\"])\n"
   ]
  },
  {
   "cell_type": "code",
   "execution_count": 44,
   "metadata": {},
   "outputs": [
    {
     "name": "stdout",
     "output_type": "stream",
     "text": [
      "✅ Pré-processamento concluído e salvo em Parquet!\n"
     ]
    }
   ],
   "source": [
    "# df_interactions.to_parquet(\"../artifacts/parquets/interactions.parquet\", index=False)\n",
    "print(\"✅ Pré-processamento concluído e salvo em Parquet!\")"
   ]
  },
  {
   "cell_type": "code",
   "execution_count": 45,
   "metadata": {},
   "outputs": [],
   "source": [
    "interaction_matrix = df_interactions.pivot_table(index='userId', columns='page', aggfunc='size', fill_value=0)\n",
    "# interaction_matrix = pd.DataFrame()\n",
    "\n",
    "# batch_size = 500\n",
    "# for start in range(0, len(df_interactions), batch_size):\n",
    "#     batch = df_interactions.iloc[start:start + batch_size]\n",
    "#     interaction_matrix_batch = batch.groupby(['userId', 'page']).size().unstack(fill_value=0)\n",
    "\n",
    "#     if interaction_matrix.empty:\n",
    "#         interaction_matrix = interaction_matrix_batch\n",
    "#     else:\n",
    "#         interaction_matrix = interaction_matrix.add(interaction_matrix_batch, fill_value=0)\n",
    "\n",
    "# interaction_matrix = interaction_matrix.fillna(0).astype(int) \n"
   ]
  },
  {
   "cell_type": "code",
   "execution_count": 46,
   "metadata": {},
   "outputs": [],
   "source": [
    "def compute_similarity_batch(matrix, batch_size=400):\n",
    "    indices = matrix.index\n",
    "    similarity_matrix = np.zeros((len(indices), len(indices)))\n",
    "\n",
    "    for start in range(0, len(indices), batch_size):\n",
    "        end = min(start + batch_size, len(indices))\n",
    "        batch_similarity = cosine_similarity(matrix.iloc[start:end], matrix)\n",
    "        similarity_matrix[start:end] = batch_similarity\n",
    "\n",
    "    return pd.DataFrame(similarity_matrix, index=indices, columns=indices)"
   ]
  },
  {
   "cell_type": "code",
   "execution_count": 47,
   "metadata": {},
   "outputs": [
    {
     "name": "stdout",
     "output_type": "stream",
     "text": [
      "🔄 Calculando matriz de similaridade em batches...\n",
      "✅ Matriz de similaridade calculada!\n"
     ]
    }
   ],
   "source": [
    "print(\"🔄 Calculando matriz de similaridade em batches...\")\n",
    "cos_sim_df = compute_similarity_batch(interaction_matrix, batch_size=400)\n",
    "print(\"✅ Matriz de similaridade calculada!\")"
   ]
  },
  {
   "cell_type": "code",
   "execution_count": 48,
   "metadata": {},
   "outputs": [
    {
     "name": "stdout",
     "output_type": "stream",
     "text": [
      "Index(['00182678dd5d1b34b2fdcd9895047534d727bdbfe8a2c9a685b5dbe41b06ec08',\n",
      "       '001d8e123f6cd5e5268e5145481b79a7cce0bd040cae9cca83e46dca64928a52',\n",
      "       '00291fc8bb37f717d15510726f6456ee194683ef1db0597052278cc692bee27f',\n",
      "       '00303f741dd07bd666fb7b28a6f91ec26c7801e3ef19515a55435c9b2d765637',\n",
      "       '003815bb5fd4e3630767b97ad3878fd817012d26ff637982d03ce676e2473d45',\n",
      "       '005a263fa9eb634bb2f1fa59adba5eb10436b95e63f2afbcadfa9a665d62bc4d',\n",
      "       '005a440341464da88516ced0262e7b5980f67e6996a437500589c0f8d9843339',\n",
      "       '0062a2ad6f5315aba661afffd689165f42d4eb39699f15a557c3952eef87893d',\n",
      "       '006d2226166f56d91ca9f0547518e314c1baf437d8129b8c2f05679979763f65',\n",
      "       '00795353f5d395a7e4a60fa75fe51f118c080779150cb4e61e5add850ef16fe0',\n",
      "       ...\n",
      "       'ffaf2bba8524410db873a62300be2a8fa4be7134de5f784a518a3fd0a5a65b7f',\n",
      "       'ffb6140c9f22dcecfb0d4b198cee8e4800ee9c6cbd943073b6b1de13307b5e49',\n",
      "       'ffbba239f5833b50d94b28d9921b1320ba50c52c87523e094d8ce2b86a7a0607',\n",
      "       'ffbfdf2b0ba51cf305b501570ca7c0aa5066565bbd0d9306037bff7606cce0c3',\n",
      "       'ffd42d2faf86e4dc0d0534749d65f8a524a27b03a5c0760004a7b8b473cae70e',\n",
      "       'ffd53e49fef1d5c1e74d59bca2192b81e680c747291a20507d819186dde8249c',\n",
      "       'ffdc918dbcb8a744f87f020fb7a8a572da5816294eb83e567cf68d1639ef4d5f',\n",
      "       'ffe13a4671353d41f3985d1e8dcf4f4226f52fbb92cd9075f8a609a10f4f5fc8',\n",
      "       'ffee9934ea6cc18c9555da8d3dedece24409dbf25045e257aa62dcb62d758f70',\n",
      "       'fffe297d4d14f23bbf4dcc81b530f40478e4d1118f9e6483dc99461ceb3a51e8'],\n",
      "      dtype='object', name='userId', length=5000)\n"
     ]
    }
   ],
   "source": [
    "print(cos_sim_df.index) "
   ]
  },
  {
   "cell_type": "markdown",
   "metadata": {},
   "source": [
    "##### K Means"
   ]
  },
  {
   "cell_type": "code",
   "execution_count": 49,
   "metadata": {},
   "outputs": [],
   "source": [
    "# kmeans = KMeans(n_clusters=3, random_state=42)\n",
    "# df_users_sampled['cluster'] = kmeans.fit_predict(df_users_sampled[['numberOfClicksHistory', 'timeOnPageHistory']])\n",
    "\n",
    "# # Exibindo clusters dos usuários\n",
    "# print(\"Clusters dos usuários:\")\n",
    "# print(df_users_sampled[['userId', 'cluster']].head())"
   ]
  },
  {
   "cell_type": "code",
   "execution_count": 50,
   "metadata": {},
   "outputs": [
    {
     "data": {
      "text/html": [
       "<div>\n",
       "<style scoped>\n",
       "    .dataframe tbody tr th:only-of-type {\n",
       "        vertical-align: middle;\n",
       "    }\n",
       "\n",
       "    .dataframe tbody tr th {\n",
       "        vertical-align: top;\n",
       "    }\n",
       "\n",
       "    .dataframe thead th {\n",
       "        text-align: right;\n",
       "    }\n",
       "</style>\n",
       "<table border=\"1\" class=\"dataframe\">\n",
       "  <thead>\n",
       "    <tr style=\"text-align: right;\">\n",
       "      <th></th>\n",
       "      <th>userId</th>\n",
       "      <th>userType</th>\n",
       "      <th>history</th>\n",
       "      <th>timestampHistory</th>\n",
       "    </tr>\n",
       "  </thead>\n",
       "  <tbody>\n",
       "    <tr>\n",
       "      <th>31</th>\n",
       "      <td>774b02cc2933f9965beeb972b8ccbc73b422ae5629b7a6...</td>\n",
       "      <td>Logged</td>\n",
       "      <td>df9e72d2-8c0e-4d69-aa89-e38fcb1fece6    b6832e...</td>\n",
       "      <td>[1660655488271 1660655495522]</td>\n",
       "    </tr>\n",
       "    <tr>\n",
       "      <th>78</th>\n",
       "      <td>42fc794baae506a7f52437551b575ec64c888d2833782c...</td>\n",
       "      <td>Logged</td>\n",
       "      <td>d06c8c8c-ed25-4ac7-b4eb-16f711dbb9c0    b19d80...</td>\n",
       "      <td>[1660582117088 1660637425062]</td>\n",
       "    </tr>\n",
       "    <tr>\n",
       "      <th>155</th>\n",
       "      <td>8e051215c10c6b221212e33161abff8183aaabe821dad6...</td>\n",
       "      <td>Logged</td>\n",
       "      <td>a4b081bb-dcc2-49cf-a975-583d59cca0d1    63e0b4...</td>\n",
       "      <td>[1660576231246 1660664660616]</td>\n",
       "    </tr>\n",
       "    <tr>\n",
       "      <th>282</th>\n",
       "      <td>2e47e3a007614db7219e4fc9f33ef2f403b8c2cb44643a...</td>\n",
       "      <td>Logged</td>\n",
       "      <td>c5a47987-c273-409a-ba13-134b906660a8    f52361...</td>\n",
       "      <td>[1660655752266 1660661123504]</td>\n",
       "    </tr>\n",
       "    <tr>\n",
       "      <th>410</th>\n",
       "      <td>dc7cf351da0db5daf7f4751a2d00a394bede88142466a8...</td>\n",
       "      <td>Logged</td>\n",
       "      <td>78996117-18ae-4fc5-8779-acfc8d271ca2</td>\n",
       "      <td>[1660617194601]</td>\n",
       "    </tr>\n",
       "    <tr>\n",
       "      <th>...</th>\n",
       "      <td>...</td>\n",
       "      <td>...</td>\n",
       "      <td>...</td>\n",
       "      <td>...</td>\n",
       "    </tr>\n",
       "    <tr>\n",
       "      <th>111818</th>\n",
       "      <td>fb4251f41f861401dc53ae70dd79b26e06f5ea5ce7326d...</td>\n",
       "      <td>Non-Logged</td>\n",
       "      <td>eac0d074-ca85-4883-8af0-d9b787ec770f</td>\n",
       "      <td>[1660571851482]</td>\n",
       "    </tr>\n",
       "    <tr>\n",
       "      <th>111839</th>\n",
       "      <td>1864d65c5667af2966561265872c9af88610c41471a52b...</td>\n",
       "      <td>Non-Logged</td>\n",
       "      <td>62818cca-7b45-4942-a3db-8c34a52fd4c8</td>\n",
       "      <td>[1660561133513]</td>\n",
       "    </tr>\n",
       "    <tr>\n",
       "      <th>111872</th>\n",
       "      <td>8881f1b6c262bd9863b17dc228ef0fab5886f77161c3be...</td>\n",
       "      <td>Non-Logged</td>\n",
       "      <td>b5320e4f-5759-48db-aa73-f9684f55a528</td>\n",
       "      <td>[1660678716188]</td>\n",
       "    </tr>\n",
       "    <tr>\n",
       "      <th>111966</th>\n",
       "      <td>ae20cb06270c0f3db6207d50d32f817e0accd605198ef1...</td>\n",
       "      <td>Non-Logged</td>\n",
       "      <td>6ceed9c6-265b-48b6-b5ad-4fb26e8f9cbc</td>\n",
       "      <td>[1660672904871]</td>\n",
       "    </tr>\n",
       "    <tr>\n",
       "      <th>112083</th>\n",
       "      <td>d3f824b63d1fff4c61929e7b0b1f479394b4c3e2b7ca7c...</td>\n",
       "      <td>Non-Logged</td>\n",
       "      <td>67f92b83-2d98-4344-aab5-eac6ce4d5fad</td>\n",
       "      <td>[1660689221103]</td>\n",
       "    </tr>\n",
       "  </tbody>\n",
       "</table>\n",
       "<p>963 rows × 4 columns</p>\n",
       "</div>"
      ],
      "text/plain": [
       "                                                   userId    userType  \\\n",
       "31      774b02cc2933f9965beeb972b8ccbc73b422ae5629b7a6...      Logged   \n",
       "78      42fc794baae506a7f52437551b575ec64c888d2833782c...      Logged   \n",
       "155     8e051215c10c6b221212e33161abff8183aaabe821dad6...      Logged   \n",
       "282     2e47e3a007614db7219e4fc9f33ef2f403b8c2cb44643a...      Logged   \n",
       "410     dc7cf351da0db5daf7f4751a2d00a394bede88142466a8...      Logged   \n",
       "...                                                   ...         ...   \n",
       "111818  fb4251f41f861401dc53ae70dd79b26e06f5ea5ce7326d...  Non-Logged   \n",
       "111839  1864d65c5667af2966561265872c9af88610c41471a52b...  Non-Logged   \n",
       "111872  8881f1b6c262bd9863b17dc228ef0fab5886f77161c3be...  Non-Logged   \n",
       "111966  ae20cb06270c0f3db6207d50d32f817e0accd605198ef1...  Non-Logged   \n",
       "112083  d3f824b63d1fff4c61929e7b0b1f479394b4c3e2b7ca7c...  Non-Logged   \n",
       "\n",
       "                                                  history  \\\n",
       "31      df9e72d2-8c0e-4d69-aa89-e38fcb1fece6    b6832e...   \n",
       "78      d06c8c8c-ed25-4ac7-b4eb-16f711dbb9c0    b19d80...   \n",
       "155     a4b081bb-dcc2-49cf-a975-583d59cca0d1    63e0b4...   \n",
       "282     c5a47987-c273-409a-ba13-134b906660a8    f52361...   \n",
       "410                  78996117-18ae-4fc5-8779-acfc8d271ca2   \n",
       "...                                                   ...   \n",
       "111818               eac0d074-ca85-4883-8af0-d9b787ec770f   \n",
       "111839               62818cca-7b45-4942-a3db-8c34a52fd4c8   \n",
       "111872               b5320e4f-5759-48db-aa73-f9684f55a528   \n",
       "111966               6ceed9c6-265b-48b6-b5ad-4fb26e8f9cbc   \n",
       "112083               67f92b83-2d98-4344-aab5-eac6ce4d5fad   \n",
       "\n",
       "                     timestampHistory  \n",
       "31      [1660655488271 1660655495522]  \n",
       "78      [1660582117088 1660637425062]  \n",
       "155     [1660576231246 1660664660616]  \n",
       "282     [1660655752266 1660661123504]  \n",
       "410                   [1660617194601]  \n",
       "...                               ...  \n",
       "111818                [1660571851482]  \n",
       "111839                [1660561133513]  \n",
       "111872                [1660678716188]  \n",
       "111966                [1660672904871]  \n",
       "112083                [1660689221103]  \n",
       "\n",
       "[963 rows x 4 columns]"
      ]
     },
     "execution_count": 50,
     "metadata": {},
     "output_type": "execute_result"
    }
   ],
   "source": [
    "\n",
    "df_validacao[\"userId\"] = df_validacao[\"userId\"].str.strip()\n",
    "df_validacao['history'] = df_validacao['history'].apply(\n",
    "    lambda hist: hist.replace('\\n', ' ')\n",
    "                     .replace(\"'\", ' ')\n",
    "                     .replace(\"[\", ' ')\n",
    "                     .replace(\"]\", ' ')\n",
    "                     .strip() if isinstance(hist, str) else hist\n",
    ")\n",
    "\n",
    "cos_sim_df.index = cos_sim_df.index.str.strip()\n",
    "df_validacao = df_validacao[df_validacao[\"userId\"].isin(cos_sim_df.index)]\n",
    "\n",
    "df_validacao\n"
   ]
  },
  {
   "cell_type": "code",
   "execution_count": 51,
   "metadata": {},
   "outputs": [
    {
     "data": {
      "text/html": [
       "<div>\n",
       "<style scoped>\n",
       "    .dataframe tbody tr th:only-of-type {\n",
       "        vertical-align: middle;\n",
       "    }\n",
       "\n",
       "    .dataframe tbody tr th {\n",
       "        vertical-align: top;\n",
       "    }\n",
       "\n",
       "    .dataframe thead th {\n",
       "        text-align: right;\n",
       "    }\n",
       "</style>\n",
       "<table border=\"1\" class=\"dataframe\">\n",
       "  <thead>\n",
       "    <tr style=\"text-align: right;\">\n",
       "      <th>userId</th>\n",
       "      <th>00182678dd5d1b34b2fdcd9895047534d727bdbfe8a2c9a685b5dbe41b06ec08</th>\n",
       "      <th>001d8e123f6cd5e5268e5145481b79a7cce0bd040cae9cca83e46dca64928a52</th>\n",
       "      <th>00291fc8bb37f717d15510726f6456ee194683ef1db0597052278cc692bee27f</th>\n",
       "      <th>00303f741dd07bd666fb7b28a6f91ec26c7801e3ef19515a55435c9b2d765637</th>\n",
       "      <th>003815bb5fd4e3630767b97ad3878fd817012d26ff637982d03ce676e2473d45</th>\n",
       "      <th>005a263fa9eb634bb2f1fa59adba5eb10436b95e63f2afbcadfa9a665d62bc4d</th>\n",
       "      <th>005a440341464da88516ced0262e7b5980f67e6996a437500589c0f8d9843339</th>\n",
       "      <th>0062a2ad6f5315aba661afffd689165f42d4eb39699f15a557c3952eef87893d</th>\n",
       "      <th>006d2226166f56d91ca9f0547518e314c1baf437d8129b8c2f05679979763f65</th>\n",
       "      <th>00795353f5d395a7e4a60fa75fe51f118c080779150cb4e61e5add850ef16fe0</th>\n",
       "      <th>...</th>\n",
       "      <th>ffaf2bba8524410db873a62300be2a8fa4be7134de5f784a518a3fd0a5a65b7f</th>\n",
       "      <th>ffb6140c9f22dcecfb0d4b198cee8e4800ee9c6cbd943073b6b1de13307b5e49</th>\n",
       "      <th>ffbba239f5833b50d94b28d9921b1320ba50c52c87523e094d8ce2b86a7a0607</th>\n",
       "      <th>ffbfdf2b0ba51cf305b501570ca7c0aa5066565bbd0d9306037bff7606cce0c3</th>\n",
       "      <th>ffd42d2faf86e4dc0d0534749d65f8a524a27b03a5c0760004a7b8b473cae70e</th>\n",
       "      <th>ffd53e49fef1d5c1e74d59bca2192b81e680c747291a20507d819186dde8249c</th>\n",
       "      <th>ffdc918dbcb8a744f87f020fb7a8a572da5816294eb83e567cf68d1639ef4d5f</th>\n",
       "      <th>ffe13a4671353d41f3985d1e8dcf4f4226f52fbb92cd9075f8a609a10f4f5fc8</th>\n",
       "      <th>ffee9934ea6cc18c9555da8d3dedece24409dbf25045e257aa62dcb62d758f70</th>\n",
       "      <th>fffe297d4d14f23bbf4dcc81b530f40478e4d1118f9e6483dc99461ceb3a51e8</th>\n",
       "    </tr>\n",
       "    <tr>\n",
       "      <th>userId</th>\n",
       "      <th></th>\n",
       "      <th></th>\n",
       "      <th></th>\n",
       "      <th></th>\n",
       "      <th></th>\n",
       "      <th></th>\n",
       "      <th></th>\n",
       "      <th></th>\n",
       "      <th></th>\n",
       "      <th></th>\n",
       "      <th></th>\n",
       "      <th></th>\n",
       "      <th></th>\n",
       "      <th></th>\n",
       "      <th></th>\n",
       "      <th></th>\n",
       "      <th></th>\n",
       "      <th></th>\n",
       "      <th></th>\n",
       "      <th></th>\n",
       "      <th></th>\n",
       "    </tr>\n",
       "  </thead>\n",
       "  <tbody>\n",
       "    <tr>\n",
       "      <th>00182678dd5d1b34b2fdcd9895047534d727bdbfe8a2c9a685b5dbe41b06ec08</th>\n",
       "      <td>1.0</td>\n",
       "      <td>0.0</td>\n",
       "      <td>0.0</td>\n",
       "      <td>0.0</td>\n",
       "      <td>0.0</td>\n",
       "      <td>0.0</td>\n",
       "      <td>0.0</td>\n",
       "      <td>0.0</td>\n",
       "      <td>0.0</td>\n",
       "      <td>0.0</td>\n",
       "      <td>...</td>\n",
       "      <td>0.0</td>\n",
       "      <td>0.0</td>\n",
       "      <td>0.0</td>\n",
       "      <td>0.0</td>\n",
       "      <td>0.0</td>\n",
       "      <td>0.0</td>\n",
       "      <td>0.0</td>\n",
       "      <td>0.0</td>\n",
       "      <td>0.0</td>\n",
       "      <td>0.0</td>\n",
       "    </tr>\n",
       "    <tr>\n",
       "      <th>001d8e123f6cd5e5268e5145481b79a7cce0bd040cae9cca83e46dca64928a52</th>\n",
       "      <td>0.0</td>\n",
       "      <td>1.0</td>\n",
       "      <td>0.0</td>\n",
       "      <td>0.0</td>\n",
       "      <td>0.0</td>\n",
       "      <td>0.0</td>\n",
       "      <td>0.0</td>\n",
       "      <td>0.0</td>\n",
       "      <td>0.0</td>\n",
       "      <td>0.0</td>\n",
       "      <td>...</td>\n",
       "      <td>0.0</td>\n",
       "      <td>0.0</td>\n",
       "      <td>0.0</td>\n",
       "      <td>0.0</td>\n",
       "      <td>0.0</td>\n",
       "      <td>0.0</td>\n",
       "      <td>0.0</td>\n",
       "      <td>0.0</td>\n",
       "      <td>0.0</td>\n",
       "      <td>0.0</td>\n",
       "    </tr>\n",
       "    <tr>\n",
       "      <th>00291fc8bb37f717d15510726f6456ee194683ef1db0597052278cc692bee27f</th>\n",
       "      <td>0.0</td>\n",
       "      <td>0.0</td>\n",
       "      <td>1.0</td>\n",
       "      <td>0.0</td>\n",
       "      <td>0.0</td>\n",
       "      <td>0.0</td>\n",
       "      <td>0.0</td>\n",
       "      <td>0.0</td>\n",
       "      <td>0.0</td>\n",
       "      <td>0.0</td>\n",
       "      <td>...</td>\n",
       "      <td>0.0</td>\n",
       "      <td>0.0</td>\n",
       "      <td>0.0</td>\n",
       "      <td>0.0</td>\n",
       "      <td>0.0</td>\n",
       "      <td>0.0</td>\n",
       "      <td>0.0</td>\n",
       "      <td>0.0</td>\n",
       "      <td>0.0</td>\n",
       "      <td>0.0</td>\n",
       "    </tr>\n",
       "  </tbody>\n",
       "</table>\n",
       "<p>3 rows × 5000 columns</p>\n",
       "</div>"
      ],
      "text/plain": [
       "userId                                              00182678dd5d1b34b2fdcd9895047534d727bdbfe8a2c9a685b5dbe41b06ec08  \\\n",
       "userId                                                                                                                 \n",
       "00182678dd5d1b34b2fdcd9895047534d727bdbfe8a2c9a...                                                1.0                  \n",
       "001d8e123f6cd5e5268e5145481b79a7cce0bd040cae9cc...                                                0.0                  \n",
       "00291fc8bb37f717d15510726f6456ee194683ef1db0597...                                                0.0                  \n",
       "\n",
       "userId                                              001d8e123f6cd5e5268e5145481b79a7cce0bd040cae9cca83e46dca64928a52  \\\n",
       "userId                                                                                                                 \n",
       "00182678dd5d1b34b2fdcd9895047534d727bdbfe8a2c9a...                                                0.0                  \n",
       "001d8e123f6cd5e5268e5145481b79a7cce0bd040cae9cc...                                                1.0                  \n",
       "00291fc8bb37f717d15510726f6456ee194683ef1db0597...                                                0.0                  \n",
       "\n",
       "userId                                              00291fc8bb37f717d15510726f6456ee194683ef1db0597052278cc692bee27f  \\\n",
       "userId                                                                                                                 \n",
       "00182678dd5d1b34b2fdcd9895047534d727bdbfe8a2c9a...                                                0.0                  \n",
       "001d8e123f6cd5e5268e5145481b79a7cce0bd040cae9cc...                                                0.0                  \n",
       "00291fc8bb37f717d15510726f6456ee194683ef1db0597...                                                1.0                  \n",
       "\n",
       "userId                                              00303f741dd07bd666fb7b28a6f91ec26c7801e3ef19515a55435c9b2d765637  \\\n",
       "userId                                                                                                                 \n",
       "00182678dd5d1b34b2fdcd9895047534d727bdbfe8a2c9a...                                                0.0                  \n",
       "001d8e123f6cd5e5268e5145481b79a7cce0bd040cae9cc...                                                0.0                  \n",
       "00291fc8bb37f717d15510726f6456ee194683ef1db0597...                                                0.0                  \n",
       "\n",
       "userId                                              003815bb5fd4e3630767b97ad3878fd817012d26ff637982d03ce676e2473d45  \\\n",
       "userId                                                                                                                 \n",
       "00182678dd5d1b34b2fdcd9895047534d727bdbfe8a2c9a...                                                0.0                  \n",
       "001d8e123f6cd5e5268e5145481b79a7cce0bd040cae9cc...                                                0.0                  \n",
       "00291fc8bb37f717d15510726f6456ee194683ef1db0597...                                                0.0                  \n",
       "\n",
       "userId                                              005a263fa9eb634bb2f1fa59adba5eb10436b95e63f2afbcadfa9a665d62bc4d  \\\n",
       "userId                                                                                                                 \n",
       "00182678dd5d1b34b2fdcd9895047534d727bdbfe8a2c9a...                                                0.0                  \n",
       "001d8e123f6cd5e5268e5145481b79a7cce0bd040cae9cc...                                                0.0                  \n",
       "00291fc8bb37f717d15510726f6456ee194683ef1db0597...                                                0.0                  \n",
       "\n",
       "userId                                              005a440341464da88516ced0262e7b5980f67e6996a437500589c0f8d9843339  \\\n",
       "userId                                                                                                                 \n",
       "00182678dd5d1b34b2fdcd9895047534d727bdbfe8a2c9a...                                                0.0                  \n",
       "001d8e123f6cd5e5268e5145481b79a7cce0bd040cae9cc...                                                0.0                  \n",
       "00291fc8bb37f717d15510726f6456ee194683ef1db0597...                                                0.0                  \n",
       "\n",
       "userId                                              0062a2ad6f5315aba661afffd689165f42d4eb39699f15a557c3952eef87893d  \\\n",
       "userId                                                                                                                 \n",
       "00182678dd5d1b34b2fdcd9895047534d727bdbfe8a2c9a...                                                0.0                  \n",
       "001d8e123f6cd5e5268e5145481b79a7cce0bd040cae9cc...                                                0.0                  \n",
       "00291fc8bb37f717d15510726f6456ee194683ef1db0597...                                                0.0                  \n",
       "\n",
       "userId                                              006d2226166f56d91ca9f0547518e314c1baf437d8129b8c2f05679979763f65  \\\n",
       "userId                                                                                                                 \n",
       "00182678dd5d1b34b2fdcd9895047534d727bdbfe8a2c9a...                                                0.0                  \n",
       "001d8e123f6cd5e5268e5145481b79a7cce0bd040cae9cc...                                                0.0                  \n",
       "00291fc8bb37f717d15510726f6456ee194683ef1db0597...                                                0.0                  \n",
       "\n",
       "userId                                              00795353f5d395a7e4a60fa75fe51f118c080779150cb4e61e5add850ef16fe0  \\\n",
       "userId                                                                                                                 \n",
       "00182678dd5d1b34b2fdcd9895047534d727bdbfe8a2c9a...                                                0.0                  \n",
       "001d8e123f6cd5e5268e5145481b79a7cce0bd040cae9cc...                                                0.0                  \n",
       "00291fc8bb37f717d15510726f6456ee194683ef1db0597...                                                0.0                  \n",
       "\n",
       "userId                                              ...  \\\n",
       "userId                                              ...   \n",
       "00182678dd5d1b34b2fdcd9895047534d727bdbfe8a2c9a...  ...   \n",
       "001d8e123f6cd5e5268e5145481b79a7cce0bd040cae9cc...  ...   \n",
       "00291fc8bb37f717d15510726f6456ee194683ef1db0597...  ...   \n",
       "\n",
       "userId                                              ffaf2bba8524410db873a62300be2a8fa4be7134de5f784a518a3fd0a5a65b7f  \\\n",
       "userId                                                                                                                 \n",
       "00182678dd5d1b34b2fdcd9895047534d727bdbfe8a2c9a...                                                0.0                  \n",
       "001d8e123f6cd5e5268e5145481b79a7cce0bd040cae9cc...                                                0.0                  \n",
       "00291fc8bb37f717d15510726f6456ee194683ef1db0597...                                                0.0                  \n",
       "\n",
       "userId                                              ffb6140c9f22dcecfb0d4b198cee8e4800ee9c6cbd943073b6b1de13307b5e49  \\\n",
       "userId                                                                                                                 \n",
       "00182678dd5d1b34b2fdcd9895047534d727bdbfe8a2c9a...                                                0.0                  \n",
       "001d8e123f6cd5e5268e5145481b79a7cce0bd040cae9cc...                                                0.0                  \n",
       "00291fc8bb37f717d15510726f6456ee194683ef1db0597...                                                0.0                  \n",
       "\n",
       "userId                                              ffbba239f5833b50d94b28d9921b1320ba50c52c87523e094d8ce2b86a7a0607  \\\n",
       "userId                                                                                                                 \n",
       "00182678dd5d1b34b2fdcd9895047534d727bdbfe8a2c9a...                                                0.0                  \n",
       "001d8e123f6cd5e5268e5145481b79a7cce0bd040cae9cc...                                                0.0                  \n",
       "00291fc8bb37f717d15510726f6456ee194683ef1db0597...                                                0.0                  \n",
       "\n",
       "userId                                              ffbfdf2b0ba51cf305b501570ca7c0aa5066565bbd0d9306037bff7606cce0c3  \\\n",
       "userId                                                                                                                 \n",
       "00182678dd5d1b34b2fdcd9895047534d727bdbfe8a2c9a...                                                0.0                  \n",
       "001d8e123f6cd5e5268e5145481b79a7cce0bd040cae9cc...                                                0.0                  \n",
       "00291fc8bb37f717d15510726f6456ee194683ef1db0597...                                                0.0                  \n",
       "\n",
       "userId                                              ffd42d2faf86e4dc0d0534749d65f8a524a27b03a5c0760004a7b8b473cae70e  \\\n",
       "userId                                                                                                                 \n",
       "00182678dd5d1b34b2fdcd9895047534d727bdbfe8a2c9a...                                                0.0                  \n",
       "001d8e123f6cd5e5268e5145481b79a7cce0bd040cae9cc...                                                0.0                  \n",
       "00291fc8bb37f717d15510726f6456ee194683ef1db0597...                                                0.0                  \n",
       "\n",
       "userId                                              ffd53e49fef1d5c1e74d59bca2192b81e680c747291a20507d819186dde8249c  \\\n",
       "userId                                                                                                                 \n",
       "00182678dd5d1b34b2fdcd9895047534d727bdbfe8a2c9a...                                                0.0                  \n",
       "001d8e123f6cd5e5268e5145481b79a7cce0bd040cae9cc...                                                0.0                  \n",
       "00291fc8bb37f717d15510726f6456ee194683ef1db0597...                                                0.0                  \n",
       "\n",
       "userId                                              ffdc918dbcb8a744f87f020fb7a8a572da5816294eb83e567cf68d1639ef4d5f  \\\n",
       "userId                                                                                                                 \n",
       "00182678dd5d1b34b2fdcd9895047534d727bdbfe8a2c9a...                                                0.0                  \n",
       "001d8e123f6cd5e5268e5145481b79a7cce0bd040cae9cc...                                                0.0                  \n",
       "00291fc8bb37f717d15510726f6456ee194683ef1db0597...                                                0.0                  \n",
       "\n",
       "userId                                              ffe13a4671353d41f3985d1e8dcf4f4226f52fbb92cd9075f8a609a10f4f5fc8  \\\n",
       "userId                                                                                                                 \n",
       "00182678dd5d1b34b2fdcd9895047534d727bdbfe8a2c9a...                                                0.0                  \n",
       "001d8e123f6cd5e5268e5145481b79a7cce0bd040cae9cc...                                                0.0                  \n",
       "00291fc8bb37f717d15510726f6456ee194683ef1db0597...                                                0.0                  \n",
       "\n",
       "userId                                              ffee9934ea6cc18c9555da8d3dedece24409dbf25045e257aa62dcb62d758f70  \\\n",
       "userId                                                                                                                 \n",
       "00182678dd5d1b34b2fdcd9895047534d727bdbfe8a2c9a...                                                0.0                  \n",
       "001d8e123f6cd5e5268e5145481b79a7cce0bd040cae9cc...                                                0.0                  \n",
       "00291fc8bb37f717d15510726f6456ee194683ef1db0597...                                                0.0                  \n",
       "\n",
       "userId                                              fffe297d4d14f23bbf4dcc81b530f40478e4d1118f9e6483dc99461ceb3a51e8  \n",
       "userId                                                                                                                \n",
       "00182678dd5d1b34b2fdcd9895047534d727bdbfe8a2c9a...                                                0.0                 \n",
       "001d8e123f6cd5e5268e5145481b79a7cce0bd040cae9cc...                                                0.0                 \n",
       "00291fc8bb37f717d15510726f6456ee194683ef1db0597...                                                0.0                 \n",
       "\n",
       "[3 rows x 5000 columns]"
      ]
     },
     "execution_count": 51,
     "metadata": {},
     "output_type": "execute_result"
    }
   ],
   "source": [
    "cos_sim_df.head(3)"
   ]
  },
  {
   "cell_type": "markdown",
   "metadata": {},
   "source": [
    "##### Função para calcular a precisão das recomendações"
   ]
  },
  {
   "cell_type": "code",
   "execution_count": 52,
   "metadata": {},
   "outputs": [],
   "source": [
    "def evaluate_recommendations(recommended_articles, history):\n",
    "    # print(f\"recommended_articles: {recommended_articles}\")\n",
    "    # print(f\"history: {history}\")\n",
    "\n",
    "    # Verifica se history é um array NumPy e converte para lista\n",
    "    if isinstance(history, np.ndarray):\n",
    "        history = history.tolist()  # Converte array NumPy para lista normal\n",
    "    \n",
    "    # Verifica se history é uma string concatenada em vez de uma lista real\n",
    "    if isinstance(history, str):\n",
    "        history = history.strip(\"[]\").replace(\"'\", \"\").split()\n",
    "        \n",
    "    # print(type(history))\n",
    "    relevant_articles = [article.strip().lower() for article in history]\n",
    "    # print(relevant_articles)\n",
    "    \n",
    "    \n",
    "    recommended_articles = [article.strip().lower() for article in recommended_articles]\n",
    "    correct_recommendations = len(set(recommended_articles).intersection(set(relevant_articles)))\n",
    "    total_recommendations = len(recommended_articles)\n",
    "    return correct_recommendations, total_recommendations"
   ]
  },
  {
   "cell_type": "code",
   "execution_count": 53,
   "metadata": {},
   "outputs": [
    {
     "data": {
      "text/plain": [
       "(963, 4)"
      ]
     },
     "execution_count": 53,
     "metadata": {},
     "output_type": "execute_result"
    }
   ],
   "source": [
    "df_validacao.shape"
   ]
  },
  {
   "cell_type": "markdown",
   "metadata": {},
   "source": [
    "##### Recomendações para usuários de validação"
   ]
  },
  {
   "cell_type": "code",
   "execution_count": 54,
   "metadata": {},
   "outputs": [],
   "source": [
    "correct_recommendations = 0\n",
    "total_recommendations = 0\n",
    "\n",
    "for _, row in df_validacao.iterrows():\n",
    "    user_id = row['userId']\n",
    "    # print(user_id)\n",
    "    # Verificar se o user_id está presente no cos_sim_df (índice)\n",
    "    if user_id not in cos_sim_df.index:\n",
    "        print(f\"❌ O userId {user_id} não está presente na matriz de similaridade.\")\n",
    "        continue  # Pula o usuário se não estiver no cos_sim_df\n",
    "\n",
    "    # Usuários similares\n",
    "    user_similarity = cos_sim_df.loc[user_id]\n",
    "    # print(user_similarity)\n",
    "    similar_users = user_similarity.sort_values(ascending=False).index[1:3]\n",
    "    # print(similar_users)\n",
    "\n",
    "    # Artigos recomendados\n",
    "    # recommended_articles = []\n",
    "    # for similar_user in similar_users:\n",
    "    #     similar_user_articles = df_interactions[df_interactions['userId'] == similar_user]['page']\n",
    "    #     recommended_articles.extend(similar_user_articles)\n",
    "\n",
    "    recommended_articles = {\n",
    "        article.strip() for similar_user in similar_users\n",
    "        for article in df_interactions[df_interactions['userId'] == similar_user]['page']\n",
    "    }\n",
    "    # Removendo duplicatas\n",
    "    recommended_articles = list(recommended_articles)\n",
    "\n",
    "    # Avaliar precisão das recomendações\n",
    "    correct, total = evaluate_recommendations(recommended_articles, row['history'])\n",
    "    correct_recommendations += correct\n",
    "    total_recommendations += total"
   ]
  },
  {
   "cell_type": "markdown",
   "metadata": {},
   "source": [
    "##### Calculando a precisão das recomendações"
   ]
  },
  {
   "cell_type": "code",
   "execution_count": 55,
   "metadata": {},
   "outputs": [
    {
     "name": "stdout",
     "output_type": "stream",
     "text": [
      "correct_recommendations: 209\n",
      "total_recommendations: 374559\n",
      "✅ Precisão das recomendações: 0.000558\n"
     ]
    }
   ],
   "source": [
    "print(f\"correct_recommendations: {correct_recommendations}\")\n",
    "print(f\"total_recommendations: {total_recommendations}\")\n",
    "precision = correct_recommendations / total_recommendations if total_recommendations > 0 else 0\n",
    "print(f\"✅ Precisão das recomendações: {precision:.6f}\")"
   ]
  },
  {
   "cell_type": "code",
   "execution_count": 56,
   "metadata": {},
   "outputs": [
    {
     "name": "stdout",
     "output_type": "stream",
     "text": [
      "Usuários mais similares ao usuário c196609069bdb5a080bdc889d71028674e580318f0bd6c1bcc869ee0e632a735:\n",
      "Index(['ac5ced0ff05fef6681f246a4a2703e38fbb76009ddc7c58632d5c35d83050da3',\n",
      "       'ac35f2157929adc7128d6309da6ad34e9f0d9483b00143b598afacddcd78d129',\n",
      "       'ac29f3dcb11736a2ca4df2a1071b8e8bb20b7c1e83b97fe18c669fe767f86d0e',\n",
      "       'ac28b85fb23da7b4c32ffb8adef475078382ee265f783e9001ac00f0c513ee3a',\n",
      "       'ac18e45fb2f8b5ef362abc2c365005e602b7786651b0652400ab761ed8a1d88f',\n",
      "       'ac0631ac8052e2dc17390159b003ab5acdbe061e851432911b636a1eec2d1b1a',\n",
      "       'abf7d8705bc6b4e1244d82a2afece0724926e523f097616c19029a1e40297b7b',\n",
      "       'abf47a3e9a9410f4770ec494ee6b98ea1b4841f0d52bdeebf262ba68a743bffd',\n",
      "       'abd5af7165511c280e238297d8b5838bcbf5adbb983665daa0e2c0b8850382bb'],\n",
      "      dtype='object', name='userId')\n"
     ]
    }
   ],
   "source": [
    "# Recomendações para um usuário logado\n",
    "user_id = df_users_sampled['userId'].iloc[0]  # Exemplo de usuário logado (pode ser qualquer userId)\n",
    "user_similarity = cos_sim_df[user_id]\n",
    "similar_users = user_similarity.sort_values(ascending=False).index[1:3]\n",
    "print(f\"Usuários mais similares ao usuário {user_id}:\")\n",
    "print(similar_users)"
   ]
  },
  {
   "cell_type": "markdown",
   "metadata": {},
   "source": [
    "##### Sugestões de artigos baseadas em similaridade (para o usuário logado)\n"
   ]
  },
  {
   "cell_type": "code",
   "execution_count": 57,
   "metadata": {},
   "outputs": [],
   "source": [
    "recommended_articles = []\n",
    "for similar_user in similar_users:\n",
    "    similar_user_articles = df_interactions[df_interactions['userId'] == similar_user]['page']\n",
    "    recommended_articles.extend(similar_user_articles)"
   ]
  },
  {
   "cell_type": "code",
   "execution_count": 58,
   "metadata": {},
   "outputs": [
    {
     "name": "stdout",
     "output_type": "stream",
     "text": [
      "Artigos recomendados:\n",
      "['6b6635bb-d15a-4698-97b2-f3f25be0d019', '533b3efd-b7d4-418e-92a9-0a1d88440963', 'ebc00bed-3e2e-45d3-8a9b-0ce430f30d0f', '727213de-82b8-41b6-9296-2c2ee095c001', '07d86b0a-993d-4f78-8437-c1eadd2b3c46', 'eaf9c665-560e-4bca-9574-983f2e11264a', 'eb538002-709e-4054-9a68-8808aa5d5678', 'e065162f-baf3-4d42-a6d9-5acdb981b37f', '325cb5b1-8e3b-464c-8d13-2bf4748d2c89', '85beb942-01d5-44ce-a5aa-296139c73667', '362d282e-5d9d-4691-86a6-21bcac0703d7', '13f2cc37-f575-44d5-b33f-045d0b0a912b', '7fe849c0-4a55-429d-b480-11ee216909dd', '76844ba9-6ab4-4397-aeb9-7bab8df2f95d', 'a3a2b2fd-9ae8-4fcf-bbd9-7db104411fcc', '139c9e4d-b7eb-43d0-b2fc-1cb230f0adc8', '78f442cc-1fb3-4bf0-a9c7-ab6cf5a73526', '6db754a3-73b8-4ffa-895f-a03725486bff', '2ad4930b-bd99-4884-9c07-12cc46f53417', '6452a218-de3c-4511-b482-d58f26b7ecda', '1870371b-1bec-465d-9213-0f9b3162dfad', '882e7c95-935a-4eab-9ece-f85f5f7d0f4e', '39959832-be7e-4420-94ab-9244f409bfe9', 'cbd5caa8-568d-408e-909f-056c32d6b75a', 'c2d694c1-f651-4489-829b-e8d1b5830e7c', 'b572f38f-9b7b-4259-8b10-9928b77b36ed', 'a2809ff2-a9e1-43ea-8977-283eaa14a1d7', '7a01fdb1-c5c0-4833-a252-8593f91eed3d', '7caf0079-a39e-4f7d-9d5b-7f8d8a625f2f', 'd3ebd3fc-60d4-4150-a65b-60e9dad71da5', '4a108326-b19d-42ce-94f6-807abf6e4679', 'fcbb2ebd-7aab-4a39-b0fa-bfcc56fcb5b4', '0e63f228-3f5f-4883-a851-d557a36c603a', 'd973bcc5-eb9d-4c11-8017-c88828858da4', '067c8bfe-9416-4c27-a7a5-537065ed6cc6', 'd6c6e4c7-489b-414f-a22e-41b63b4b8fdd', 'c407cdec-cf95-480c-a0f6-9a34ae66cf54', '399c1321-5d2b-494e-9025-2ba2b8b56117', '5e32085f-3c20-42ee-b996-8ffbfb629006', '60bb12c1-37e9-418b-b1ac-42c46af0e972', '15b0300a-0a3c-4eef-b308-592d705160e3', '1b696f79-19f8-4524-a3b2-8c67dc455601', '45a4ed6e-4f6e-4fd4-8997-864b3a68c85c', 'd694725b-ecbc-4139-8a70-1b80b3893897', '5dc238f3-93be-4fbe-ab76-ec09c9cdcbd3', 'c4a64d0d-09b8-4f82-8e32-4d2ec6067226', '8d0a8515-4ec2-419e-b591-9615c96ea589', 'e0481203-5791-40c7-81bb-55cc1973f7bf', 'a36c0493-9523-4b7b-a765-e5c537c90855', '15281e10-e6bc-48bc-9b1b-94402f83699b', '83ebda93-e1cf-422d-ae6b-18298c55ed8e', '2ecaf33f-aacb-4c4f-be75-c14d4c042d82', '1f2b9c2f-a2d2-4192-b009-09065da8ec23', 'f9d38350-6017-4ecb-8d4d-093017379734', 'e2a81417-e811-46a4-b26e-f77c1c836046', '3ff8a6a9-666b-420c-8d0b-a9b2e7e25a34', '9bc6f6fa-94fc-4748-b4ff-40aaa6c4f525', 'e5185368-70f8-4998-a738-ca22f300da7b', '68bc8994-ebef-4e48-8478-e7fe1619ae58', 'b452bdf0-e8ee-4cab-9b71-cf46e4aaf4d5', '0e4e09a8-7a88-4758-a3f2-d0dce43df4c1', 'dd3babeb-856a-43ad-8c2d-5aa6695b9173', '2e5091f7-9c9b-43bc-9381-23326c237dd7', '6867c681-1abc-43ae-97aa-7015ea14b226', '119c9753-fd82-422b-b6d1-e255cfbc5d42', 'e41d9ce2-4ed4-4c85-ad07-304a9159b6ed', 'd74bceda-cfb6-4746-af8a-4128b92cef51', 'd57cd3fc-5185-4b29-8a85-c2f04bf6921c', '0d1d4743-a5a8-453b-b39a-90ef48f6f08d', 'b79a9385-ab79-4949-a953-2320bfb28bc0', 'b2e0fc5f-b999-4cda-b004-5e7da2430ba0', '949a81ac-5df1-4e7b-9f4e-e364b5603e68', '50fd5c91-b5f3-4396-88d1-8f9ce82ac622', '21de16a9-3de8-4619-85c9-7c7f78f8e0fd', '6cd7c6cf-f6f9-42a6-a7ba-de77e84b8abc', 'd031af1b-f939-47c1-a589-e6d691b66d91', '5af99ef3-adff-464d-9976-5c5d6391b014', '33076f85-396b-4fed-88b1-526284a755b2', '97c00ceb-20e2-455e-b706-9a720e9b32d2', 'dfaa73f1-a591-43fc-ac1f-240708c0ef5f', 'fec5cf7f-1039-43b2-8eee-e51c642f3b62', 'af617145-c750-4973-81eb-a1ff00e6ed1c', '1045a19a-a686-47b8-aa54-33c1063613d6', '048be13a-d1a4-4c55-9fb5-952818b9bead', 'e22473a3-7a8a-46cb-8c86-1bda7a5c70de', '0a2929fe-5880-49db-bb0f-aef811e39247', '5ecc4b24-ff5d-4f8c-8449-53de3b34d213', 'a9cc72b2-936a-4810-94ef-a26466cd5fc7', 'f4e179e7-d4d2-416f-8997-51f421bcab2d', '053f8aeb-8d1e-4ab8-8bfe-33ab5172b48e', '6c7114b8-19fd-4bdc-95aa-48f8466a4ad2', '794a21f8-f679-4de0-bbc5-1060e15bda67', '02e4c8f2-12ac-45bd-82ee-06db6fa15b50', 'd2593c3d-2347-40d9-948c-b6065e8459a9', '1ca0b64a-8bb4-4a2b-b3d0-af935960bf15', '2e735dd9-49fc-472f-b724-aa236936546f', 'f6b5d170-48b9-4f8e-88d4-c84b6668f3bd', '5d8388f3-736d-451b-a794-d826453e12e1', '4dfa6150-96e9-4355-835c-dcefefffca17', 'fa571e66-a5b4-448f-905f-59e398a673b5', 'be57fa17-972a-46b7-bb25-ba2346e6b7e6', '91e6acfa-e8a0-41bc-8ecf-2d79b35f742c', 'c0295c4f-6d99-4c8c-b6e8-277fc16c9fe6', '08fa440a-0d26-4405-b143-6960eefdd4c2', 'e344fb2b-a1d7-4e50-b236-ec39bd40b092', 'a9edcef3-47c9-4be0-803d-6350d045a78b', 'e4eb27bd-3130-415f-9d80-0d7e57cf874a', 'adbbbbb3-8db3-41cd-9cb3-4e445ebb8353', 'faec7707-99a5-406d-a1ea-f10df6ee1c06', '22bb0455-6973-40f3-97eb-579f6661317c', '837a56ff-9852-49a5-a0e2-e03e6cb4fb7c', 'e1b45ea0-7cb8-40f4-b016-e24c2c2338d7', '9f625b37-0758-4f23-ad93-fbc8d508b36f', 'ce99e2fb-769f-46c2-8bdf-7a71162ac2df', '3901a861-007c-45ad-94ac-c635d8663696', '4487047a-46a9-454b-94a3-1bd6f4b660e9', '5ad189e3-77e6-4c5e-9eed-8979ba58e283', 'a94ec35e-0ef4-4b83-ac96-034d409c82e0', '38df5ad1-22c3-4dce-82b0-fddcb8982f0b', '438a9adf-cb5c-4674-80b4-ffeea513de5a', '6a83890a-d9e9-4f6b-a6c6-90d031785bbf', 'cd550092-66e3-4156-a8ba-e842d03e4a50', '3b1be2b3-8b19-4bb1-a516-a18d0877fa47', 'f0f33418-5a4d-4fe6-8ba4-c65eff7c041f', 'a93d9c56-f689-4b2f-ac87-fbc3774d357b', 'e8fc4f0d-6d18-4690-824e-4869a1d2d12d', '42106052-388f-4824-bca4-1e9c8f6ff7c0', '9dbe92be-46cf-4429-b113-fdd5a2c1a2ec', '7430a734-80f7-47c5-a880-2db4a7308e88', 'cec08bf9-4f41-4cbf-88da-bd1643c99b21', 'ca35decb-6955-44b5-b2fa-eb4529c3cb5c', '1adc013a-282a-4cf4-b402-673e469e6c50', '29debb87-6d66-4aa1-a7e1-7c8f023f9811', '0458efca-6f84-4223-bb16-68096059b07b', 'd4efc426-0590-4ad3-b8c0-26deee7ffa08', '2008f497-c05f-49e0-88dd-86aa1e395f15', '05606e8a-4053-4683-ab95-3903bb2d4efd', '106e6c31-5aa8-4d21-8d76-2fd90d35dba1', '7b056bf6-c232-46bd-8903-59145ff7ce46', 'deb4f0ad-1fec-4c25-832f-f0607c9add95', 'dd51da73-e948-4f9d-857a-123712fe67d7', '2ed69f85-5012-492f-9f29-3fc0f3acfc45', '230d19cf-28f8-459a-ad3a-da60aa640639', '103d6a28-72fb-4569-9099-5cda1a3051e4', 'ffeea3a6-d969-4a9a-baf0-101da68da3f9', 'a4c6c4ba-0143-47a3-832f-3f6cc1235cc8', '5b82930f-fdd7-4e5e-b720-8b1b8eb709d8', '750ec729-cd61-4227-85fe-a1e0ebbf7d50', '411fb886-2e1b-42df-a22e-f606c9d95cc3', 'ad4b88a5-3018-4770-93dc-ce4c0f530fca', '21532265-cfd0-4301-a58d-dd615d0189d6', 'cdcf9e9c-e109-4948-b85c-ea0348896569', '7ec2c45e-8068-45f3-8f46-251177001afb', '30b7da3a-541c-42f0-972b-bd752d2d2e76', '939e5666-9049-4aec-8e93-f8f620abe00e', 'e93f13f3-466e-4a34-8cb3-09460b909d29', 'e8dcc786-8c0f-4c15-ac5e-ba8c8197028a', 'b983ec13-6581-4a89-a800-ab2bffc1fcbe', 'c963b3af-46f5-40f7-a918-aebdfe46a653', '914d9dab-f8de-4a70-bf5d-daefd075e803', '6051f09f-0a45-43ad-8077-ebb5c8064dad', 'c4789e51-c882-44e9-b133-2d435af16d54', 'dcafd475-09f7-4574-8c9c-d6e6636f7cd4', '1f66582e-61a0-4fe7-96ed-f91a2751786f', '12c44ec3-3624-4c0d-990d-27c38e7a5848', '7ccdee1e-c91a-4c93-8bca-d671cab1ee1c', '99f4a710-c0c3-463e-909f-2a1665c7f6c7', '0e69fd2a-7bf7-487b-8da0-6e41a7950fd4', '10b18278-ada7-4c1c-b2b5-dca47e32ed97', '248757b0-a2a7-4f5f-b9eb-3f009a596360', '9641e073-c9f4-49c2-855f-dc11353f9903', 'f87bedc0-2c8a-43eb-adc4-1d67c3a58c11', '8dbab4f7-06d4-447b-996f-b253f35160b0', '09d074f5-0cc9-4c31-9bb4-bc1c0d315675', 'ea3b1e84-69a9-461a-92b4-8206903def33', 'd22af4c4-3aac-4d42-9eb8-50ad449a8972', 'f38d9b98-70c5-44c2-9a6d-fcee0df331ab', 'c2998f93-bbe1-4c00-85a6-43c287383298', '9baf07f3-9f7a-46df-b59b-dc49e25295bf', 'da11cf8f-1289-47c8-a95b-bd09fccff39b', '97ac6c4c-5b3d-4e36-9816-0791226573e5', '945fe586-7082-4cb4-a915-c1023f56f7ae', '5e0e0692-d30c-4fa2-8da8-3fd00a39290f', '0baa8cd7-1eef-4960-aeb4-4128e58efba3', 'a1a27aa8-6ac4-4ff8-be0d-96b8c286059c', '12c16275-a716-48b9-b563-38401ac5d08f', '9468d948-25cc-49d2-a659-167496e0892a', '001b9bec-b1e2-4df2-9c43-8135627ce4c1', '756f1fd7-703f-4ba3-ac49-a7c9bff1b1ec', '5c822281-ab79-4382-9c01-d7d529e73bfc', 'bf44b8ea-c737-4eec-a51b-01006202f303', 'da06dc6b-5f61-45c7-af19-51f03b4abd92', '6d0dcfb3-9c6c-48a7-9050-401760e89d47', '229b0c82-3957-4d9b-8b61-2da7f4518b56', '55576643-d03c-4c05-9665-561df4783909', '25d54fe7-248b-4e1d-89a1-20b36aba6159', '62ca91ea-80ac-4186-a503-c7875d6e9b55', '8c246d2b-81bd-4c1f-b563-2c905675f984', 'd5715e4f-d795-4520-80b8-cf8898bebea0', '54fd8bf0-d4f2-42f8-89c6-a6d49245954f', '1d9920c9-5f3a-461f-9aed-a5b212fd2a2e', '8e0884e2-50ba-44c0-87b9-d64d913288af', '0dbf4080-7064-4fc7-9beb-16df8f266d44', '913dd22f-3dea-4e50-9ce9-e9081a2dc38a', '0a449219-862a-4184-91c1-9af3bb6755c1', '50028008-aa11-4519-9d75-452c84dd27fb', '2f4708f4-b054-4910-8169-4b6d20b2faa6', '9a9d7eab-eb79-4268-a3e1-da0515ea4815', 'e8c2b07d-525d-4d3d-a166-25f81ee0bc18', 'a73257bc-863d-4dc8-90eb-8c1828d2c2c0', '9e434fae-3183-4d3a-8e1d-00a461e5d7fc', 'b549872a-4781-4319-8328-f164c95b00ce', '0b8f3728-4ef7-40e7-85ac-367d8039bb6d', 'd6d7696e-9bd3-4cb4-9cbd-9e58b9656bd4']\n"
     ]
    }
   ],
   "source": [
    "# Exibindo os artigos recomendados\n",
    "recommended_articles = list(set(recommended_articles))  # Removendo duplicatas\n",
    "recommended_articles = [article.strip() for article in recommended_articles]  # Removendo espaços extras\n",
    "print(\"Artigos recomendados:\")\n",
    "print(recommended_articles)"
   ]
  },
  {
   "cell_type": "code",
   "execution_count": 59,
   "metadata": {},
   "outputs": [
    {
     "name": "stdout",
     "output_type": "stream",
     "text": [
      "Artigos mais populares:\n",
      "                                        page  popularity\n",
      "13221   d2593c3d-2347-40d9-948c-b6065e8459a9         208\n",
      "15610   f6b5d170-48b9-4f8e-88d4-c84b6668f3bd         190\n",
      "6708    6a83890a-d9e9-4f6b-a6c6-90d031785bbf         162\n"
     ]
    }
   ],
   "source": [
    "# Recomendações para usuários não logados: artigos populares\n",
    "popular_articles = df_interactions.groupby('page').size().reset_index(name='popularity')\n",
    "popular_articles = popular_articles.sort_values('popularity', ascending=False)\n",
    "print(\"Artigos mais populares:\")\n",
    "print(popular_articles.head(3))"
   ]
  },
  {
   "cell_type": "code",
   "execution_count": 60,
   "metadata": {},
   "outputs": [],
   "source": [
    "joblib.dump(kmeans, f\"{artifacts_models_path}/kmeans_model.pkl\")\n",
    "\n",
    "# Save cosine similarity matrix\n",
    "with open(f\"{artifacts_models_path}/cos_sim_matrix.pkl\", \"wb\") as f:\n",
    "    pickle.dump(cos_sim_df, f)\n",
    "\n",
    "# Save user and article DataFrames for later use\n",
    "df_users_sampled.to_pickle(f\"{artifacts_models_path}/usuarios_preprocessados.pkl\")\n",
    "df_articles_sampled.to_pickle(f\"{artifacts_models_path}/artigos_preprocessados.pkl\")"
   ]
  }
 ],
 "metadata": {
  "kernelspec": {
   "display_name": ".venv",
   "language": "python",
   "name": "python3"
  },
  "language_info": {
   "codemirror_mode": {
    "name": "ipython",
    "version": 3
   },
   "file_extension": ".py",
   "mimetype": "text/x-python",
   "name": "python",
   "nbconvert_exporter": "python",
   "pygments_lexer": "ipython3",
   "version": "3.12.3"
  }
 },
 "nbformat": 4,
 "nbformat_minor": 2
}
