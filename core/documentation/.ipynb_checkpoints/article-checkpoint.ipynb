{
 "cells": [
  {
   "cell_type": "code",
   "execution_count": 6,
   "metadata": {},
   "outputs": [],
   "source": [
    "import pandas as pd\n",
    "import numpy as np\n",
    "import pickle\n",
    "from sklearn.feature_extraction.text import TfidfVectorizer\n",
    "from sklearn.metrics.pairwise import cosine_similarity\n",
    "from sklearn.metrics.pairwise import linear_kernel\n",
    "import numpy as np\n",
    "import seaborn as sns\n",
    "import matplotlib.pyplot as plt\n",
    "from sklearn.decomposition import TruncatedSVD"
   ]
  },
  {
   "cell_type": "code",
   "execution_count": 7,
   "metadata": {},
   "outputs": [
    {
     "data": {
      "text/html": [
       "<div>\n",
       "<style scoped>\n",
       "    .dataframe tbody tr th:only-of-type {\n",
       "        vertical-align: middle;\n",
       "    }\n",
       "\n",
       "    .dataframe tbody tr th {\n",
       "        vertical-align: top;\n",
       "    }\n",
       "\n",
       "    .dataframe thead th {\n",
       "        text-align: right;\n",
       "    }\n",
       "</style>\n",
       "<table border=\"1\" class=\"dataframe\">\n",
       "  <thead>\n",
       "    <tr style=\"text-align: right;\">\n",
       "      <th></th>\n",
       "      <th>page</th>\n",
       "      <th>url</th>\n",
       "      <th>issued</th>\n",
       "      <th>modified</th>\n",
       "      <th>title</th>\n",
       "      <th>body</th>\n",
       "      <th>caption</th>\n",
       "    </tr>\n",
       "  </thead>\n",
       "  <tbody>\n",
       "    <tr>\n",
       "      <th>0</th>\n",
       "      <td>13db0ab1-eea2-4603-84c4-f40a876c7400</td>\n",
       "      <td>http://g1.globo.com/am/amazonas/noticia/2022/0...</td>\n",
       "      <td>2022-06-18 20:37:45+00:00</td>\n",
       "      <td>2023-04-15 00:02:08+00:00</td>\n",
       "      <td>Caso Bruno e Dom: 3º suspeito tem prisão tempo...</td>\n",
       "      <td>Após audiência de custódia, a Justiça do Amazo...</td>\n",
       "      <td>Jeferson da Silva Lima foi escoltado por agent...</td>\n",
       "    </tr>\n",
       "    <tr>\n",
       "      <th>1</th>\n",
       "      <td>92907b73-5cd3-4184-8d8c-e206aed2bf1c</td>\n",
       "      <td>http://g1.globo.com/pa/santarem-regiao/noticia...</td>\n",
       "      <td>2019-06-20 17:19:52+00:00</td>\n",
       "      <td>2023-06-16 20:19:15+00:00</td>\n",
       "      <td>Linguajar dos santarenos é diferenciado e chei...</td>\n",
       "      <td>Vista aérea de Santarém\\nÁdrio Denner/ AD Prod...</td>\n",
       "      <td>As expressões santarenas não significam apenas...</td>\n",
       "    </tr>\n",
       "    <tr>\n",
       "      <th>2</th>\n",
       "      <td>61e07f64-cddf-46f2-b50c-ea0a39c22050</td>\n",
       "      <td>http://g1.globo.com/mundo/noticia/2022/07/08/e...</td>\n",
       "      <td>2022-07-08 08:55:52+00:00</td>\n",
       "      <td>2023-04-15 04:25:39+00:00</td>\n",
       "      <td>Ex-premiê Shinzo Abe morre após ser baleado no...</td>\n",
       "      <td>Novo vídeo mostra que assassino de Shinzo Abe ...</td>\n",
       "      <td>Ex-primeiro-ministro foi atingido por tiros de...</td>\n",
       "    </tr>\n",
       "    <tr>\n",
       "      <th>3</th>\n",
       "      <td>30e2e6c5-554a-48ed-a35f-6c6691c8ac9b</td>\n",
       "      <td>http://g1.globo.com/politica/noticia/2021/09/0...</td>\n",
       "      <td>2021-09-09 19:06:46+00:00</td>\n",
       "      <td>2023-06-07 17:44:54+00:00</td>\n",
       "      <td>Relator no STF, Fachin vota contra marco tempo...</td>\n",
       "      <td>Relator no STF, Fachin vota contra marco tempo...</td>\n",
       "      <td>Ministro defendeu que posse indígena é diferen...</td>\n",
       "    </tr>\n",
       "    <tr>\n",
       "      <th>4</th>\n",
       "      <td>9dff71eb-b681-40c7-ac8d-68017ac36675</td>\n",
       "      <td>http://g1.globo.com/politica/noticia/2021/09/1...</td>\n",
       "      <td>2021-09-15 19:16:13+00:00</td>\n",
       "      <td>2023-06-07 17:43:39+00:00</td>\n",
       "      <td>\\nApós 2 votos, pedido de vista suspende julga...</td>\n",
       "      <td>Após um pedido de vista (mais tempo para análi...</td>\n",
       "      <td>Pelo marco temporal, índios só podem reivindic...</td>\n",
       "    </tr>\n",
       "  </tbody>\n",
       "</table>\n",
       "</div>"
      ],
      "text/plain": [
       "                                   page  \\\n",
       "0  13db0ab1-eea2-4603-84c4-f40a876c7400   \n",
       "1  92907b73-5cd3-4184-8d8c-e206aed2bf1c   \n",
       "2  61e07f64-cddf-46f2-b50c-ea0a39c22050   \n",
       "3  30e2e6c5-554a-48ed-a35f-6c6691c8ac9b   \n",
       "4  9dff71eb-b681-40c7-ac8d-68017ac36675   \n",
       "\n",
       "                                                 url  \\\n",
       "0  http://g1.globo.com/am/amazonas/noticia/2022/0...   \n",
       "1  http://g1.globo.com/pa/santarem-regiao/noticia...   \n",
       "2  http://g1.globo.com/mundo/noticia/2022/07/08/e...   \n",
       "3  http://g1.globo.com/politica/noticia/2021/09/0...   \n",
       "4  http://g1.globo.com/politica/noticia/2021/09/1...   \n",
       "\n",
       "                      issued                   modified  \\\n",
       "0  2022-06-18 20:37:45+00:00  2023-04-15 00:02:08+00:00   \n",
       "1  2019-06-20 17:19:52+00:00  2023-06-16 20:19:15+00:00   \n",
       "2  2022-07-08 08:55:52+00:00  2023-04-15 04:25:39+00:00   \n",
       "3  2021-09-09 19:06:46+00:00  2023-06-07 17:44:54+00:00   \n",
       "4  2021-09-15 19:16:13+00:00  2023-06-07 17:43:39+00:00   \n",
       "\n",
       "                                               title  \\\n",
       "0  Caso Bruno e Dom: 3º suspeito tem prisão tempo...   \n",
       "1  Linguajar dos santarenos é diferenciado e chei...   \n",
       "2  Ex-premiê Shinzo Abe morre após ser baleado no...   \n",
       "3  Relator no STF, Fachin vota contra marco tempo...   \n",
       "4  \\nApós 2 votos, pedido de vista suspende julga...   \n",
       "\n",
       "                                                body  \\\n",
       "0  Após audiência de custódia, a Justiça do Amazo...   \n",
       "1  Vista aérea de Santarém\\nÁdrio Denner/ AD Prod...   \n",
       "2  Novo vídeo mostra que assassino de Shinzo Abe ...   \n",
       "3  Relator no STF, Fachin vota contra marco tempo...   \n",
       "4  Após um pedido de vista (mais tempo para análi...   \n",
       "\n",
       "                                             caption  \n",
       "0  Jeferson da Silva Lima foi escoltado por agent...  \n",
       "1  As expressões santarenas não significam apenas...  \n",
       "2  Ex-primeiro-ministro foi atingido por tiros de...  \n",
       "3  Ministro defendeu que posse indígena é diferen...  \n",
       "4  Pelo marco temporal, índios só podem reivindic...  "
      ]
     },
     "execution_count": 7,
     "metadata": {},
     "output_type": "execute_result"
    }
   ],
   "source": [
    "# Lista de arquivos CSV\n",
    "appPath = \"../data/itens/itens\"\n",
    "csv_files = [f\"{appPath}/itens-parte1.csv\", f\"{appPath}/itens-parte2.csv\", f\"{appPath}/itens-parte3.csv\"]\n",
    "\n",
    "# Concatenar os CSVs em um único DataFrame\n",
    "df_artigos = pd.concat([pd.read_csv(file) for file in csv_files])\n",
    "\n",
    "# Visualizar as primeiras linhas\n",
    "df_artigos.head()"
   ]
  },
  {
   "cell_type": "code",
   "execution_count": 8,
   "metadata": {},
   "outputs": [],
   "source": [
    "# Criar uma nova coluna combinando título e corpo do artigo\n",
    "df_artigos['text'] = df_artigos['title'].fillna('') + \" \" + df_artigos['body'].fillna('')"
   ]
  },
  {
   "cell_type": "code",
   "execution_count": 9,
   "metadata": {},
   "outputs": [],
   "source": [
    "vectorizer = TfidfVectorizer(max_features=100_000)  # Limit features to reduce memory usage\n",
    "tfidf_matrix = vectorizer.fit_transform(df_artigos['text'])"
   ]
  },
  {
   "cell_type": "code",
   "execution_count": 10,
   "metadata": {},
   "outputs": [],
   "source": [
    "svd = TruncatedSVD(n_components=200, random_state=42)\n",
    "tfidf_reduced = svd.fit_transform(tfidf_matrix)"
   ]
  },
  {
   "cell_type": "code",
   "execution_count": null,
   "metadata": {},
   "outputs": [],
   "source": [
    "cosine_sim = cosine_similarity(tfidf_reduced, dense_output=False)  # Sparse to reduce memory usage"
   ]
  },
  {
   "cell_type": "code",
   "execution_count": 11,
   "metadata": {},
   "outputs": [
    {
     "ename": "KeyboardInterrupt",
     "evalue": "",
     "output_type": "error",
     "traceback": [
      "\u001b[0;31m---------------------------------------------------------------------------\u001b[0m",
      "\u001b[0;31mKeyboardInterrupt\u001b[0m                         Traceback (most recent call last)",
      "Cell \u001b[0;32mIn[11], line 5\u001b[0m\n\u001b[1;32m      2\u001b[0m similar_articles \u001b[38;5;241m=\u001b[39m {}\n\u001b[1;32m      4\u001b[0m \u001b[38;5;28;01mfor\u001b[39;00m idx \u001b[38;5;129;01min\u001b[39;00m \u001b[38;5;28mrange\u001b[39m(tfidf_reduced\u001b[38;5;241m.\u001b[39mshape[\u001b[38;5;241m0\u001b[39m]):  \n\u001b[0;32m----> 5\u001b[0m     sim_scores \u001b[38;5;241m=\u001b[39m \u001b[43mcosine_similarity\u001b[49m\u001b[43m(\u001b[49m\u001b[43mtfidf_reduced\u001b[49m\u001b[43m[\u001b[49m\u001b[43midx\u001b[49m\u001b[43m:\u001b[49m\u001b[43midx\u001b[49m\u001b[38;5;241;43m+\u001b[39;49m\u001b[38;5;241;43m1\u001b[39;49m\u001b[43m]\u001b[49m\u001b[43m,\u001b[49m\u001b[43m \u001b[49m\u001b[43mtfidf_reduced\u001b[49m\u001b[43m)\u001b[49m[\u001b[38;5;241m0\u001b[39m]  \n\u001b[1;32m      6\u001b[0m     top_indices \u001b[38;5;241m=\u001b[39m np\u001b[38;5;241m.\u001b[39margsort(sim_scores)[\u001b[38;5;241m-\u001b[39mTOP_N\u001b[38;5;241m-\u001b[39m\u001b[38;5;241m1\u001b[39m:\u001b[38;5;241m-\u001b[39m\u001b[38;5;241m1\u001b[39m][::\u001b[38;5;241m-\u001b[39m\u001b[38;5;241m1\u001b[39m]  \u001b[38;5;66;03m# Get Top-N most similar\u001b[39;00m\n\u001b[1;32m      8\u001b[0m     similar_articles[df_artigos\u001b[38;5;241m.\u001b[39miloc[idx][\u001b[38;5;124m'\u001b[39m\u001b[38;5;124mpage\u001b[39m\u001b[38;5;124m'\u001b[39m]] \u001b[38;5;241m=\u001b[39m \u001b[38;5;28mlist\u001b[39m(df_artigos\u001b[38;5;241m.\u001b[39miloc[top_indices][\u001b[38;5;124m'\u001b[39m\u001b[38;5;124mpage\u001b[39m\u001b[38;5;124m'\u001b[39m])\n",
      "File \u001b[0;32m~/.local/lib/python3.12/site-packages/sklearn/utils/_param_validation.py:213\u001b[0m, in \u001b[0;36mvalidate_params.<locals>.decorator.<locals>.wrapper\u001b[0;34m(*args, **kwargs)\u001b[0m\n\u001b[1;32m    207\u001b[0m \u001b[38;5;28;01mtry\u001b[39;00m:\n\u001b[1;32m    208\u001b[0m     \u001b[38;5;28;01mwith\u001b[39;00m config_context(\n\u001b[1;32m    209\u001b[0m         skip_parameter_validation\u001b[38;5;241m=\u001b[39m(\n\u001b[1;32m    210\u001b[0m             prefer_skip_nested_validation \u001b[38;5;129;01mor\u001b[39;00m global_skip_validation\n\u001b[1;32m    211\u001b[0m         )\n\u001b[1;32m    212\u001b[0m     ):\n\u001b[0;32m--> 213\u001b[0m         \u001b[38;5;28;01mreturn\u001b[39;00m \u001b[43mfunc\u001b[49m\u001b[43m(\u001b[49m\u001b[38;5;241;43m*\u001b[39;49m\u001b[43margs\u001b[49m\u001b[43m,\u001b[49m\u001b[43m \u001b[49m\u001b[38;5;241;43m*\u001b[39;49m\u001b[38;5;241;43m*\u001b[39;49m\u001b[43mkwargs\u001b[49m\u001b[43m)\u001b[49m\n\u001b[1;32m    214\u001b[0m \u001b[38;5;28;01mexcept\u001b[39;00m InvalidParameterError \u001b[38;5;28;01mas\u001b[39;00m e:\n\u001b[1;32m    215\u001b[0m     \u001b[38;5;66;03m# When the function is just a wrapper around an estimator, we allow\u001b[39;00m\n\u001b[1;32m    216\u001b[0m     \u001b[38;5;66;03m# the function to delegate validation to the estimator, but we replace\u001b[39;00m\n\u001b[1;32m    217\u001b[0m     \u001b[38;5;66;03m# the name of the estimator by the name of the function in the error\u001b[39;00m\n\u001b[1;32m    218\u001b[0m     \u001b[38;5;66;03m# message to avoid confusion.\u001b[39;00m\n\u001b[1;32m    219\u001b[0m     msg \u001b[38;5;241m=\u001b[39m re\u001b[38;5;241m.\u001b[39msub(\n\u001b[1;32m    220\u001b[0m         \u001b[38;5;124mr\u001b[39m\u001b[38;5;124m\"\u001b[39m\u001b[38;5;124mparameter of \u001b[39m\u001b[38;5;124m\\\u001b[39m\u001b[38;5;124mw+ must be\u001b[39m\u001b[38;5;124m\"\u001b[39m,\n\u001b[1;32m    221\u001b[0m         \u001b[38;5;124mf\u001b[39m\u001b[38;5;124m\"\u001b[39m\u001b[38;5;124mparameter of \u001b[39m\u001b[38;5;132;01m{\u001b[39;00mfunc\u001b[38;5;241m.\u001b[39m\u001b[38;5;18m__qualname__\u001b[39m\u001b[38;5;132;01m}\u001b[39;00m\u001b[38;5;124m must be\u001b[39m\u001b[38;5;124m\"\u001b[39m,\n\u001b[1;32m    222\u001b[0m         \u001b[38;5;28mstr\u001b[39m(e),\n\u001b[1;32m    223\u001b[0m     )\n",
      "File \u001b[0;32m~/.local/lib/python3.12/site-packages/sklearn/metrics/pairwise.py:1687\u001b[0m, in \u001b[0;36mcosine_similarity\u001b[0;34m(X, Y, dense_output)\u001b[0m\n\u001b[1;32m   1684\u001b[0m \u001b[38;5;28;01melse\u001b[39;00m:\n\u001b[1;32m   1685\u001b[0m     Y_normalized \u001b[38;5;241m=\u001b[39m normalize(Y, copy\u001b[38;5;241m=\u001b[39m\u001b[38;5;28;01mTrue\u001b[39;00m)\n\u001b[0;32m-> 1687\u001b[0m K \u001b[38;5;241m=\u001b[39m \u001b[43msafe_sparse_dot\u001b[49m\u001b[43m(\u001b[49m\u001b[43mX_normalized\u001b[49m\u001b[43m,\u001b[49m\u001b[43m \u001b[49m\u001b[43mY_normalized\u001b[49m\u001b[38;5;241;43m.\u001b[39;49m\u001b[43mT\u001b[49m\u001b[43m,\u001b[49m\u001b[43m \u001b[49m\u001b[43mdense_output\u001b[49m\u001b[38;5;241;43m=\u001b[39;49m\u001b[43mdense_output\u001b[49m\u001b[43m)\u001b[49m\n\u001b[1;32m   1689\u001b[0m \u001b[38;5;28;01mreturn\u001b[39;00m K\n",
      "File \u001b[0;32m~/.local/lib/python3.12/site-packages/sklearn/utils/extmath.py:161\u001b[0m, in \u001b[0;36msafe_sparse_dot\u001b[0;34m(a, b, dense_output)\u001b[0m\n\u001b[1;32m    157\u001b[0m         d \u001b[38;5;241m=\u001b[39m \u001b[38;5;241m0\u001b[39m \u001b[38;5;28;01mif\u001b[39;00m w \u001b[38;5;129;01mis\u001b[39;00m \u001b[38;5;28;01mNone\u001b[39;00m \u001b[38;5;28;01melse\u001b[39;00m \u001b[38;5;28mfloat\u001b[39m((w \u001b[38;5;241m!=\u001b[39m \u001b[38;5;241m0\u001b[39m)\u001b[38;5;241m.\u001b[39msum()) \u001b[38;5;241m/\u001b[39m w\u001b[38;5;241m.\u001b[39msize\n\u001b[1;32m    158\u001b[0m     \u001b[38;5;28;01mreturn\u001b[39;00m d\n\u001b[0;32m--> 161\u001b[0m \u001b[38;5;28;01mdef\u001b[39;00m \u001b[38;5;21msafe_sparse_dot\u001b[39m(a, b, \u001b[38;5;241m*\u001b[39m, dense_output\u001b[38;5;241m=\u001b[39m\u001b[38;5;28;01mFalse\u001b[39;00m):\n\u001b[1;32m    162\u001b[0m \u001b[38;5;250m    \u001b[39m\u001b[38;5;124;03m\"\"\"Dot product that handle the sparse matrix case correctly.\u001b[39;00m\n\u001b[1;32m    163\u001b[0m \n\u001b[1;32m    164\u001b[0m \u001b[38;5;124;03m    Parameters\u001b[39;00m\n\u001b[0;32m   (...)\u001b[0m\n\u001b[1;32m    186\u001b[0m \u001b[38;5;124;03m           [17, 39, 61]])\u001b[39;00m\n\u001b[1;32m    187\u001b[0m \u001b[38;5;124;03m    \"\"\"\u001b[39;00m\n\u001b[1;32m    188\u001b[0m     \u001b[38;5;28;01mif\u001b[39;00m a\u001b[38;5;241m.\u001b[39mndim \u001b[38;5;241m>\u001b[39m \u001b[38;5;241m2\u001b[39m \u001b[38;5;129;01mor\u001b[39;00m b\u001b[38;5;241m.\u001b[39mndim \u001b[38;5;241m>\u001b[39m \u001b[38;5;241m2\u001b[39m:\n",
      "\u001b[0;31mKeyboardInterrupt\u001b[0m: "
     ]
    }
   ],
   "source": [
    "TOP_N = 10  \n",
    "similar_articles = {\n",
    "    df_artigos.iloc[i]['page']: [\n",
    "        df_artigos.iloc[j]['page'] for j in cosine_sim[i].argsort()[-TOP_N-1:-1][::-1]\n",
    "    ]\n",
    "    for i in range(cosine_sim.shape[0])\n",
    "}"
   ]
  },
  {
   "cell_type": "code",
   "execution_count": null,
   "metadata": {},
   "outputs": [],
   "source": [
    "plt.figure(figsize=(10,6))\n",
    "sns.heatmap(cosine_similarity(tfidf_reduced[:10], tfidf_reduced[:10]), cmap=\"coolwarm\", annot=False)\n",
    "plt.title(\"🔎 Cosine Similarity Matrix (Sample)\")\n",
    "plt.show()"
   ]
  }
 ],
 "metadata": {
  "kernelspec": {
   "display_name": "Python 3",
   "language": "python",
   "name": "python3"
  },
  "language_info": {
   "codemirror_mode": {
    "name": "ipython",
    "version": 3
   },
   "file_extension": ".py",
   "mimetype": "text/x-python",
   "name": "python",
   "nbconvert_exporter": "python",
   "pygments_lexer": "ipython3",
   "version": "3.12.3"
  }
 },
 "nbformat": 4,
 "nbformat_minor": 2
}
